{
 "cells": [
  {
   "cell_type": "markdown",
   "metadata": {},
   "source": [
    "## Теоретическая часть"
   ]
  },
  {
   "cell_type": "markdown",
   "metadata": {},
   "source": [
    "1. Вспомним прошлый вебинар, мы рассматривали User-User рекомендации и Item-Item рекомендации. Чем они отличаются и чем они похожи? Если есть функция item_item_rec(interaction_matrix). Можно ли использовать эту функцию для user_user_rec?  \n",
    "В чем принципиальные отличия item-item рекомендаций от ALS?\n"
   ]
  },
  {
   "cell_type": "markdown",
   "metadata": {},
   "source": [
    "2. Приведите 3 примера весов (те, которых не было на вебинаре: сумма покупок, количество покупок - неинтересно) user-item матрицы для задачи рекомендаций товаров \n"
   ]
  },
  {
   "cell_type": "markdown",
   "metadata": {},
   "source": [
    "3. Какие ограничения есть у ALS? (Тип информации, линейность/нелинейность факторов и т д)\n"
   ]
  },
  {
   "cell_type": "markdown",
   "metadata": {},
   "source": [
    "4. Мы рассматривали bm_25_weight. \n",
    "Опишите, как он работает. Как сделать рекомендации только на основе bm_25? (Можно и нужно пользоваться любыми источниками, приложите на них ссылки). Какие еще способы перевзвешивания user-item матрицы Вы знаете / можете предложить (ещё 2-3 способа)?"
   ]
  },
  {
   "cell_type": "markdown",
   "metadata": {},
   "source": [
    "### 1. "
   ]
  },
  {
   "cell_type": "markdown",
   "metadata": {},
   "source": [
    "И User-User и Item-Item это методики основанные на коллаборативной фильтрации. Сходство их в том, что они используют матрицу интеракций для поиска сходных элементов и на основе этого сходства делают рекомендации (пользователям рекомендуются товары понравившиеся другим пользователям схожим с целевым (user-user), или наоборот - пользователям рекомендуются товары, схожие с товарами, которые пользователь уже купил (item-item)). По сути это один и тот-же метод - просто работающий на по-разному представленных данных. Item-Item rec превращается в User-User rec путем простого транспонирования исходной матрицы интеракций. \n",
    "\n",
    "Оба метода обладают сравнимой мощностью, однако пишут, что Item-Item предпочтителен на исходных выборках меньшего масштаба, а User-User оказывается впереди на более крупных наборах данных. Источник https://www.diva-portal.org/smash/get/diva2:1111865/FULLTEXT01.pdf\n",
    "\n",
    "Принципиальное отличие от ALS наверное в том, что в ALS (хотя тоже является collaborative filtering методом), вычисления не основываются на критерии близости чего-то к чему-то. Сходство в ALS вычисляется, посредством настройки латентных параметров юзеров и товаров с помощью градиентного спуска. В итоге получаются две матрицы которые при перемножении дают исходную полную матрицу интеракций для всех пользователей (в том числе и для тех, интеракции, для которых еще не были известны, для которых нужно сделать рекомендации).. Как-то немного сумбурно, по ощущениям ))"
   ]
  },
  {
   "cell_type": "markdown",
   "metadata": {},
   "source": [
    "### 2."
   ]
  },
  {
   "cell_type": "markdown",
   "metadata": {},
   "source": [
    "1. Количество переходов пользователем на страницу товара (было на вебинаре - но тк я предлагал - использую это :)\n",
    "2. Время проведенное на странице товара (всё же измеряется сейчас)\n",
    "3. Как-то ранжировать источник перехода.. Можно наверное предположить зависимость степени интереса пользователя к товару от того как он попал на страницу. Например organic search - максимальный (искал именно это), а из рекомендательного блока \"также посмотрите\" - ну наверное наименее целевой заход (из любопытства).. возможно немного притянуто за уши, но теоретически можно подумать о таком ранге.."
   ]
  },
  {
   "cell_type": "markdown",
   "metadata": {},
   "source": [
    "### 3."
   ]
  },
  {
   "cell_type": "markdown",
   "metadata": {},
   "source": [
    "Что-то затрудняюсь сказать.. кроме того, что он для implicit данных, ничего в голову не приходит. Но, зная что имплисит можно легко получить из эксплисит данных - так себе ограничение ))"
   ]
  },
  {
   "cell_type": "markdown",
   "metadata": {},
   "source": [
    "### 4."
   ]
  },
  {
   "cell_type": "markdown",
   "metadata": {},
   "source": []
  },
  {
   "cell_type": "markdown",
   "metadata": {},
   "source": [
    "## Практическая часть\n"
   ]
  },
  {
   "cell_type": "code",
   "execution_count": 2,
   "metadata": {},
   "outputs": [],
   "source": [
    "import implicit"
   ]
  },
  {
   "cell_type": "code",
   "execution_count": 75,
   "metadata": {},
   "outputs": [
    {
     "data": {
      "text/html": [
       "<div>\n",
       "<style scoped>\n",
       "    .dataframe tbody tr th:only-of-type {\n",
       "        vertical-align: middle;\n",
       "    }\n",
       "\n",
       "    .dataframe tbody tr th {\n",
       "        vertical-align: top;\n",
       "    }\n",
       "\n",
       "    .dataframe thead th {\n",
       "        text-align: right;\n",
       "    }\n",
       "</style>\n",
       "<table border=\"1\" class=\"dataframe\">\n",
       "  <thead>\n",
       "    <tr style=\"text-align: right;\">\n",
       "      <th></th>\n",
       "      <th>user_id</th>\n",
       "      <th>basket_id</th>\n",
       "      <th>day</th>\n",
       "      <th>item_id</th>\n",
       "      <th>quantity</th>\n",
       "      <th>sales_value</th>\n",
       "      <th>store_id</th>\n",
       "      <th>retail_disc</th>\n",
       "      <th>trans_time</th>\n",
       "      <th>week_no</th>\n",
       "      <th>coupon_disc</th>\n",
       "      <th>coupon_match_disc</th>\n",
       "    </tr>\n",
       "  </thead>\n",
       "  <tbody>\n",
       "    <tr>\n",
       "      <th>0</th>\n",
       "      <td>2375</td>\n",
       "      <td>26984851472</td>\n",
       "      <td>1</td>\n",
       "      <td>1004906</td>\n",
       "      <td>1</td>\n",
       "      <td>1.39</td>\n",
       "      <td>364</td>\n",
       "      <td>-0.6</td>\n",
       "      <td>1631</td>\n",
       "      <td>1</td>\n",
       "      <td>0.0</td>\n",
       "      <td>0.0</td>\n",
       "    </tr>\n",
       "    <tr>\n",
       "      <th>1</th>\n",
       "      <td>2375</td>\n",
       "      <td>26984851472</td>\n",
       "      <td>1</td>\n",
       "      <td>1033142</td>\n",
       "      <td>1</td>\n",
       "      <td>0.82</td>\n",
       "      <td>364</td>\n",
       "      <td>0.0</td>\n",
       "      <td>1631</td>\n",
       "      <td>1</td>\n",
       "      <td>0.0</td>\n",
       "      <td>0.0</td>\n",
       "    </tr>\n",
       "  </tbody>\n",
       "</table>\n",
       "</div>"
      ],
      "text/plain": [
       "   user_id    basket_id  day  item_id  quantity  sales_value  store_id  \\\n",
       "0     2375  26984851472    1  1004906         1         1.39       364   \n",
       "1     2375  26984851472    1  1033142         1         0.82       364   \n",
       "\n",
       "   retail_disc  trans_time  week_no  coupon_disc  coupon_match_disc  \n",
       "0         -0.6        1631        1          0.0                0.0  \n",
       "1          0.0        1631        1          0.0                0.0  "
      ]
     },
     "execution_count": 75,
     "metadata": {},
     "output_type": "execute_result"
    }
   ],
   "source": [
    "# import data\n",
    "# utils functions like in webinar\n",
    "import pandas as pd\n",
    "import numpy as np\n",
    "import matplotlib.pyplot as plt\n",
    "%matplotlib inline\n",
    "\n",
    "# Для работы с матрицами\n",
    "from scipy.sparse import csr_matrix, coo_matrix\n",
    "\n",
    "# Детерминированные алгоритмы\n",
    "from implicit.nearest_neighbours import ItemItemRecommender, CosineRecommender, TFIDFRecommender, BM25Recommender\n",
    "\n",
    "from implicit.als import AlternatingLeastSquares\n",
    "from implicit.nearest_neighbours import bm25_weight, tfidf_weight\n",
    "\n",
    "# Метрики\n",
    "from implicit.evaluation import train_test_split\n",
    "from implicit.evaluation import precision_at_k, mean_average_precision_at_k, AUC_at_k, ndcg_at_k\n",
    "\n",
    "data = pd.read_csv('retail_train.csv')\n",
    "data.head(2)"
   ]
  },
  {
   "cell_type": "code",
   "execution_count": 6,
   "metadata": {},
   "outputs": [],
   "source": [
    "test_size_weeks = 3\n",
    "\n",
    "data_train = data[data['week_no'] < data['week_no'].max() - test_size_weeks]\n",
    "data_test = data[data['week_no'] >= data['week_no'].max() - test_size_weeks]"
   ]
  },
  {
   "cell_type": "code",
   "execution_count": 7,
   "metadata": {},
   "outputs": [],
   "source": [
    "# Так, ну для начала по комментам к прошлому ДЗ немного \"причешем\" датасет"
   ]
  },
  {
   "cell_type": "code",
   "execution_count": 43,
   "metadata": {},
   "outputs": [
    {
     "data": {
      "text/plain": [
       "[6533889, 6534166, 6534178]"
      ]
     },
     "execution_count": 43,
     "metadata": {},
     "output_type": "execute_result"
    }
   ],
   "source": [
    "# Разбираемся с супер-популярным бензином\n",
    "items = data_train.groupby('item_id')['quantity'].sum().reset_index()\n",
    "items.columns = ('item_id', 'sales_sum')\n",
    "items.loc[(items.sales_sum > 10000000)].item_id.tolist()"
   ]
  },
  {
   "cell_type": "code",
   "execution_count": 18,
   "metadata": {},
   "outputs": [
    {
     "data": {
      "text/plain": [
       "user_id\n",
       "3          6949\n",
       "6         92298\n",
       "8         65912\n",
       "13      1153674\n",
       "14       117162\n",
       "         ...   \n",
       "2496     119016\n",
       "2497       4675\n",
       "2498      13142\n",
       "2499     141907\n",
       "2500     224230\n",
       "Name: quantity, Length: 1331, dtype: int64"
      ]
     },
     "execution_count": 18,
     "metadata": {},
     "output_type": "execute_result"
    }
   ],
   "source": [
    "# Проверяем сколько пользователей реально это покупало..\n",
    "data_train.loc[data_train['item_id'].isin((6534178, 6534166, 6533889))].groupby('user_id')['quantity'].sum()"
   ]
  },
  {
   "cell_type": "code",
   "execution_count": null,
   "metadata": {},
   "outputs": [],
   "source": [
    "# Хмм. довольно много народу - получается реально такой \"ходовой товар\". \n",
    "# Идея выкинуть его из рекомендаций меня все же не покидает. Но тут вопрос - вот мы его поместим в filtered и\n",
    "# И допустим улучшим качество реальных рекомендаций, скажем по причине его популярности, \"его и так купят\"\n",
    "# А это ухудшит нам метрику (поскольку в тестовых данных люди его покупали - а мы его не рекомендуем)\n",
    "# Вот это меня беспокоит - мы же разрабатывая модель будем на метрику ориентироваться в первую очередь. \n",
    "# И в здравом уме не выберем вариант, где эта метрика - хуже.\n",
    "# Как в метрику закладываются такие \"супер-популярные\" товары - которые \"и так купят\"?\n",
    "# Или при расчете метрики - нам его нужно и из actual убирать? (и следить, чтобы actual не стал меньше K)"
   ]
  },
  {
   "cell_type": "code",
   "execution_count": 39,
   "metadata": {},
   "outputs": [],
   "source": [
    "# Начнем набирать список для filtered\n",
    "super_benzines = items.loc[(items.sales_sum > 10000000)].item_id.tolist()"
   ]
  },
  {
   "cell_type": "code",
   "execution_count": 28,
   "metadata": {},
   "outputs": [
    {
     "name": "stderr",
     "output_type": "stream",
     "text": [
      "<ipython-input-28-90ab88bf97cb>:2: SettingWithCopyWarning: \n",
      "A value is trying to be set on a copy of a slice from a DataFrame.\n",
      "Try using .loc[row_indexer,col_indexer] = value instead\n",
      "\n",
      "See the caveats in the documentation: https://pandas.pydata.org/pandas-docs/stable/user_guide/indexing.html#returning-a-view-versus-a-copy\n",
      "  data_train['price'] = data_train['sales_value']/data_train['quantity']\n"
     ]
    },
    {
     "data": {
      "text/plain": [
       "0.99"
      ]
     },
     "execution_count": 28,
     "metadata": {},
     "output_type": "execute_result"
    }
   ],
   "source": [
    "# Далее, самые дешевые, самые дорогие, самые популярные и тп\n",
    "data_train['price'] = data_train['sales_value']/data_train['quantity']\n",
    "data_train.price.quantile(0.2)"
   ]
  },
  {
   "cell_type": "code",
   "execution_count": 34,
   "metadata": {},
   "outputs": [
    {
     "data": {
      "text/plain": [
       "99.99"
      ]
     },
     "execution_count": 34,
     "metadata": {},
     "output_type": "execute_result"
    }
   ],
   "source": [
    "data_train.price.quantile(0.99994)"
   ]
  },
  {
   "cell_type": "code",
   "execution_count": 71,
   "metadata": {},
   "outputs": [],
   "source": [
    "# Функция которая сформирует списки на исключение из рекомендаций\n",
    "# По опыту предыдущего ДЗ предполагаю, что исключать позиции из рекомендаций можно только подавая их список в filter\n",
    "# Либо, если мы хотим исключить эти товары вообще из модели и из расчетов - то мы должны их заменить каким-то\n",
    "# Единым dummy идентификатором. Исключать из трейна строки с этими товарами черевато потерей пользователей в трейне\n",
    "# Что может привести к фейлу алгоритма на этапе предсказания\n",
    "\n",
    "def get_filter(data):\n",
    "    \"\"\"Функция получения списка для фильтрации на этапе recommend\"\"\"\n",
    "    # Уберем самые популярные товары (их и так купят)\n",
    "    popularity = data.groupby('item_id')['user_id'].nunique().reset_index()\n",
    "    popularity['user_id'] = popularity['user_id'] / data_train['user_id'].nunique()\n",
    "    popularity.rename(columns={'user_id': 'share_unique_users'}, inplace=True)\n",
    "    \n",
    "    top_popular = popularity[popularity['share_unique_users'] > 0.5].item_id.tolist()\n",
    "    \n",
    "    # Уберем самые НЕ популярные товары (их и так НЕ купят)\n",
    "    top_notpopular = popularity[popularity['share_unique_users'] < 0.01].item_id.tolist()\n",
    "    \n",
    "    cheapest = data.loc[data.price < data.price.quantile(0.2)].item_id.tolist()\n",
    "    expensive = data.loc[data.price > data.price.quantile(0.99994)].item_id.tolist()\n",
    "    \n",
    "    sales = data.groupby('item_id')['quantity'].sum().reset_index()\n",
    "    sales.columns = ('item_id', 'sales_sum')\n",
    "    top_sales = sales.loc[(items.sales_sum > 10000000)].item_id.tolist()\n",
    "    \n",
    "    return top_popular + top_notpopular + cheapest + expensive + top_sales"
   ]
  },
  {
   "cell_type": "code",
   "execution_count": 74,
   "metadata": {},
   "outputs": [
    {
     "data": {
      "text/plain": [
       "78827"
      ]
     },
     "execution_count": 74,
     "metadata": {},
     "output_type": "execute_result"
    }
   ],
   "source": [
    "to_filter = list(set(get_filter(data_train)))\n",
    "len(to_filter)"
   ]
  },
  {
   "cell_type": "code",
   "execution_count": 77,
   "metadata": {},
   "outputs": [
    {
     "data": {
      "text/html": [
       "<div>\n",
       "<style scoped>\n",
       "    .dataframe tbody tr th:only-of-type {\n",
       "        vertical-align: middle;\n",
       "    }\n",
       "\n",
       "    .dataframe tbody tr th {\n",
       "        vertical-align: top;\n",
       "    }\n",
       "\n",
       "    .dataframe thead th {\n",
       "        text-align: right;\n",
       "    }\n",
       "</style>\n",
       "<table border=\"1\" class=\"dataframe\">\n",
       "  <thead>\n",
       "    <tr style=\"text-align: right;\">\n",
       "      <th></th>\n",
       "      <th>user_id</th>\n",
       "      <th>actual</th>\n",
       "    </tr>\n",
       "  </thead>\n",
       "  <tbody>\n",
       "    <tr>\n",
       "      <th>0</th>\n",
       "      <td>1</td>\n",
       "      <td>[821867, 834484, 856942, 865456, 889248, 90795...</td>\n",
       "    </tr>\n",
       "    <tr>\n",
       "      <th>1</th>\n",
       "      <td>3</td>\n",
       "      <td>[835476, 851057, 872021, 878302, 879948, 90963...</td>\n",
       "    </tr>\n",
       "  </tbody>\n",
       "</table>\n",
       "</div>"
      ],
      "text/plain": [
       "   user_id                                             actual\n",
       "0        1  [821867, 834484, 856942, 865456, 889248, 90795...\n",
       "1        3  [835476, 851057, 872021, 878302, 879948, 90963..."
      ]
     },
     "execution_count": 77,
     "metadata": {},
     "output_type": "execute_result"
    }
   ],
   "source": [
    "# Тестовые таргеты для получения метрик\n",
    "result = data_test.groupby('user_id')['item_id'].unique().reset_index()\n",
    "result.columns=['user_id', 'actual']\n",
    "result.head(2)"
   ]
  },
  {
   "cell_type": "code",
   "execution_count": 78,
   "metadata": {},
   "outputs": [
    {
     "data": {
      "text/html": [
       "<div>\n",
       "<style scoped>\n",
       "    .dataframe tbody tr th:only-of-type {\n",
       "        vertical-align: middle;\n",
       "    }\n",
       "\n",
       "    .dataframe tbody tr th {\n",
       "        vertical-align: top;\n",
       "    }\n",
       "\n",
       "    .dataframe thead th {\n",
       "        text-align: right;\n",
       "    }\n",
       "</style>\n",
       "<table border=\"1\" class=\"dataframe\">\n",
       "  <thead>\n",
       "    <tr style=\"text-align: right;\">\n",
       "      <th>item_id</th>\n",
       "      <th>25671</th>\n",
       "      <th>26081</th>\n",
       "      <th>26093</th>\n",
       "      <th>26190</th>\n",
       "      <th>26355</th>\n",
       "      <th>26426</th>\n",
       "      <th>26540</th>\n",
       "      <th>26601</th>\n",
       "      <th>26636</th>\n",
       "      <th>26691</th>\n",
       "      <th>...</th>\n",
       "      <th>17328742</th>\n",
       "      <th>17329473</th>\n",
       "      <th>17329749</th>\n",
       "      <th>17330255</th>\n",
       "      <th>17330511</th>\n",
       "      <th>17381856</th>\n",
       "      <th>17382205</th>\n",
       "      <th>17383227</th>\n",
       "      <th>17827644</th>\n",
       "      <th>17829232</th>\n",
       "    </tr>\n",
       "    <tr>\n",
       "      <th>user_id</th>\n",
       "      <th></th>\n",
       "      <th></th>\n",
       "      <th></th>\n",
       "      <th></th>\n",
       "      <th></th>\n",
       "      <th></th>\n",
       "      <th></th>\n",
       "      <th></th>\n",
       "      <th></th>\n",
       "      <th></th>\n",
       "      <th></th>\n",
       "      <th></th>\n",
       "      <th></th>\n",
       "      <th></th>\n",
       "      <th></th>\n",
       "      <th></th>\n",
       "      <th></th>\n",
       "      <th></th>\n",
       "      <th></th>\n",
       "      <th></th>\n",
       "      <th></th>\n",
       "    </tr>\n",
       "  </thead>\n",
       "  <tbody>\n",
       "    <tr>\n",
       "      <th>1</th>\n",
       "      <td>0.0</td>\n",
       "      <td>0.0</td>\n",
       "      <td>0.0</td>\n",
       "      <td>0.0</td>\n",
       "      <td>0.0</td>\n",
       "      <td>0.0</td>\n",
       "      <td>0.0</td>\n",
       "      <td>0.0</td>\n",
       "      <td>0.0</td>\n",
       "      <td>0.0</td>\n",
       "      <td>...</td>\n",
       "      <td>0.0</td>\n",
       "      <td>0.0</td>\n",
       "      <td>0.0</td>\n",
       "      <td>0.0</td>\n",
       "      <td>0.0</td>\n",
       "      <td>0.0</td>\n",
       "      <td>0.0</td>\n",
       "      <td>0.0</td>\n",
       "      <td>0.0</td>\n",
       "      <td>0.0</td>\n",
       "    </tr>\n",
       "    <tr>\n",
       "      <th>2</th>\n",
       "      <td>0.0</td>\n",
       "      <td>0.0</td>\n",
       "      <td>0.0</td>\n",
       "      <td>0.0</td>\n",
       "      <td>0.0</td>\n",
       "      <td>0.0</td>\n",
       "      <td>0.0</td>\n",
       "      <td>0.0</td>\n",
       "      <td>0.0</td>\n",
       "      <td>0.0</td>\n",
       "      <td>...</td>\n",
       "      <td>0.0</td>\n",
       "      <td>0.0</td>\n",
       "      <td>0.0</td>\n",
       "      <td>0.0</td>\n",
       "      <td>0.0</td>\n",
       "      <td>0.0</td>\n",
       "      <td>0.0</td>\n",
       "      <td>0.0</td>\n",
       "      <td>0.0</td>\n",
       "      <td>0.0</td>\n",
       "    </tr>\n",
       "    <tr>\n",
       "      <th>3</th>\n",
       "      <td>0.0</td>\n",
       "      <td>0.0</td>\n",
       "      <td>0.0</td>\n",
       "      <td>0.0</td>\n",
       "      <td>0.0</td>\n",
       "      <td>0.0</td>\n",
       "      <td>0.0</td>\n",
       "      <td>0.0</td>\n",
       "      <td>0.0</td>\n",
       "      <td>0.0</td>\n",
       "      <td>...</td>\n",
       "      <td>0.0</td>\n",
       "      <td>0.0</td>\n",
       "      <td>0.0</td>\n",
       "      <td>0.0</td>\n",
       "      <td>0.0</td>\n",
       "      <td>0.0</td>\n",
       "      <td>0.0</td>\n",
       "      <td>0.0</td>\n",
       "      <td>0.0</td>\n",
       "      <td>0.0</td>\n",
       "    </tr>\n",
       "  </tbody>\n",
       "</table>\n",
       "<p>3 rows × 86865 columns</p>\n",
       "</div>"
      ],
      "text/plain": [
       "item_id  25671     26081     26093     26190     26355     26426     26540     \\\n",
       "user_id                                                                         \n",
       "1             0.0       0.0       0.0       0.0       0.0       0.0       0.0   \n",
       "2             0.0       0.0       0.0       0.0       0.0       0.0       0.0   \n",
       "3             0.0       0.0       0.0       0.0       0.0       0.0       0.0   \n",
       "\n",
       "item_id  26601     26636     26691     ...  17328742  17329473  17329749  \\\n",
       "user_id                                ...                                 \n",
       "1             0.0       0.0       0.0  ...       0.0       0.0       0.0   \n",
       "2             0.0       0.0       0.0  ...       0.0       0.0       0.0   \n",
       "3             0.0       0.0       0.0  ...       0.0       0.0       0.0   \n",
       "\n",
       "item_id  17330255  17330511  17381856  17382205  17383227  17827644  17829232  \n",
       "user_id                                                                        \n",
       "1             0.0       0.0       0.0       0.0       0.0       0.0       0.0  \n",
       "2             0.0       0.0       0.0       0.0       0.0       0.0       0.0  \n",
       "3             0.0       0.0       0.0       0.0       0.0       0.0       0.0  \n",
       "\n",
       "[3 rows x 86865 columns]"
      ]
     },
     "execution_count": 78,
     "metadata": {},
     "output_type": "execute_result"
    }
   ],
   "source": [
    "# Попробуем на полном наборе позиций для начала (может быть хватит сил)\n",
    "\n",
    "user_item_matrix = pd.pivot_table(data_train, \n",
    "                                  index='user_id', columns='item_id', \n",
    "                                  values='quantity', \n",
    "                                  aggfunc='count', \n",
    "                                  fill_value=0\n",
    "                                 )\n",
    "\n",
    "user_item_matrix = user_item_matrix.astype(float) \n",
    "sparse_user_item = csr_matrix(user_item_matrix).tocsr()\n",
    "user_item_matrix.head(3)"
   ]
  },
  {
   "cell_type": "code",
   "execution_count": 79,
   "metadata": {},
   "outputs": [
    {
     "data": {
      "text/plain": [
       "(2499, 86865)"
      ]
     },
     "execution_count": 79,
     "metadata": {},
     "output_type": "execute_result"
    }
   ],
   "source": [
    "user_item_matrix.shape"
   ]
  },
  {
   "cell_type": "code",
   "execution_count": 325,
   "metadata": {},
   "outputs": [
    {
     "data": {
      "application/vnd.jupyter.widget-view+json": {
       "model_id": "5eed6b7024f14cbba61a9a2f975a3a22",
       "version_major": 2,
       "version_minor": 0
      },
      "text/plain": [
       "HBox(children=(FloatProgress(value=0.0, max=15.0), HTML(value='')))"
      ]
     },
     "metadata": {},
     "output_type": "display_data"
    },
    {
     "name": "stdout",
     "output_type": "stream",
     "text": [
      "\n"
     ]
    }
   ],
   "source": [
    "model = AlternatingLeastSquares(factors=100, #k\n",
    "                                regularization=0.001,\n",
    "                                iterations=15, \n",
    "                                calculate_training_loss=True, \n",
    "                                num_threads=4)\n",
    "\n",
    "model.fit(csr_matrix(user_item_matrix).T.tocsr(),\n",
    "          show_progress=True)"
   ]
  },
  {
   "cell_type": "code",
   "execution_count": 80,
   "metadata": {},
   "outputs": [],
   "source": [
    "userids = user_item_matrix.index.values\n",
    "matrix_userids = np.arange(len(userids))\n",
    "userid_to_id = dict(zip(userids, matrix_userids))"
   ]
  },
  {
   "cell_type": "code",
   "execution_count": 87,
   "metadata": {},
   "outputs": [],
   "source": [
    "def get_recommendations(user, matrix, model, N=5, items_to_filter=None):\n",
    "    res = [matrix.columns.values[rec[0]] for rec in\n",
    "                    model.recommend(userid=user, \n",
    "                                    user_items=csr_matrix(matrix).tocsr(), \n",
    "                                    N=N, \n",
    "                                    filter_already_liked_items=False, \n",
    "                                    filter_items=items_to_filter, \n",
    "                                    recalculate_user=True)]\n",
    "    return res"
   ]
  },
  {
   "cell_type": "code",
   "execution_count": 92,
   "metadata": {},
   "outputs": [
    {
     "name": "stdout",
     "output_type": "stream",
     "text": [
      "CPU times: user 278 µs, sys: 25 µs, total: 303 µs\n",
      "Wall time: 290 µs\n"
     ]
    },
    {
     "data": {
      "text/html": [
       "<div>\n",
       "<style scoped>\n",
       "    .dataframe tbody tr th:only-of-type {\n",
       "        vertical-align: middle;\n",
       "    }\n",
       "\n",
       "    .dataframe tbody tr th {\n",
       "        vertical-align: top;\n",
       "    }\n",
       "\n",
       "    .dataframe thead th {\n",
       "        text-align: right;\n",
       "    }\n",
       "</style>\n",
       "<table border=\"1\" class=\"dataframe\">\n",
       "  <thead>\n",
       "    <tr style=\"text-align: right;\">\n",
       "      <th></th>\n",
       "      <th>user_id</th>\n",
       "      <th>actual</th>\n",
       "      <th>als</th>\n",
       "    </tr>\n",
       "  </thead>\n",
       "  <tbody>\n",
       "    <tr>\n",
       "      <th>0</th>\n",
       "      <td>1</td>\n",
       "      <td>[821867, 834484, 856942, 865456, 889248, 90795...</td>\n",
       "      <td>[1033142, 901062, 9527290, 1051211, 979707]</td>\n",
       "    </tr>\n",
       "    <tr>\n",
       "      <th>1</th>\n",
       "      <td>3</td>\n",
       "      <td>[835476, 851057, 872021, 878302, 879948, 90963...</td>\n",
       "      <td>[1106523, 1133018, 951590, 938700, 5568378]</td>\n",
       "    </tr>\n",
       "    <tr>\n",
       "      <th>2</th>\n",
       "      <td>6</td>\n",
       "      <td>[920308, 926804, 946489, 1006718, 1017061, 107...</td>\n",
       "      <td>[878996, 834484, 908846, 1051516, 866211]</td>\n",
       "    </tr>\n",
       "  </tbody>\n",
       "</table>\n",
       "</div>"
      ],
      "text/plain": [
       "   user_id                                             actual  \\\n",
       "0        1  [821867, 834484, 856942, 865456, 889248, 90795...   \n",
       "1        3  [835476, 851057, 872021, 878302, 879948, 90963...   \n",
       "2        6  [920308, 926804, 946489, 1006718, 1017061, 107...   \n",
       "\n",
       "                                           als  \n",
       "0  [1033142, 901062, 9527290, 1051211, 979707]  \n",
       "1  [1106523, 1133018, 951590, 938700, 5568378]  \n",
       "2    [878996, 834484, 908846, 1051516, 866211]  "
      ]
     },
     "execution_count": 92,
     "metadata": {},
     "output_type": "execute_result"
    }
   ],
   "source": [
    "%%time\n",
    "    \n",
    "result['als'] = result['user_id'].apply(lambda x: get_recommendations(userid_to_id[x], matrix=user_item_matrix, model=model))\n",
    "# result.apply(lambda row: precision_at_k(row['als'], row['actual']), axis=1).mean()\n",
    "result.head(3)"
   ]
  },
  {
   "cell_type": "code",
   "execution_count": 94,
   "metadata": {},
   "outputs": [],
   "source": [
    "# Эх.. все упало. precision_at_k из implicit - это не то, что я думал - \n",
    "# и мы не узнаем сколько времени длилось вычисление рекомендаций - но примерно не меньше 4 часов.\n",
    "# А если попробовать recommend_all (может это pandas так страшно тупит?)"
   ]
  },
  {
   "cell_type": "code",
   "execution_count": 326,
   "metadata": {},
   "outputs": [
    {
     "data": {
      "application/vnd.jupyter.widget-view+json": {
       "model_id": "28a747f4b886468c9023ac7fdad66480",
       "version_major": 2,
       "version_minor": 0
      },
      "text/plain": [
       "HBox(children=(FloatProgress(value=0.0, max=2499.0), HTML(value='')))"
      ]
     },
     "metadata": {},
     "output_type": "display_data"
    },
    {
     "name": "stdout",
     "output_type": "stream",
     "text": [
      "\n",
      "CPU times: user 48.8 s, sys: 1.55 s, total: 50.4 s\n",
      "Wall time: 49.5 s\n"
     ]
    }
   ],
   "source": [
    "%%time\n",
    "recommendations = model.recommend_all(N=5, \n",
    "                                      user_items=csr_matrix(user_item_matrix).tocsr(),\n",
    "                                      filter_already_liked_items=True, \n",
    "                                      filter_items=None, \n",
    "                                      recalculate_user=True,\n",
    "                                      show_progress=True,\n",
    "                                      batch_size=500)"
   ]
  },
  {
   "cell_type": "code",
   "execution_count": 332,
   "metadata": {},
   "outputs": [
    {
     "data": {
      "text/plain": [
       "array([[36745, 36938, 28653, 39619, 31270],\n",
       "       [25064, 23590, 28895, 55470, 15011],\n",
       "       [15513, 17915, 10029, 34498, 26161],\n",
       "       ...,\n",
       "       [55470, 25064, 23590, 36454, 34595],\n",
       "       [29848, 10837,  7933, 51478, 27079],\n",
       "       [10029, 16139, 16343, 26284, 37343]], dtype=int32)"
      ]
     },
     "execution_count": 332,
     "metadata": {},
     "output_type": "execute_result"
    }
   ],
   "source": [
    "recommendations"
   ]
  },
  {
   "cell_type": "code",
   "execution_count": 343,
   "metadata": {},
   "outputs": [],
   "source": [
    "# Похоже на то, кстати..\n",
    "# Надо сохранить их в result тоже\n",
    "result['als_all'] = result['user_id'].apply(\n",
    "    lambda x: [user_item_matrix.columns.values[rec] for rec in recommendations[userid_to_id[x]]])"
   ]
  },
  {
   "cell_type": "code",
   "execution_count": null,
   "metadata": {},
   "outputs": [],
   "source": [
    "# Узнаем какой получился скор\n",
    "\n",
    "def precision_at_k(recommended, actual, k=5):\n",
    "    flags = np.isin(recommended[:k], actual)\n",
    "    return flags.sum() / len(recommended[:k])\n",
    "\n",
    "v_precision_at_k = np.vectorize(precision_at_k)"
   ]
  },
  {
   "cell_type": "code",
   "execution_count": 96,
   "metadata": {},
   "outputs": [
    {
     "data": {
      "text/plain": [
       "0.1859941234084231"
      ]
     },
     "execution_count": 96,
     "metadata": {},
     "output_type": "execute_result"
    }
   ],
   "source": [
    "v_precision_at_k(result.als, result.actual).mean()"
   ]
  },
  {
   "cell_type": "code",
   "execution_count": 344,
   "metadata": {},
   "outputs": [
    {
     "data": {
      "text/plain": [
       "0.034965719882468174"
      ]
     },
     "execution_count": 344,
     "metadata": {},
     "output_type": "execute_result"
    }
   ],
   "source": [
    "v_precision_at_k(result.als_all, result.actual).mean()"
   ]
  },
  {
   "cell_type": "code",
   "execution_count": 102,
   "metadata": {},
   "outputs": [
    {
     "data": {
      "text/plain": [
       "(86865, 100)"
      ]
     },
     "execution_count": 102,
     "metadata": {},
     "output_type": "execute_result"
    }
   ],
   "source": [
    "# Из recommend_all - чушь какая-то.. Или я не смог правильно все сделать...\n",
    "# А наш - супермедленный метод дает не самый плохой кстати скор. (вспоминая бэйзлайны с прошлого ДЗ по крайней мере)\n",
    "# Но адски долго. В этом свете интересен момент получения быстрых предсказаний\n",
    "model.item_factors.shape"
   ]
  },
  {
   "cell_type": "code",
   "execution_count": 103,
   "metadata": {},
   "outputs": [
    {
     "data": {
      "text/plain": [
       "(2499, 100)"
      ]
     },
     "execution_count": 103,
     "metadata": {},
     "output_type": "execute_result"
    }
   ],
   "source": [
    "model.user_factors.shape"
   ]
  },
  {
   "cell_type": "code",
   "execution_count": 107,
   "metadata": {},
   "outputs": [
    {
     "name": "stdout",
     "output_type": "stream",
     "text": [
      "CPU times: user 975 ms, sys: 421 ms, total: 1.4 s\n",
      "Wall time: 851 ms\n"
     ]
    },
    {
     "data": {
      "text/plain": [
       "(2499, 86865)"
      ]
     },
     "execution_count": 107,
     "metadata": {},
     "output_type": "execute_result"
    }
   ],
   "source": [
    "%%time\n",
    "fast_recs = model.user_factors @ model.item_factors.T\n",
    "fast_recs.shape"
   ]
  },
  {
   "cell_type": "code",
   "execution_count": 137,
   "metadata": {},
   "outputs": [],
   "source": [
    "# И что нам теперь делать с этой матрицей? Выбирать 5 наибольших рейтингов из строки пользователя \n",
    "# получить item_id от этих колонок и ставить товары в рекомендации?\n",
    "\n",
    "def to_item_id(idx):\n",
    "    return user_item_matrix.columns.values[idx]\n",
    "\n",
    "v_to_item_id = np.vectorize(to_item_id)"
   ]
  },
  {
   "cell_type": "code",
   "execution_count": 138,
   "metadata": {},
   "outputs": [
    {
     "name": "stdout",
     "output_type": "stream",
     "text": [
      "CPU times: user 13.4 s, sys: 55.8 ms, total: 13.5 s\n",
      "Wall time: 13.6 s\n"
     ]
    }
   ],
   "source": [
    "%%time\n",
    "result['fast_als'] = result['user_id'].apply(lambda x: v_to_item_id(np.argsort(fast_recs[userid_to_id[x]])[-5:]))"
   ]
  },
  {
   "cell_type": "code",
   "execution_count": 139,
   "metadata": {},
   "outputs": [
    {
     "data": {
      "text/html": [
       "<div>\n",
       "<style scoped>\n",
       "    .dataframe tbody tr th:only-of-type {\n",
       "        vertical-align: middle;\n",
       "    }\n",
       "\n",
       "    .dataframe tbody tr th {\n",
       "        vertical-align: top;\n",
       "    }\n",
       "\n",
       "    .dataframe thead th {\n",
       "        text-align: right;\n",
       "    }\n",
       "</style>\n",
       "<table border=\"1\" class=\"dataframe\">\n",
       "  <thead>\n",
       "    <tr style=\"text-align: right;\">\n",
       "      <th></th>\n",
       "      <th>user_id</th>\n",
       "      <th>actual</th>\n",
       "      <th>als</th>\n",
       "      <th>fast_als</th>\n",
       "    </tr>\n",
       "  </thead>\n",
       "  <tbody>\n",
       "    <tr>\n",
       "      <th>0</th>\n",
       "      <td>1</td>\n",
       "      <td>[821867, 834484, 856942, 865456, 889248, 90795...</td>\n",
       "      <td>[1033142, 901062, 9527290, 1051211, 979707]</td>\n",
       "      <td>[979707, 995242, 9527290, 901062, 1033142]</td>\n",
       "    </tr>\n",
       "    <tr>\n",
       "      <th>1</th>\n",
       "      <td>3</td>\n",
       "      <td>[835476, 851057, 872021, 878302, 879948, 90963...</td>\n",
       "      <td>[1106523, 1133018, 951590, 938700, 5568378]</td>\n",
       "      <td>[883404, 938700, 951590, 1133018, 1106523]</td>\n",
       "    </tr>\n",
       "  </tbody>\n",
       "</table>\n",
       "</div>"
      ],
      "text/plain": [
       "   user_id                                             actual  \\\n",
       "0        1  [821867, 834484, 856942, 865456, 889248, 90795...   \n",
       "1        3  [835476, 851057, 872021, 878302, 879948, 90963...   \n",
       "\n",
       "                                           als  \\\n",
       "0  [1033142, 901062, 9527290, 1051211, 979707]   \n",
       "1  [1106523, 1133018, 951590, 938700, 5568378]   \n",
       "\n",
       "                                     fast_als  \n",
       "0  [979707, 995242, 9527290, 901062, 1033142]  \n",
       "1  [883404, 938700, 951590, 1133018, 1106523]  "
      ]
     },
     "execution_count": 139,
     "metadata": {},
     "output_type": "execute_result"
    }
   ],
   "source": [
    "result.head(2)"
   ]
  },
  {
   "cell_type": "code",
   "execution_count": 140,
   "metadata": {},
   "outputs": [
    {
     "data": {
      "text/plain": [
       "0.1851126346718903"
      ]
     },
     "execution_count": 140,
     "metadata": {},
     "output_type": "execute_result"
    }
   ],
   "source": [
    "# Быстро. Какой будет скор?\n",
    "v_precision_at_k(result.fast_als, result.actual).mean()"
   ]
  },
  {
   "cell_type": "code",
   "execution_count": null,
   "metadata": {},
   "outputs": [],
   "source": [
    "# Нууууу... он лишь чуть чуть хуже чем при 4 часовых вычислениях..  в десятитысячных - различия\n",
    "# Тогда пока считаю что мы спасены. Можем дальше развлекаться на полном датасете"
   ]
  },
  {
   "cell_type": "markdown",
   "metadata": {},
   "source": [
    "### Подбор матрицы $c_{ui}$\n",
    "Попробуйте различные варианты матрицы весов (3+ вариантов). Обучите алгоритм для различных $C$. В качестве результата приведите таблицу: матрица весов - результат на train и validation.\n",
    "Сделате качественные выводы.\n"
   ]
  },
  {
   "cell_type": "code",
   "execution_count": 141,
   "metadata": {},
   "outputs": [],
   "source": [
    "# TFIDF\n",
    "user_item_matrix_tfidf = tfidf_weight(user_item_matrix.T).T"
   ]
  },
  {
   "cell_type": "code",
   "execution_count": 147,
   "metadata": {},
   "outputs": [
    {
     "data": {
      "application/vnd.jupyter.widget-view+json": {
       "model_id": "4357f263357d4cb097fa46ebf5192141",
       "version_major": 2,
       "version_minor": 0
      },
      "text/plain": [
       "HBox(children=(FloatProgress(value=0.0, max=15.0), HTML(value='')))"
      ]
     },
     "metadata": {},
     "output_type": "display_data"
    },
    {
     "name": "stdout",
     "output_type": "stream",
     "text": [
      "\n",
      "CPU times: user 23.6 s, sys: 1.12 s, total: 24.7 s\n",
      "Wall time: 16.8 s\n"
     ]
    }
   ],
   "source": [
    "%%time\n",
    "model = AlternatingLeastSquares(factors=100, #k\n",
    "                                regularization=0.001,\n",
    "                                iterations=15, \n",
    "                                calculate_training_loss=True, \n",
    "                                num_threads=4)\n",
    "\n",
    "model.fit(csr_matrix(user_item_matrix_tfidf).T.tocsr(),\n",
    "          show_progress=True)"
   ]
  },
  {
   "cell_type": "code",
   "execution_count": 148,
   "metadata": {},
   "outputs": [
    {
     "name": "stdout",
     "output_type": "stream",
     "text": [
      "CPU times: user 931 ms, sys: 453 ms, total: 1.38 s\n",
      "Wall time: 1.45 s\n"
     ]
    }
   ],
   "source": [
    "%%time\n",
    "fast_tfidf_recs = model.user_factors @ model.item_factors.T"
   ]
  },
  {
   "cell_type": "code",
   "execution_count": 156,
   "metadata": {},
   "outputs": [
    {
     "name": "stdout",
     "output_type": "stream",
     "text": [
      "CPU times: user 13.4 s, sys: 56.4 ms, total: 13.5 s\n",
      "Wall time: 13.6 s\n"
     ]
    }
   ],
   "source": [
    "%%time\n",
    "result['fast_als_tfidf'] = result['user_id'].apply(lambda x: v_to_item_id(np.argsort(fast_tfidf_recs[userid_to_id[x]])[-5:]))"
   ]
  },
  {
   "cell_type": "code",
   "execution_count": 157,
   "metadata": {},
   "outputs": [
    {
     "data": {
      "text/plain": [
       "0.11028403525954945"
      ]
     },
     "execution_count": 157,
     "metadata": {},
     "output_type": "execute_result"
    }
   ],
   "source": [
    "v_precision_at_k(result.fast_als_tfidf, result.actual).mean()"
   ]
  },
  {
   "cell_type": "code",
   "execution_count": null,
   "metadata": {},
   "outputs": [],
   "source": [
    "# Что-то пошло не так (("
   ]
  },
  {
   "cell_type": "code",
   "execution_count": 152,
   "metadata": {},
   "outputs": [
    {
     "data": {
      "application/vnd.jupyter.widget-view+json": {
       "model_id": "884a086a9db7412d80ada730e72128f6",
       "version_major": 2,
       "version_minor": 0
      },
      "text/plain": [
       "HBox(children=(FloatProgress(value=0.0, max=15.0), HTML(value='')))"
      ]
     },
     "metadata": {},
     "output_type": "display_data"
    },
    {
     "name": "stdout",
     "output_type": "stream",
     "text": [
      "\n"
     ]
    }
   ],
   "source": [
    "# BM25\n",
    "user_item_matrix_bm25 = bm25_weight(user_item_matrix.T).T\n",
    "model = AlternatingLeastSquares(factors=100, #k\n",
    "                                regularization=0.001,\n",
    "                                iterations=15, \n",
    "                                calculate_training_loss=True, \n",
    "                                num_threads=4)\n",
    "\n",
    "model.fit(csr_matrix(user_item_matrix_bm25).T.tocsr(),\n",
    "          show_progress=True)"
   ]
  },
  {
   "cell_type": "code",
   "execution_count": 153,
   "metadata": {},
   "outputs": [
    {
     "name": "stdout",
     "output_type": "stream",
     "text": [
      "CPU times: user 712 ms, sys: 292 ms, total: 1 s\n",
      "Wall time: 579 ms\n"
     ]
    }
   ],
   "source": [
    "%%time\n",
    "fast_bm25_recs = model.user_factors @ model.item_factors.T"
   ]
  },
  {
   "cell_type": "code",
   "execution_count": 155,
   "metadata": {},
   "outputs": [
    {
     "name": "stdout",
     "output_type": "stream",
     "text": [
      "CPU times: user 13.5 s, sys: 111 ms, total: 13.6 s\n",
      "Wall time: 14.1 s\n"
     ]
    }
   ],
   "source": [
    "%%time\n",
    "result['fast_als_bm25'] = result['user_id'].apply(lambda x: v_to_item_id(np.argsort(fast_bm25_recs[userid_to_id[x]])[-5:]))"
   ]
  },
  {
   "cell_type": "code",
   "execution_count": 158,
   "metadata": {},
   "outputs": [
    {
     "data": {
      "text/plain": [
       "0.18873653281096964"
      ]
     },
     "execution_count": 158,
     "metadata": {},
     "output_type": "execute_result"
    }
   ],
   "source": [
    "v_precision_at_k(result.fast_als_bm25, result.actual).mean()"
   ]
  },
  {
   "cell_type": "code",
   "execution_count": null,
   "metadata": {},
   "outputs": [],
   "source": [
    "# BM25 Получше будет"
   ]
  },
  {
   "cell_type": "code",
   "execution_count": 320,
   "metadata": {},
   "outputs": [
    {
     "data": {
      "application/vnd.jupyter.widget-view+json": {
       "model_id": "78356f2eb6a74e46b43da427b281dccc",
       "version_major": 2,
       "version_minor": 0
      },
      "text/plain": [
       "HBox(children=(FloatProgress(value=0.0, max=20.0), HTML(value='')))"
      ]
     },
     "metadata": {},
     "output_type": "display_data"
    },
    {
     "name": "stdout",
     "output_type": "stream",
     "text": [
      "\n"
     ]
    }
   ],
   "source": [
    "# У BM25 есть параметры еще.. \n",
    "user_item_matrix_bm25 = bm25_weight(user_item_matrix.T, K1=100, B=0.5).T\n",
    "model = AlternatingLeastSquares(factors=100, #k\n",
    "                                regularization=0.0001,\n",
    "                                iterations=20, \n",
    "                                calculate_training_loss=True, \n",
    "                                num_threads=4)\n",
    "\n",
    "model.fit(csr_matrix(user_item_matrix_bm25).T.tocsr(),\n",
    "          show_progress=True)"
   ]
  },
  {
   "cell_type": "code",
   "execution_count": 321,
   "metadata": {},
   "outputs": [],
   "source": [
    "fast_bm25_recs = model.user_factors @ model.item_factors.T"
   ]
  },
  {
   "cell_type": "code",
   "execution_count": 322,
   "metadata": {},
   "outputs": [],
   "source": [
    "result['fast_als_bm25'] = result['user_id'].apply(lambda x: v_to_item_id(np.argsort(fast_bm25_recs[userid_to_id[x]])[-5:]))"
   ]
  },
  {
   "cell_type": "code",
   "execution_count": 323,
   "metadata": {},
   "outputs": [
    {
     "data": {
      "text/plain": [
       "0.22105778648383942"
      ]
     },
     "execution_count": 323,
     "metadata": {},
     "output_type": "execute_result"
    }
   ],
   "source": [
    "v_precision_at_k(result.fast_als_bm25, result.actual).mean()"
   ]
  },
  {
   "cell_type": "code",
   "execution_count": 319,
   "metadata": {},
   "outputs": [],
   "source": [
    "# Ну - вобщем удалось немного продвинуться относительно Item-Item.. Возможно, удастся поднять еще, уплотнив матрицу\n",
    "# (Сейчас мы работаем с полной матрицей интеракций)"
   ]
  },
  {
   "cell_type": "code",
   "execution_count": 324,
   "metadata": {},
   "outputs": [],
   "source": [
    "# Между тем, так и осталось за кадром - что технически представляет собой процесс \"взвешивания\" матрицы. \n",
    "# Применить какой-то библиотечный \"супер-метод\" - нет проблем - а как самим это делать?\n",
    "# Мы должны умножать значения в строках User-Item матрицы на некие коэффициенты? (популярность данного товара например)\n"
   ]
  },
  {
   "cell_type": "markdown",
   "metadata": {},
   "source": [
    "### Оптимизация гипперпараметров\n",
    "Для лучшей матрицы весов из первого задания подберите оптимальные $\\lambda$ и n_factors. Подбор можно делать вручную (цикл в цикле, аналог sklearn.GridSearch, или случайно - sklearn.GridSearch). Или Вы можете воспользоваться библиотеками для автоматического подбора гипперпараметров (любые на Ваш вкус). В качестве результата постройте графики:\n",
    "1. Значение параметра - время обучения \n",
    "2. Значение параметра - качество train, качество validation  \n",
    "\n",
    "Сделайте качественные выводы"
   ]
  },
  {
   "cell_type": "code",
   "execution_count": 172,
   "metadata": {},
   "outputs": [
    {
     "data": {
      "text/html": [
       "<div>\n",
       "<style scoped>\n",
       "    .dataframe tbody tr th:only-of-type {\n",
       "        vertical-align: middle;\n",
       "    }\n",
       "\n",
       "    .dataframe tbody tr th {\n",
       "        vertical-align: top;\n",
       "    }\n",
       "\n",
       "    .dataframe thead th {\n",
       "        text-align: right;\n",
       "    }\n",
       "</style>\n",
       "<table border=\"1\" class=\"dataframe\">\n",
       "  <thead>\n",
       "    <tr style=\"text-align: right;\">\n",
       "      <th></th>\n",
       "      <th>user_id</th>\n",
       "      <th>actual</th>\n",
       "    </tr>\n",
       "  </thead>\n",
       "  <tbody>\n",
       "    <tr>\n",
       "      <th>0</th>\n",
       "      <td>1</td>\n",
       "      <td>[825123, 831447, 840361, 845307, 852014, 85498...</td>\n",
       "    </tr>\n",
       "    <tr>\n",
       "      <th>1</th>\n",
       "      <td>2</td>\n",
       "      <td>[854852, 930118, 1077555, 1098066, 5567388, 55...</td>\n",
       "    </tr>\n",
       "  </tbody>\n",
       "</table>\n",
       "</div>"
      ],
      "text/plain": [
       "   user_id                                             actual\n",
       "0        1  [825123, 831447, 840361, 845307, 852014, 85498...\n",
       "1        2  [854852, 930118, 1077555, 1098066, 5567388, 55..."
      ]
     },
     "execution_count": 172,
     "metadata": {},
     "output_type": "execute_result"
    }
   ],
   "source": [
    "# Настраиваться будем на матрице взвешенной с помощью BM25. Как наиболее результативной из опробованных\n",
    "import time\n",
    "\n",
    "# Таргеты для трейн-скоров\n",
    "train = data_train.groupby('user_id')['item_id'].unique().reset_index()\n",
    "train.columns=['user_id', 'actual']\n",
    "train.head(2)"
   ]
  },
  {
   "cell_type": "code",
   "execution_count": 165,
   "metadata": {},
   "outputs": [],
   "source": [
    "def evaluate_parms(lbd, factor_num, iters):\n",
    "    model = AlternatingLeastSquares(factors=factor_num, \n",
    "                                regularization=lbd,\n",
    "                                iterations=iters, \n",
    "                                calculate_training_loss=True, \n",
    "                                num_threads=4)\n",
    "\n",
    "    model.fit(csr_matrix(user_item_matrix_bm25).T.tocsr(),\n",
    "              show_progress=False)\n",
    "    return model"
   ]
  },
  {
   "cell_type": "code",
   "execution_count": 176,
   "metadata": {},
   "outputs": [
    {
     "name": "stdout",
     "output_type": "stream",
     "text": [
      "lambda 1, factors 10, iterations 10, time 7.97, TRAIN_SCORE 0.64258, VAL_SCORE 0.16964\n",
      "lambda 1, factors 10, iterations 12, time 7.51, TRAIN_SCORE 0.64170, VAL_SCORE 0.16993\n",
      "lambda 1, factors 10, iterations 14, time 9.19, TRAIN_SCORE 0.64202, VAL_SCORE 0.17160\n",
      "lambda 1, factors 10, iterations 15, time 10.53, TRAIN_SCORE 0.64090, VAL_SCORE 0.17013\n",
      "lambda 1, factors 10, iterations 17, time 14.18, TRAIN_SCORE 0.64338, VAL_SCORE 0.16964\n",
      "lambda 1, factors 10, iterations 20, time 12.34, TRAIN_SCORE 0.64226, VAL_SCORE 0.17316\n",
      "lambda 1, factors 30, iterations 10, time 8.78, TRAIN_SCORE 0.71020, VAL_SCORE 0.18991\n",
      "lambda 1, factors 30, iterations 12, time 12.05, TRAIN_SCORE 0.69972, VAL_SCORE 0.19040\n",
      "lambda 1, factors 30, iterations 14, time 11.32, TRAIN_SCORE 0.70380, VAL_SCORE 0.18893\n",
      "lambda 1, factors 30, iterations 15, time 11.36, TRAIN_SCORE 0.70212, VAL_SCORE 0.19011\n",
      "lambda 1, factors 30, iterations 17, time 14.07, TRAIN_SCORE 0.69828, VAL_SCORE 0.18737\n",
      "lambda 1, factors 30, iterations 20, time 15.83, TRAIN_SCORE 0.69364, VAL_SCORE 0.18756\n",
      "lambda 1, factors 50, iterations 10, time 8.82, TRAIN_SCORE 0.77151, VAL_SCORE 0.19099\n",
      "lambda 1, factors 50, iterations 12, time 9.92, TRAIN_SCORE 0.76847, VAL_SCORE 0.19432\n",
      "lambda 1, factors 50, iterations 14, time 12.71, TRAIN_SCORE 0.76639, VAL_SCORE 0.19158\n",
      "lambda 1, factors 50, iterations 15, time 13.16, TRAIN_SCORE 0.76743, VAL_SCORE 0.18923\n",
      "lambda 1, factors 50, iterations 17, time 14.14, TRAIN_SCORE 0.76311, VAL_SCORE 0.19021\n",
      "lambda 1, factors 50, iterations 20, time 17.42, TRAIN_SCORE 0.76479, VAL_SCORE 0.19256\n",
      "lambda 1, factors 70, iterations 10, time 10.70, TRAIN_SCORE 0.82497, VAL_SCORE 0.18844\n",
      "lambda 1, factors 70, iterations 12, time 10.93, TRAIN_SCORE 0.82361, VAL_SCORE 0.19079\n",
      "lambda 1, factors 70, iterations 14, time 16.09, TRAIN_SCORE 0.82417, VAL_SCORE 0.19030\n",
      "lambda 1, factors 70, iterations 15, time 15.25, TRAIN_SCORE 0.82505, VAL_SCORE 0.19197\n",
      "lambda 1, factors 70, iterations 17, time 15.56, TRAIN_SCORE 0.82201, VAL_SCORE 0.19334\n",
      "lambda 1, factors 70, iterations 20, time 22.74, TRAIN_SCORE 0.82241, VAL_SCORE 0.19216\n",
      "lambda 1, factors 100, iterations 10, time 12.84, TRAIN_SCORE 0.89308, VAL_SCORE 0.19050\n",
      "lambda 1, factors 100, iterations 12, time 16.01, TRAIN_SCORE 0.89204, VAL_SCORE 0.19011\n",
      "lambda 1, factors 100, iterations 14, time 20.73, TRAIN_SCORE 0.89132, VAL_SCORE 0.18619\n",
      "lambda 1, factors 100, iterations 15, time 16.19, TRAIN_SCORE 0.89404, VAL_SCORE 0.18590\n",
      "lambda 1, factors 100, iterations 17, time 20.64, TRAIN_SCORE 0.88956, VAL_SCORE 0.18335\n",
      "lambda 1, factors 100, iterations 20, time 21.67, TRAIN_SCORE 0.89060, VAL_SCORE 0.18580\n",
      "lambda 1, factors 150, iterations 10, time 14.84, TRAIN_SCORE 0.95662, VAL_SCORE 0.18178\n",
      "lambda 1, factors 150, iterations 12, time 17.56, TRAIN_SCORE 0.95502, VAL_SCORE 0.17835\n",
      "lambda 1, factors 150, iterations 14, time 23.35, TRAIN_SCORE 0.95422, VAL_SCORE 0.18022\n",
      "lambda 1, factors 150, iterations 15, time 25.25, TRAIN_SCORE 0.95462, VAL_SCORE 0.18090\n",
      "lambda 1, factors 150, iterations 17, time 28.05, TRAIN_SCORE 0.95438, VAL_SCORE 0.18355\n",
      "lambda 1, factors 150, iterations 20, time 29.32, TRAIN_SCORE 0.95318, VAL_SCORE 0.18345\n",
      "lambda 1, factors 200, iterations 10, time 18.09, TRAIN_SCORE 0.97983, VAL_SCORE 0.17757\n",
      "lambda 1, factors 200, iterations 12, time 21.75, TRAIN_SCORE 0.98071, VAL_SCORE 0.17992\n",
      "lambda 1, factors 200, iterations 14, time 25.67, TRAIN_SCORE 0.97927, VAL_SCORE 0.17659\n",
      "lambda 1, factors 200, iterations 15, time 26.92, TRAIN_SCORE 0.98095, VAL_SCORE 0.17924\n",
      "lambda 1, factors 200, iterations 17, time 30.00, TRAIN_SCORE 0.97879, VAL_SCORE 0.18041\n",
      "lambda 1, factors 200, iterations 20, time 36.06, TRAIN_SCORE 0.98015, VAL_SCORE 0.18012\n",
      "lambda 1, factors 300, iterations 10, time 30.40, TRAIN_SCORE 0.99384, VAL_SCORE 0.17336\n",
      "lambda 1, factors 300, iterations 12, time 36.55, TRAIN_SCORE 0.99336, VAL_SCORE 0.17816\n",
      "lambda 1, factors 300, iterations 14, time 43.74, TRAIN_SCORE 0.99328, VAL_SCORE 0.17571\n",
      "lambda 1, factors 300, iterations 15, time 46.38, TRAIN_SCORE 0.99416, VAL_SCORE 0.17698\n",
      "lambda 1, factors 300, iterations 17, time 51.43, TRAIN_SCORE 0.99336, VAL_SCORE 0.17649\n",
      "lambda 1, factors 300, iterations 20, time 59.71, TRAIN_SCORE 0.99312, VAL_SCORE 0.17444\n",
      "lambda 0.1, factors 10, iterations 10, time 6.19, TRAIN_SCORE 0.64258, VAL_SCORE 0.16885\n",
      "lambda 0.1, factors 10, iterations 12, time 8.28, TRAIN_SCORE 0.64642, VAL_SCORE 0.17395\n",
      "lambda 0.1, factors 10, iterations 14, time 8.26, TRAIN_SCORE 0.64090, VAL_SCORE 0.16905\n",
      "lambda 0.1, factors 10, iterations 15, time 8.99, TRAIN_SCORE 0.63930, VAL_SCORE 0.16846\n",
      "lambda 0.1, factors 10, iterations 17, time 9.92, TRAIN_SCORE 0.64034, VAL_SCORE 0.17120\n",
      "lambda 0.1, factors 10, iterations 20, time 12.07, TRAIN_SCORE 0.63834, VAL_SCORE 0.17140\n",
      "lambda 0.1, factors 30, iterations 10, time 7.21, TRAIN_SCORE 0.70676, VAL_SCORE 0.18932\n",
      "lambda 0.1, factors 30, iterations 12, time 8.23, TRAIN_SCORE 0.70132, VAL_SCORE 0.18834\n",
      "lambda 0.1, factors 30, iterations 14, time 9.62, TRAIN_SCORE 0.70356, VAL_SCORE 0.18913\n",
      "lambda 0.1, factors 30, iterations 15, time 10.89, TRAIN_SCORE 0.69924, VAL_SCORE 0.18717\n",
      "lambda 0.1, factors 30, iterations 17, time 11.65, TRAIN_SCORE 0.69148, VAL_SCORE 0.18570\n",
      "lambda 0.1, factors 30, iterations 20, time 14.08, TRAIN_SCORE 0.69220, VAL_SCORE 0.18844\n",
      "lambda 0.1, factors 50, iterations 10, time 8.60, TRAIN_SCORE 0.76959, VAL_SCORE 0.19119\n",
      "lambda 0.1, factors 50, iterations 12, time 9.77, TRAIN_SCORE 0.76799, VAL_SCORE 0.19158\n",
      "lambda 0.1, factors 50, iterations 14, time 11.75, TRAIN_SCORE 0.76775, VAL_SCORE 0.18629\n",
      "lambda 0.1, factors 50, iterations 15, time 13.07, TRAIN_SCORE 0.76967, VAL_SCORE 0.19158\n",
      "lambda 0.1, factors 50, iterations 17, time 13.79, TRAIN_SCORE 0.76415, VAL_SCORE 0.19158\n",
      "lambda 0.1, factors 50, iterations 20, time 15.50, TRAIN_SCORE 0.76190, VAL_SCORE 0.18805\n",
      "lambda 0.1, factors 70, iterations 10, time 9.18, TRAIN_SCORE 0.82929, VAL_SCORE 0.19148\n",
      "lambda 0.1, factors 70, iterations 12, time 11.23, TRAIN_SCORE 0.82377, VAL_SCORE 0.19177\n",
      "lambda 0.1, factors 70, iterations 14, time 12.55, TRAIN_SCORE 0.82313, VAL_SCORE 0.18991\n",
      "lambda 0.1, factors 70, iterations 15, time 14.03, TRAIN_SCORE 0.82273, VAL_SCORE 0.19089\n",
      "lambda 0.1, factors 70, iterations 17, time 15.86, TRAIN_SCORE 0.82321, VAL_SCORE 0.19226\n",
      "lambda 0.1, factors 70, iterations 20, time 18.11, TRAIN_SCORE 0.82201, VAL_SCORE 0.19216\n",
      "lambda 0.1, factors 100, iterations 10, time 10.74, TRAIN_SCORE 0.89300, VAL_SCORE 0.18795\n",
      "lambda 0.1, factors 100, iterations 12, time 12.92, TRAIN_SCORE 0.89228, VAL_SCORE 0.18648\n",
      "lambda 0.1, factors 100, iterations 14, time 14.77, TRAIN_SCORE 0.89244, VAL_SCORE 0.18923\n",
      "lambda 0.1, factors 100, iterations 15, time 16.17, TRAIN_SCORE 0.88892, VAL_SCORE 0.18599\n",
      "lambda 0.1, factors 100, iterations 17, time 18.26, TRAIN_SCORE 0.89220, VAL_SCORE 0.18883\n",
      "lambda 0.1, factors 100, iterations 20, time 21.23, TRAIN_SCORE 0.89220, VAL_SCORE 0.18688\n",
      "lambda 0.1, factors 150, iterations 10, time 14.50, TRAIN_SCORE 0.95766, VAL_SCORE 0.18306\n",
      "lambda 0.1, factors 150, iterations 12, time 17.66, TRAIN_SCORE 0.95638, VAL_SCORE 0.18276\n",
      "lambda 0.1, factors 150, iterations 14, time 20.33, TRAIN_SCORE 0.95566, VAL_SCORE 0.18599\n",
      "lambda 0.1, factors 150, iterations 15, time 21.54, TRAIN_SCORE 0.95566, VAL_SCORE 0.18325\n",
      "lambda 0.1, factors 150, iterations 17, time 24.84, TRAIN_SCORE 0.95310, VAL_SCORE 0.18178\n",
      "lambda 0.1, factors 150, iterations 20, time 29.56, TRAIN_SCORE 0.95278, VAL_SCORE 0.18433\n",
      "lambda 0.1, factors 200, iterations 10, time 18.54, TRAIN_SCORE 0.97991, VAL_SCORE 0.17914\n",
      "lambda 0.1, factors 200, iterations 12, time 21.81, TRAIN_SCORE 0.98127, VAL_SCORE 0.17992\n",
      "lambda 0.1, factors 200, iterations 14, time 25.30, TRAIN_SCORE 0.97975, VAL_SCORE 0.17884\n",
      "lambda 0.1, factors 200, iterations 15, time 27.01, TRAIN_SCORE 0.98055, VAL_SCORE 0.17973\n",
      "lambda 0.1, factors 200, iterations 17, time 30.81, TRAIN_SCORE 0.97983, VAL_SCORE 0.17973\n",
      "lambda 0.1, factors 200, iterations 20, time 36.04, TRAIN_SCORE 0.97999, VAL_SCORE 0.18217\n",
      "lambda 0.1, factors 300, iterations 10, time 30.16, TRAIN_SCORE 0.99400, VAL_SCORE 0.17473\n",
      "lambda 0.1, factors 300, iterations 12, time 36.49, TRAIN_SCORE 0.99352, VAL_SCORE 0.17571\n"
     ]
    },
    {
     "name": "stdout",
     "output_type": "stream",
     "text": [
      "lambda 0.1, factors 300, iterations 14, time 42.03, TRAIN_SCORE 0.99328, VAL_SCORE 0.17845\n",
      "lambda 0.1, factors 300, iterations 15, time 45.33, TRAIN_SCORE 0.99416, VAL_SCORE 0.17473\n",
      "lambda 0.1, factors 300, iterations 17, time 51.26, TRAIN_SCORE 0.99392, VAL_SCORE 0.17806\n",
      "lambda 0.1, factors 300, iterations 20, time 60.24, TRAIN_SCORE 0.99264, VAL_SCORE 0.17444\n",
      "lambda 0.01, factors 10, iterations 10, time 5.71, TRAIN_SCORE 0.64138, VAL_SCORE 0.17062\n",
      "lambda 0.01, factors 10, iterations 12, time 7.03, TRAIN_SCORE 0.64218, VAL_SCORE 0.16787\n",
      "lambda 0.01, factors 10, iterations 14, time 8.28, TRAIN_SCORE 0.63497, VAL_SCORE 0.16601\n",
      "lambda 0.01, factors 10, iterations 15, time 8.74, TRAIN_SCORE 0.64002, VAL_SCORE 0.16846\n",
      "lambda 0.01, factors 10, iterations 17, time 10.17, TRAIN_SCORE 0.63745, VAL_SCORE 0.16934\n",
      "lambda 0.01, factors 10, iterations 20, time 11.89, TRAIN_SCORE 0.64298, VAL_SCORE 0.17169\n",
      "lambda 0.01, factors 30, iterations 10, time 7.01, TRAIN_SCORE 0.70900, VAL_SCORE 0.19089\n",
      "lambda 0.01, factors 30, iterations 12, time 8.36, TRAIN_SCORE 0.70244, VAL_SCORE 0.18737\n",
      "lambda 0.01, factors 30, iterations 14, time 9.70, TRAIN_SCORE 0.70028, VAL_SCORE 0.18560\n",
      "lambda 0.01, factors 30, iterations 15, time 11.19, TRAIN_SCORE 0.69500, VAL_SCORE 0.18815\n",
      "lambda 0.01, factors 30, iterations 17, time 12.40, TRAIN_SCORE 0.69988, VAL_SCORE 0.18942\n",
      "lambda 0.01, factors 30, iterations 20, time 14.57, TRAIN_SCORE 0.69236, VAL_SCORE 0.18786\n",
      "lambda 0.01, factors 50, iterations 10, time 7.87, TRAIN_SCORE 0.76959, VAL_SCORE 0.19109\n",
      "lambda 0.01, factors 50, iterations 12, time 9.85, TRAIN_SCORE 0.77263, VAL_SCORE 0.19393\n",
      "lambda 0.01, factors 50, iterations 14, time 11.07, TRAIN_SCORE 0.77199, VAL_SCORE 0.19373\n",
      "lambda 0.01, factors 50, iterations 15, time 12.96, TRAIN_SCORE 0.76375, VAL_SCORE 0.19265\n",
      "lambda 0.01, factors 50, iterations 17, time 14.04, TRAIN_SCORE 0.76919, VAL_SCORE 0.19246\n",
      "lambda 0.01, factors 50, iterations 20, time 16.22, TRAIN_SCORE 0.76014, VAL_SCORE 0.19079\n",
      "lambda 0.01, factors 70, iterations 10, time 9.03, TRAIN_SCORE 0.82833, VAL_SCORE 0.18903\n",
      "lambda 0.01, factors 70, iterations 12, time 10.67, TRAIN_SCORE 0.82681, VAL_SCORE 0.19030\n",
      "lambda 0.01, factors 70, iterations 14, time 12.67, TRAIN_SCORE 0.82593, VAL_SCORE 0.19001\n",
      "lambda 0.01, factors 70, iterations 15, time 13.51, TRAIN_SCORE 0.82609, VAL_SCORE 0.19256\n",
      "lambda 0.01, factors 70, iterations 17, time 14.83, TRAIN_SCORE 0.82281, VAL_SCORE 0.18864\n",
      "lambda 0.01, factors 70, iterations 20, time 17.75, TRAIN_SCORE 0.82201, VAL_SCORE 0.19383\n",
      "lambda 0.01, factors 100, iterations 10, time 10.66, TRAIN_SCORE 0.89356, VAL_SCORE 0.18443\n",
      "lambda 0.01, factors 100, iterations 12, time 13.06, TRAIN_SCORE 0.89348, VAL_SCORE 0.18786\n",
      "lambda 0.01, factors 100, iterations 14, time 14.86, TRAIN_SCORE 0.89372, VAL_SCORE 0.18952\n",
      "lambda 0.01, factors 100, iterations 15, time 15.63, TRAIN_SCORE 0.89356, VAL_SCORE 0.18795\n",
      "lambda 0.01, factors 100, iterations 17, time 17.85, TRAIN_SCORE 0.89196, VAL_SCORE 0.18668\n",
      "lambda 0.01, factors 100, iterations 20, time 21.49, TRAIN_SCORE 0.89252, VAL_SCORE 0.18883\n",
      "lambda 0.01, factors 150, iterations 10, time 14.64, TRAIN_SCORE 0.95654, VAL_SCORE 0.17933\n",
      "lambda 0.01, factors 150, iterations 12, time 17.68, TRAIN_SCORE 0.95518, VAL_SCORE 0.18531\n",
      "lambda 0.01, factors 150, iterations 14, time 20.48, TRAIN_SCORE 0.95534, VAL_SCORE 0.18306\n",
      "lambda 0.01, factors 150, iterations 15, time 21.66, TRAIN_SCORE 0.95742, VAL_SCORE 0.18639\n",
      "lambda 0.01, factors 150, iterations 17, time 24.88, TRAIN_SCORE 0.95734, VAL_SCORE 0.18619\n",
      "lambda 0.01, factors 150, iterations 20, time 29.24, TRAIN_SCORE 0.95502, VAL_SCORE 0.18257\n",
      "lambda 0.01, factors 200, iterations 10, time 17.87, TRAIN_SCORE 0.98151, VAL_SCORE 0.17453\n",
      "lambda 0.01, factors 200, iterations 12, time 21.55, TRAIN_SCORE 0.98023, VAL_SCORE 0.17767\n",
      "lambda 0.01, factors 200, iterations 14, time 25.55, TRAIN_SCORE 0.98039, VAL_SCORE 0.17894\n",
      "lambda 0.01, factors 200, iterations 15, time 27.01, TRAIN_SCORE 0.97959, VAL_SCORE 0.17845\n",
      "lambda 0.01, factors 200, iterations 17, time 30.22, TRAIN_SCORE 0.97855, VAL_SCORE 0.18002\n",
      "lambda 0.01, factors 200, iterations 20, time 35.45, TRAIN_SCORE 0.97999, VAL_SCORE 0.18364\n",
      "lambda 0.01, factors 300, iterations 10, time 30.21, TRAIN_SCORE 0.99432, VAL_SCORE 0.17659\n",
      "lambda 0.01, factors 300, iterations 12, time 36.96, TRAIN_SCORE 0.99448, VAL_SCORE 0.17581\n",
      "lambda 0.01, factors 300, iterations 14, time 42.03, TRAIN_SCORE 0.99360, VAL_SCORE 0.17620\n",
      "lambda 0.01, factors 300, iterations 15, time 45.90, TRAIN_SCORE 0.99432, VAL_SCORE 0.17542\n",
      "lambda 0.01, factors 300, iterations 17, time 53.92, TRAIN_SCORE 0.99424, VAL_SCORE 0.17571\n",
      "lambda 0.01, factors 300, iterations 20, time 60.20, TRAIN_SCORE 0.99288, VAL_SCORE 0.17414\n",
      "lambda 0.001, factors 10, iterations 10, time 6.23, TRAIN_SCORE 0.63994, VAL_SCORE 0.16827\n",
      "lambda 0.001, factors 10, iterations 12, time 7.03, TRAIN_SCORE 0.63898, VAL_SCORE 0.16954\n",
      "lambda 0.001, factors 10, iterations 14, time 9.77, TRAIN_SCORE 0.63890, VAL_SCORE 0.17150\n",
      "lambda 0.001, factors 10, iterations 15, time 8.81, TRAIN_SCORE 0.63882, VAL_SCORE 0.16934\n",
      "lambda 0.001, factors 10, iterations 17, time 9.69, TRAIN_SCORE 0.64146, VAL_SCORE 0.17189\n",
      "lambda 0.001, factors 10, iterations 20, time 11.89, TRAIN_SCORE 0.64626, VAL_SCORE 0.17277\n",
      "lambda 0.001, factors 30, iterations 10, time 7.02, TRAIN_SCORE 0.70652, VAL_SCORE 0.18883\n",
      "lambda 0.001, factors 30, iterations 12, time 9.02, TRAIN_SCORE 0.70404, VAL_SCORE 0.18981\n",
      "lambda 0.001, factors 30, iterations 14, time 9.78, TRAIN_SCORE 0.69860, VAL_SCORE 0.18795\n",
      "lambda 0.001, factors 30, iterations 15, time 11.31, TRAIN_SCORE 0.70332, VAL_SCORE 0.19060\n",
      "lambda 0.001, factors 30, iterations 17, time 12.33, TRAIN_SCORE 0.69100, VAL_SCORE 0.18815\n",
      "lambda 0.001, factors 30, iterations 20, time 14.34, TRAIN_SCORE 0.69476, VAL_SCORE 0.18746\n",
      "lambda 0.001, factors 50, iterations 10, time 8.26, TRAIN_SCORE 0.77031, VAL_SCORE 0.19471\n",
      "lambda 0.001, factors 50, iterations 12, time 9.90, TRAIN_SCORE 0.76975, VAL_SCORE 0.19138\n",
      "lambda 0.001, factors 50, iterations 14, time 11.49, TRAIN_SCORE 0.76671, VAL_SCORE 0.18893\n",
      "lambda 0.001, factors 50, iterations 15, time 12.27, TRAIN_SCORE 0.76479, VAL_SCORE 0.19148\n",
      "lambda 0.001, factors 50, iterations 17, time 14.45, TRAIN_SCORE 0.76423, VAL_SCORE 0.19265\n",
      "lambda 0.001, factors 50, iterations 20, time 16.15, TRAIN_SCORE 0.76527, VAL_SCORE 0.19128\n",
      "lambda 0.001, factors 70, iterations 10, time 9.10, TRAIN_SCORE 0.82641, VAL_SCORE 0.19354\n",
      "lambda 0.001, factors 70, iterations 12, time 10.61, TRAIN_SCORE 0.82657, VAL_SCORE 0.18854\n",
      "lambda 0.001, factors 70, iterations 14, time 12.66, TRAIN_SCORE 0.82849, VAL_SCORE 0.18991\n",
      "lambda 0.001, factors 70, iterations 15, time 13.60, TRAIN_SCORE 0.82393, VAL_SCORE 0.19236\n",
      "lambda 0.001, factors 70, iterations 17, time 14.97, TRAIN_SCORE 0.81881, VAL_SCORE 0.18952\n",
      "lambda 0.001, factors 70, iterations 20, time 18.10, TRAIN_SCORE 0.82393, VAL_SCORE 0.18854\n",
      "lambda 0.001, factors 100, iterations 10, time 10.66, TRAIN_SCORE 0.89436, VAL_SCORE 0.18805\n",
      "lambda 0.001, factors 100, iterations 12, time 12.90, TRAIN_SCORE 0.89260, VAL_SCORE 0.18168\n",
      "lambda 0.001, factors 100, iterations 14, time 15.11, TRAIN_SCORE 0.89476, VAL_SCORE 0.18717\n",
      "lambda 0.001, factors 100, iterations 15, time 15.94, TRAIN_SCORE 0.89292, VAL_SCORE 0.18834\n",
      "lambda 0.001, factors 100, iterations 17, time 17.97, TRAIN_SCORE 0.89188, VAL_SCORE 0.19011\n",
      "lambda 0.001, factors 100, iterations 20, time 21.39, TRAIN_SCORE 0.89100, VAL_SCORE 0.18893\n",
      "lambda 0.001, factors 150, iterations 10, time 14.73, TRAIN_SCORE 0.95742, VAL_SCORE 0.18178\n",
      "lambda 0.001, factors 150, iterations 12, time 17.41, TRAIN_SCORE 0.95694, VAL_SCORE 0.18511\n",
      "lambda 0.001, factors 150, iterations 14, time 20.17, TRAIN_SCORE 0.95382, VAL_SCORE 0.18413\n",
      "lambda 0.001, factors 150, iterations 15, time 21.52, TRAIN_SCORE 0.95558, VAL_SCORE 0.18208\n",
      "lambda 0.001, factors 150, iterations 17, time 24.47, TRAIN_SCORE 0.95726, VAL_SCORE 0.18276\n",
      "lambda 0.001, factors 150, iterations 20, time 28.85, TRAIN_SCORE 0.95470, VAL_SCORE 0.18257\n",
      "lambda 0.001, factors 200, iterations 10, time 18.08, TRAIN_SCORE 0.97983, VAL_SCORE 0.17835\n",
      "lambda 0.001, factors 200, iterations 12, time 20.87, TRAIN_SCORE 0.98023, VAL_SCORE 0.17669\n"
     ]
    },
    {
     "name": "stdout",
     "output_type": "stream",
     "text": [
      "lambda 0.001, factors 200, iterations 14, time 24.94, TRAIN_SCORE 0.97911, VAL_SCORE 0.17924\n",
      "lambda 0.001, factors 200, iterations 15, time 26.69, TRAIN_SCORE 0.98031, VAL_SCORE 0.18080\n",
      "lambda 0.001, factors 200, iterations 17, time 29.93, TRAIN_SCORE 0.98023, VAL_SCORE 0.18002\n",
      "lambda 0.001, factors 200, iterations 20, time 35.94, TRAIN_SCORE 0.97895, VAL_SCORE 0.18110\n",
      "lambda 0.001, factors 300, iterations 10, time 30.12, TRAIN_SCORE 0.99440, VAL_SCORE 0.17287\n",
      "lambda 0.001, factors 300, iterations 12, time 36.27, TRAIN_SCORE 0.99392, VAL_SCORE 0.17689\n",
      "lambda 0.001, factors 300, iterations 14, time 41.94, TRAIN_SCORE 0.99392, VAL_SCORE 0.17738\n",
      "lambda 0.001, factors 300, iterations 15, time 45.80, TRAIN_SCORE 0.99400, VAL_SCORE 0.17581\n",
      "lambda 0.001, factors 300, iterations 17, time 50.99, TRAIN_SCORE 0.99416, VAL_SCORE 0.17042\n",
      "lambda 0.001, factors 300, iterations 20, time 60.28, TRAIN_SCORE 0.99400, VAL_SCORE 0.17150\n",
      "lambda 0.0001, factors 10, iterations 10, time 6.11, TRAIN_SCORE 0.64202, VAL_SCORE 0.17434\n",
      "lambda 0.0001, factors 10, iterations 12, time 7.30, TRAIN_SCORE 0.64434, VAL_SCORE 0.17218\n",
      "lambda 0.0001, factors 10, iterations 14, time 8.44, TRAIN_SCORE 0.64018, VAL_SCORE 0.16944\n",
      "lambda 0.0001, factors 10, iterations 15, time 9.13, TRAIN_SCORE 0.64330, VAL_SCORE 0.16895\n",
      "lambda 0.0001, factors 10, iterations 17, time 10.06, TRAIN_SCORE 0.63497, VAL_SCORE 0.17287\n",
      "lambda 0.0001, factors 10, iterations 20, time 12.06, TRAIN_SCORE 0.64314, VAL_SCORE 0.17160\n",
      "lambda 0.0001, factors 30, iterations 10, time 6.84, TRAIN_SCORE 0.70372, VAL_SCORE 0.18903\n",
      "lambda 0.0001, factors 30, iterations 12, time 8.80, TRAIN_SCORE 0.70484, VAL_SCORE 0.18923\n",
      "lambda 0.0001, factors 30, iterations 14, time 9.92, TRAIN_SCORE 0.70100, VAL_SCORE 0.18776\n",
      "lambda 0.0001, factors 30, iterations 15, time 10.89, TRAIN_SCORE 0.69940, VAL_SCORE 0.19030\n",
      "lambda 0.0001, factors 30, iterations 17, time 12.74, TRAIN_SCORE 0.69772, VAL_SCORE 0.18883\n",
      "lambda 0.0001, factors 30, iterations 20, time 14.77, TRAIN_SCORE 0.69572, VAL_SCORE 0.18991\n",
      "lambda 0.0001, factors 50, iterations 10, time 8.46, TRAIN_SCORE 0.77239, VAL_SCORE 0.19207\n",
      "lambda 0.0001, factors 50, iterations 12, time 10.38, TRAIN_SCORE 0.77207, VAL_SCORE 0.19197\n",
      "lambda 0.0001, factors 50, iterations 14, time 11.74, TRAIN_SCORE 0.76759, VAL_SCORE 0.19265\n",
      "lambda 0.0001, factors 50, iterations 15, time 12.56, TRAIN_SCORE 0.76887, VAL_SCORE 0.19109\n",
      "lambda 0.0001, factors 50, iterations 17, time 13.81, TRAIN_SCORE 0.76807, VAL_SCORE 0.19158\n",
      "lambda 0.0001, factors 50, iterations 20, time 15.94, TRAIN_SCORE 0.77055, VAL_SCORE 0.19040\n",
      "lambda 0.0001, factors 70, iterations 10, time 9.08, TRAIN_SCORE 0.82681, VAL_SCORE 0.18864\n",
      "lambda 0.0001, factors 70, iterations 12, time 10.91, TRAIN_SCORE 0.82849, VAL_SCORE 0.18942\n",
      "lambda 0.0001, factors 70, iterations 14, time 12.45, TRAIN_SCORE 0.82401, VAL_SCORE 0.18981\n",
      "lambda 0.0001, factors 70, iterations 15, time 13.65, TRAIN_SCORE 0.82313, VAL_SCORE 0.19158\n",
      "lambda 0.0001, factors 70, iterations 17, time 15.66, TRAIN_SCORE 0.82337, VAL_SCORE 0.19089\n",
      "lambda 0.0001, factors 70, iterations 20, time 17.58, TRAIN_SCORE 0.82281, VAL_SCORE 0.19500\n",
      "lambda 0.0001, factors 100, iterations 10, time 10.86, TRAIN_SCORE 0.89236, VAL_SCORE 0.19138\n",
      "lambda 0.0001, factors 100, iterations 12, time 12.99, TRAIN_SCORE 0.89228, VAL_SCORE 0.18825\n",
      "lambda 0.0001, factors 100, iterations 14, time 15.11, TRAIN_SCORE 0.89180, VAL_SCORE 0.18560\n",
      "lambda 0.0001, factors 100, iterations 15, time 16.03, TRAIN_SCORE 0.89212, VAL_SCORE 0.19050\n",
      "lambda 0.0001, factors 100, iterations 17, time 18.51, TRAIN_SCORE 0.89252, VAL_SCORE 0.18776\n",
      "lambda 0.0001, factors 100, iterations 20, time 21.39, TRAIN_SCORE 0.89084, VAL_SCORE 0.18913\n",
      "lambda 0.0001, factors 150, iterations 10, time 14.54, TRAIN_SCORE 0.95550, VAL_SCORE 0.18217\n",
      "lambda 0.0001, factors 150, iterations 12, time 17.58, TRAIN_SCORE 0.95726, VAL_SCORE 0.18521\n",
      "lambda 0.0001, factors 150, iterations 14, time 20.03, TRAIN_SCORE 0.95398, VAL_SCORE 0.18227\n",
      "lambda 0.0001, factors 150, iterations 15, time 21.41, TRAIN_SCORE 0.95358, VAL_SCORE 0.18374\n",
      "lambda 0.0001, factors 150, iterations 17, time 24.93, TRAIN_SCORE 0.95438, VAL_SCORE 0.18296\n",
      "lambda 0.0001, factors 150, iterations 20, time 28.77, TRAIN_SCORE 0.95486, VAL_SCORE 0.18619\n",
      "lambda 0.0001, factors 200, iterations 10, time 18.20, TRAIN_SCORE 0.98151, VAL_SCORE 0.17777\n",
      "lambda 0.0001, factors 200, iterations 12, time 21.35, TRAIN_SCORE 0.98127, VAL_SCORE 0.17424\n",
      "lambda 0.0001, factors 200, iterations 14, time 25.74, TRAIN_SCORE 0.98023, VAL_SCORE 0.17395\n",
      "lambda 0.0001, factors 200, iterations 15, time 26.74, TRAIN_SCORE 0.97991, VAL_SCORE 0.17924\n",
      "lambda 0.0001, factors 200, iterations 17, time 30.35, TRAIN_SCORE 0.98047, VAL_SCORE 0.18149\n",
      "lambda 0.0001, factors 200, iterations 20, time 35.76, TRAIN_SCORE 0.98055, VAL_SCORE 0.18345\n",
      "lambda 0.0001, factors 300, iterations 10, time 30.25, TRAIN_SCORE 0.99400, VAL_SCORE 0.17444\n",
      "lambda 0.0001, factors 300, iterations 12, time 36.35, TRAIN_SCORE 0.99400, VAL_SCORE 0.17786\n",
      "lambda 0.0001, factors 300, iterations 14, time 41.94, TRAIN_SCORE 0.99352, VAL_SCORE 0.17669\n",
      "lambda 0.0001, factors 300, iterations 15, time 47.91, TRAIN_SCORE 0.99368, VAL_SCORE 0.17591\n",
      "lambda 0.0001, factors 300, iterations 17, time 51.22, TRAIN_SCORE 0.99336, VAL_SCORE 0.17835\n",
      "lambda 0.0001, factors 300, iterations 20, time 60.34, TRAIN_SCORE 0.99344, VAL_SCORE 0.17600\n",
      "lambda 1e-05, factors 10, iterations 10, time 5.98, TRAIN_SCORE 0.63473, VAL_SCORE 0.16915\n",
      "lambda 1e-05, factors 10, iterations 12, time 7.09, TRAIN_SCORE 0.64202, VAL_SCORE 0.17150\n",
      "lambda 1e-05, factors 10, iterations 14, time 8.31, TRAIN_SCORE 0.63994, VAL_SCORE 0.16925\n",
      "lambda 1e-05, factors 10, iterations 15, time 8.98, TRAIN_SCORE 0.64162, VAL_SCORE 0.17081\n",
      "lambda 1e-05, factors 10, iterations 17, time 9.99, TRAIN_SCORE 0.64282, VAL_SCORE 0.17160\n",
      "lambda 1e-05, factors 10, iterations 20, time 12.02, TRAIN_SCORE 0.64138, VAL_SCORE 0.17346\n",
      "lambda 1e-05, factors 30, iterations 10, time 7.34, TRAIN_SCORE 0.70604, VAL_SCORE 0.18893\n",
      "lambda 1e-05, factors 30, iterations 12, time 8.52, TRAIN_SCORE 0.70044, VAL_SCORE 0.19050\n",
      "lambda 1e-05, factors 30, iterations 14, time 10.58, TRAIN_SCORE 0.70148, VAL_SCORE 0.18991\n",
      "lambda 1e-05, factors 30, iterations 15, time 11.41, TRAIN_SCORE 0.69900, VAL_SCORE 0.19079\n",
      "lambda 1e-05, factors 30, iterations 17, time 12.80, TRAIN_SCORE 0.69388, VAL_SCORE 0.19040\n",
      "lambda 1e-05, factors 30, iterations 20, time 14.22, TRAIN_SCORE 0.69668, VAL_SCORE 0.18707\n",
      "lambda 1e-05, factors 50, iterations 10, time 8.17, TRAIN_SCORE 0.77367, VAL_SCORE 0.19412\n",
      "lambda 1e-05, factors 50, iterations 12, time 9.73, TRAIN_SCORE 0.76983, VAL_SCORE 0.19187\n",
      "lambda 1e-05, factors 50, iterations 14, time 11.14, TRAIN_SCORE 0.76623, VAL_SCORE 0.19158\n",
      "lambda 1e-05, factors 50, iterations 15, time 11.88, TRAIN_SCORE 0.76911, VAL_SCORE 0.19393\n",
      "lambda 1e-05, factors 50, iterations 17, time 13.73, TRAIN_SCORE 0.76375, VAL_SCORE 0.19060\n",
      "lambda 1e-05, factors 50, iterations 20, time 15.98, TRAIN_SCORE 0.76303, VAL_SCORE 0.19226\n",
      "lambda 1e-05, factors 70, iterations 10, time 9.72, TRAIN_SCORE 0.82745, VAL_SCORE 0.19432\n",
      "lambda 1e-05, factors 70, iterations 12, time 11.20, TRAIN_SCORE 0.82281, VAL_SCORE 0.19452\n",
      "lambda 1e-05, factors 70, iterations 14, time 12.69, TRAIN_SCORE 0.82417, VAL_SCORE 0.19040\n",
      "lambda 1e-05, factors 70, iterations 15, time 14.07, TRAIN_SCORE 0.82193, VAL_SCORE 0.19079\n",
      "lambda 1e-05, factors 70, iterations 17, time 15.48, TRAIN_SCORE 0.82481, VAL_SCORE 0.19030\n",
      "lambda 1e-05, factors 70, iterations 20, time 17.73, TRAIN_SCORE 0.82465, VAL_SCORE 0.19226\n",
      "lambda 1e-05, factors 100, iterations 10, time 11.16, TRAIN_SCORE 0.89516, VAL_SCORE 0.18550\n",
      "lambda 1e-05, factors 100, iterations 12, time 13.14, TRAIN_SCORE 0.89220, VAL_SCORE 0.18707\n",
      "lambda 1e-05, factors 100, iterations 14, time 14.93, TRAIN_SCORE 0.89284, VAL_SCORE 0.18482\n",
      "lambda 1e-05, factors 100, iterations 15, time 16.29, TRAIN_SCORE 0.89316, VAL_SCORE 0.18942\n",
      "lambda 1e-05, factors 100, iterations 17, time 18.46, TRAIN_SCORE 0.89148, VAL_SCORE 0.18913\n",
      "lambda 1e-05, factors 100, iterations 20, time 21.38, TRAIN_SCORE 0.88804, VAL_SCORE 0.19128\n",
      "lambda 1e-05, factors 150, iterations 10, time 14.27, TRAIN_SCORE 0.95822, VAL_SCORE 0.18061\n"
     ]
    },
    {
     "name": "stdout",
     "output_type": "stream",
     "text": [
      "lambda 1e-05, factors 150, iterations 12, time 17.62, TRAIN_SCORE 0.95614, VAL_SCORE 0.18071\n",
      "lambda 1e-05, factors 150, iterations 14, time 20.08, TRAIN_SCORE 0.95582, VAL_SCORE 0.18217\n",
      "lambda 1e-05, factors 150, iterations 15, time 22.23, TRAIN_SCORE 0.95710, VAL_SCORE 0.18452\n",
      "lambda 1e-05, factors 150, iterations 17, time 25.03, TRAIN_SCORE 0.95574, VAL_SCORE 0.18266\n",
      "lambda 1e-05, factors 150, iterations 20, time 28.78, TRAIN_SCORE 0.95534, VAL_SCORE 0.18266\n",
      "lambda 1e-05, factors 200, iterations 10, time 17.71, TRAIN_SCORE 0.98055, VAL_SCORE 0.17689\n",
      "lambda 1e-05, factors 200, iterations 12, time 21.56, TRAIN_SCORE 0.97839, VAL_SCORE 0.18266\n",
      "lambda 1e-05, factors 200, iterations 14, time 25.09, TRAIN_SCORE 0.98063, VAL_SCORE 0.18217\n",
      "lambda 1e-05, factors 200, iterations 15, time 25.94, TRAIN_SCORE 0.98127, VAL_SCORE 0.17963\n",
      "lambda 1e-05, factors 200, iterations 17, time 30.25, TRAIN_SCORE 0.97967, VAL_SCORE 0.17982\n",
      "lambda 1e-05, factors 200, iterations 20, time 36.08, TRAIN_SCORE 0.97975, VAL_SCORE 0.17914\n",
      "lambda 1e-05, factors 300, iterations 10, time 30.19, TRAIN_SCORE 0.99328, VAL_SCORE 0.17894\n",
      "lambda 1e-05, factors 300, iterations 12, time 36.19, TRAIN_SCORE 0.99472, VAL_SCORE 0.17395\n",
      "lambda 1e-05, factors 300, iterations 14, time 42.36, TRAIN_SCORE 0.99400, VAL_SCORE 0.17512\n",
      "lambda 1e-05, factors 300, iterations 15, time 44.71, TRAIN_SCORE 0.99408, VAL_SCORE 0.17757\n",
      "lambda 1e-05, factors 300, iterations 17, time 52.20, TRAIN_SCORE 0.99352, VAL_SCORE 0.17483\n",
      "lambda 1e-05, factors 300, iterations 20, time 60.02, TRAIN_SCORE 0.99336, VAL_SCORE 0.17786\n",
      "CPU times: user 4h 52min 11s, sys: 9min 4s, total: 5h 1min 15s\n",
      "Wall time: 4h 1min 11s\n"
     ]
    }
   ],
   "source": [
    "%%time\n",
    "\n",
    "lambdas = []\n",
    "factors = []\n",
    "time_spent = []\n",
    "val_scores = []\n",
    "train_scores = []\n",
    "iterations = []\n",
    "\n",
    "for lbd in [1, 0.1, 0.01, 0.001, 0.0001, 0.00001]:\n",
    "    for factor_num in [10, 30, 50, 70, 100, 150, 200, 300]:\n",
    "        for iters in [10, 12,  14, 15, 17, 20]:\n",
    "            lambdas.append(lbd)\n",
    "            factors.append(factor_num)\n",
    "            iterations.append(iters)\n",
    "            \n",
    "            # Шаг прогона параметров с измерением времени\n",
    "            start_time=time.time()\n",
    "            model = evaluate_parms(lbd, factor_num, iters)\n",
    "            d_time = time.time() - start_time\n",
    "            time_spent.append(d_time)\n",
    "            \n",
    "            # Быстрый рекоменд (перемножение матриц из факторизации)\n",
    "            fast_bm25_recs = model.user_factors @ model.item_factors.T\n",
    "            \n",
    "            # Вычисление скора по тесту\n",
    "            result['fast_als_bm25'] = result['user_id'].apply(\n",
    "                lambda x: v_to_item_id(np.argsort(fast_bm25_recs[userid_to_id[x]])[-5:]))\n",
    "            val_score = v_precision_at_k(result.fast_als_bm25, result.actual).mean()\n",
    "            val_scores.append(val_score)\n",
    "            \n",
    "            # По трейну\n",
    "            train['fast_als_bm25'] = train['user_id'].apply(\n",
    "                lambda x: v_to_item_id(np.argsort(fast_bm25_recs[userid_to_id[x]])[-5:]))\n",
    "            train_score = v_precision_at_k(train.fast_als_bm25, train.actual).mean()\n",
    "            train_scores.append(train_score)\n",
    "            \n",
    "            print('lambda {}, factors {}, iterations {}, time {:.2f}, TRAIN_SCORE {:.5f}, VAL_SCORE {:.5f}'.\n",
    "                  format(lbd, factor_num, iters, d_time, train_score, val_score))"
   ]
  },
  {
   "cell_type": "code",
   "execution_count": 179,
   "metadata": {},
   "outputs": [
    {
     "data": {
      "text/plain": [
       "0.994717887154862"
      ]
     },
     "execution_count": 179,
     "metadata": {},
     "output_type": "execute_result"
    }
   ],
   "source": [
    "np.array(train_scores).max()"
   ]
  },
  {
   "cell_type": "code",
   "execution_count": 181,
   "metadata": {},
   "outputs": [
    {
     "data": {
      "text/plain": [
       "(0.1950048971596474, 215)"
      ]
     },
     "execution_count": 181,
     "metadata": {},
     "output_type": "execute_result"
    }
   ],
   "source": [
    "np.array(val_scores).max(), np.argmax(np.array(val_scores))"
   ]
  },
  {
   "cell_type": "code",
   "execution_count": 187,
   "metadata": {},
   "outputs": [
    {
     "data": {
      "text/plain": [
       "(0.0001, 70, 20, 0.1950048971596474)"
      ]
     },
     "execution_count": 187,
     "metadata": {},
     "output_type": "execute_result"
    }
   ],
   "source": [
    "# Как-то не очень удобно все в кучу свалил. Теперь придется разгребать\n",
    "# Возьмем прогон с максимальным результатом на валидации\n",
    "lambdas[215], factors[215], iterations[215], val_scores[215]"
   ]
  },
  {
   "cell_type": "code",
   "execution_count": 248,
   "metadata": {},
   "outputs": [
    {
     "data": {
      "text/plain": [
       "Text(0, 0.5, 'time (sec)')"
      ]
     },
     "execution_count": 248,
     "metadata": {},
     "output_type": "execute_result"
    },
    {
     "data": {
      "image/png": "[encoded data removed]",
      "text/plain": [
       "<Figure size 432x288 with 1 Axes>"
      ]
     },
     "metadata": {
      "needs_background": "light"
     },
     "output_type": "display_data"
    }
   ],
   "source": [
    "###### И относительно этих зафиксированных значений будем строить графики\n",
    "# Проще всего - график для количества итераций (это просто с 210 по 215)\n",
    "# Время обучения: \n",
    "plt.plot(iterations[210:216], time_spent[210:216])\n",
    "plt.xlabel('iterations')\n",
    "plt.ylabel('time (sec)')"
   ]
  },
  {
   "cell_type": "code",
   "execution_count": 244,
   "metadata": {},
   "outputs": [
    {
     "data": {
      "text/plain": [
       "Text(0, 0.5, 'train score')"
      ]
     },
     "execution_count": 244,
     "metadata": {},
     "output_type": "execute_result"
    },
    {
     "data": {
      "image/png": "[encoded data removed]",
      "text/plain": [
       "<Figure size 432x288 with 1 Axes>"
      ]
     },
     "metadata": {
      "needs_background": "light"
     },
     "output_type": "display_data"
    }
   ],
   "source": [
    "# Точность\n",
    "plt.plot(iterations[210:216], train_scores[210:216])\n",
    "# plt.plot(range(6), val_scores[210:216])\n",
    "plt.xlabel('iterations')\n",
    "plt.ylabel('train score')"
   ]
  },
  {
   "cell_type": "code",
   "execution_count": 245,
   "metadata": {},
   "outputs": [
    {
     "data": {
      "text/plain": [
       "Text(0, 0.5, 'val score')"
      ]
     },
     "execution_count": 245,
     "metadata": {},
     "output_type": "execute_result"
    },
    {
     "data": {
      "image/png": "[encoded data removed]",
      "text/plain": [
       "<Figure size 432x288 with 1 Axes>"
      ]
     },
     "metadata": {
      "needs_background": "light"
     },
     "output_type": "display_data"
    }
   ],
   "source": [
    "plt.plot(iterations[210:216], val_scores[210:216])\n",
    "plt.xlabel('iterations')\n",
    "plt.ylabel('val score')"
   ]
  },
  {
   "cell_type": "code",
   "execution_count": null,
   "metadata": {},
   "outputs": [],
   "source": [
    "# Надо видимо дальше учить? Попробуем позже"
   ]
  },
  {
   "cell_type": "code",
   "execution_count": 201,
   "metadata": {},
   "outputs": [],
   "source": [
    "# Ок. Теперь к остальным параметрам - lambda (при factors=70, iterations=20)\n",
    "# Шаг для лямбды в массиве 48 (6 раз меняется итерация и 8 раз factors)\n",
    "measures = []\n",
    "for i in range(6):\n",
    "    row = i * 48 + 23  # 23 - порядковый номер строки для измерений с factors=70\n",
    "    measures.append({'lambda': lambdas[row], 'time': time_spent[row], \n",
    "                     'train': train_scores[row], 'val': val_scores[row], 'factors': factors[row]})"
   ]
  },
  {
   "cell_type": "code",
   "execution_count": 218,
   "metadata": {},
   "outputs": [
    {
     "data": {
      "text/plain": [
       "Text(0.5, 0, 'lambda')"
      ]
     },
     "execution_count": 218,
     "metadata": {},
     "output_type": "execute_result"
    },
    {
     "data": {
      "image/png": "[encoded data removed]",
      "text/plain": [
       "<Figure size 432x288 with 1 Axes>"
      ]
     },
     "metadata": {
      "needs_background": "light"
     },
     "output_type": "display_data"
    }
   ],
   "source": [
    "# Время\n",
    "plt.plot(list(map(lambda x: x['lambda'], measures)), list(map(lambda x: x['time'], measures)))\n",
    "plt.xscale('log') \n",
    "plt.ylabel('time (sec)')\n",
    "plt.xlabel('lambda')"
   ]
  },
  {
   "cell_type": "code",
   "execution_count": 217,
   "metadata": {},
   "outputs": [
    {
     "data": {
      "text/plain": [
       "Text(0.5, 0, 'lambda')"
      ]
     },
     "execution_count": 217,
     "metadata": {},
     "output_type": "execute_result"
    },
    {
     "data": {
      "image/png": "[encoded data removed]",
      "text/plain": [
       "<Figure size 432x288 with 1 Axes>"
      ]
     },
     "metadata": {
      "needs_background": "light"
     },
     "output_type": "display_data"
    }
   ],
   "source": [
    "# Трейн скор\n",
    "plt.plot(list(map(lambda x: x['lambda'], measures)), list(map(lambda x: x['train'], measures)))\n",
    "plt.xscale('log') \n",
    "plt.ylabel('train')\n",
    "plt.xlabel('lambda')"
   ]
  },
  {
   "cell_type": "code",
   "execution_count": 219,
   "metadata": {},
   "outputs": [
    {
     "data": {
      "text/plain": [
       "Text(0.5, 0, 'lambda')"
      ]
     },
     "execution_count": 219,
     "metadata": {},
     "output_type": "execute_result"
    },
    {
     "data": {
      "image/png": "[encoded data removed]",
      "text/plain": [
       "<Figure size 432x288 with 1 Axes>"
      ]
     },
     "metadata": {
      "needs_background": "light"
     },
     "output_type": "display_data"
    }
   ],
   "source": [
    "# Валидация\n",
    "plt.plot(list(map(lambda x: x['lambda'], measures)), list(map(lambda x: x['val'], measures)))\n",
    "plt.xscale('log') \n",
    "plt.ylabel('val')\n",
    "plt.xlabel('lambda')"
   ]
  },
  {
   "cell_type": "code",
   "execution_count": 236,
   "metadata": {},
   "outputs": [],
   "source": [
    "# Теперь количество факторов. Относительно lambda 0.0001, iterations 20\n",
    "measures = []\n",
    "for i in range(8):\n",
    "    row = i * 6 + 197\n",
    "    measures.append({'lambda': lambdas[row], 'time': time_spent[row], 'iterations': iterations[row],\n",
    "                     'train': train_scores[row], 'val': val_scores[row], 'factors': factors[row]})"
   ]
  },
  {
   "cell_type": "code",
   "execution_count": 240,
   "metadata": {},
   "outputs": [
    {
     "data": {
      "text/plain": [
       "Text(0.5, 0, 'factors')"
      ]
     },
     "execution_count": 240,
     "metadata": {},
     "output_type": "execute_result"
    },
    {
     "data": {
      "image/png": "[encoded data removed]",
      "text/plain": [
       "<Figure size 432x288 with 1 Axes>"
      ]
     },
     "metadata": {
      "needs_background": "light"
     },
     "output_type": "display_data"
    }
   ],
   "source": [
    "# Время\n",
    "plt.plot(list(map(lambda x: x['factors'], measures)), list(map(lambda x: x['time'], measures)))\n",
    "plt.ylabel('time (sec)')\n",
    "plt.xlabel('factors')"
   ]
  },
  {
   "cell_type": "code",
   "execution_count": 246,
   "metadata": {},
   "outputs": [
    {
     "data": {
      "text/plain": [
       "Text(0.5, 0, 'factors')"
      ]
     },
     "execution_count": 246,
     "metadata": {},
     "output_type": "execute_result"
    },
    {
     "data": {
      "image/png": "[encoded data removed]",
      "text/plain": [
       "<Figure size 432x288 with 1 Axes>"
      ]
     },
     "metadata": {
      "needs_background": "light"
     },
     "output_type": "display_data"
    }
   ],
   "source": [
    "# Трейн скор\n",
    "plt.plot(list(map(lambda x: x['factors'], measures)), list(map(lambda x: x['train'], measures)))\n",
    "plt.ylabel('train')\n",
    "plt.xlabel('factors')"
   ]
  },
  {
   "cell_type": "code",
   "execution_count": 247,
   "metadata": {},
   "outputs": [
    {
     "data": {
      "text/plain": [
       "Text(0.5, 0, 'factors')"
      ]
     },
     "execution_count": 247,
     "metadata": {},
     "output_type": "execute_result"
    },
    {
     "data": {
      "image/png": "[encoded data removed]",
      "text/plain": [
       "<Figure size 432x288 with 1 Axes>"
      ]
     },
     "metadata": {
      "needs_background": "light"
     },
     "output_type": "display_data"
    }
   ],
   "source": [
    "# Валидация\n",
    "plt.plot(list(map(lambda x: x['factors'], measures)), list(map(lambda x: x['val'], measures)))\n",
    "plt.ylabel('val')\n",
    "plt.xlabel('factors')"
   ]
  },
  {
   "cell_type": "code",
   "execution_count": null,
   "metadata": {},
   "outputs": [],
   "source": [
    "# Ну вобщем время - ожидаемо линейно зависит от количества итераций и от количества факторов. \n",
    "# От коэффициента регуляризации зависит не линейно, но тоже прослеживается..."
   ]
  },
  {
   "cell_type": "code",
   "execution_count": null,
   "metadata": {},
   "outputs": [],
   "source": [
    "# Вот со скором все сложнее. Трейновый скор ожидаемо стабильно растет при уменьшении лямбды \n",
    "# и увеличении количества итераций - очевидно модель радостно переобучается. Количество латентных факторов тоже\n",
    "# влияет на трейн-скор строго положительно (хоть и немного нелинейно)\n",
    "\n",
    "# Валидационная точность - большое разочарование )) Пока не удалось дотянутья даже до максимального результата\n",
    "# из предыдущего ДЗ.. (в прошлый раз мы уплотняли матрицу интеракций, отфильтровывая непопулярные товары до обучения)\n",
    "# Сейчас мы работаем с полной (а соответственно более разреженной матрицей) - это еще один путь для поиска улучшений\n",
    "# Но, кстати, график зависимости от количества итераций вселяет некую надежду. \n",
    "# Сейчас попробуем подольше поучить"
   ]
  },
  {
   "cell_type": "code",
   "execution_count": 251,
   "metadata": {},
   "outputs": [
    {
     "name": "stdout",
     "output_type": "stream",
     "text": [
      "iterations 1, TRAIN_SCORE 0.78543, VAL_SCORE 0.14261\n",
      "iterations 2, TRAIN_SCORE 0.79952, VAL_SCORE 0.17904\n",
      "iterations 3, TRAIN_SCORE 0.81825, VAL_SCORE 0.18952\n",
      "iterations 4, TRAIN_SCORE 0.82769, VAL_SCORE 0.18913\n",
      "iterations 5, TRAIN_SCORE 0.82913, VAL_SCORE 0.18805\n",
      "iterations 6, TRAIN_SCORE 0.83089, VAL_SCORE 0.18981\n",
      "iterations 7, TRAIN_SCORE 0.82721, VAL_SCORE 0.19452\n",
      "iterations 8, TRAIN_SCORE 0.82697, VAL_SCORE 0.19011\n",
      "iterations 9, TRAIN_SCORE 0.83049, VAL_SCORE 0.19011\n",
      "iterations 10, TRAIN_SCORE 0.82585, VAL_SCORE 0.18786\n",
      "iterations 11, TRAIN_SCORE 0.82329, VAL_SCORE 0.19559\n",
      "iterations 12, TRAIN_SCORE 0.82449, VAL_SCORE 0.18981\n",
      "iterations 13, TRAIN_SCORE 0.82641, VAL_SCORE 0.19383\n",
      "iterations 14, TRAIN_SCORE 0.82505, VAL_SCORE 0.19079\n",
      "iterations 15, TRAIN_SCORE 0.82249, VAL_SCORE 0.18913\n",
      "iterations 16, TRAIN_SCORE 0.82193, VAL_SCORE 0.19128\n",
      "iterations 17, TRAIN_SCORE 0.82225, VAL_SCORE 0.19334\n",
      "iterations 18, TRAIN_SCORE 0.82105, VAL_SCORE 0.19305\n",
      "iterations 19, TRAIN_SCORE 0.82209, VAL_SCORE 0.18893\n",
      "iterations 20, TRAIN_SCORE 0.82169, VAL_SCORE 0.19207\n",
      "iterations 21, TRAIN_SCORE 0.82265, VAL_SCORE 0.19393\n",
      "iterations 22, TRAIN_SCORE 0.82265, VAL_SCORE 0.19305\n",
      "iterations 23, TRAIN_SCORE 0.82137, VAL_SCORE 0.19001\n",
      "iterations 24, TRAIN_SCORE 0.81969, VAL_SCORE 0.19099\n",
      "iterations 25, TRAIN_SCORE 0.82289, VAL_SCORE 0.18962\n",
      "iterations 26, TRAIN_SCORE 0.82297, VAL_SCORE 0.18923\n",
      "iterations 27, TRAIN_SCORE 0.82337, VAL_SCORE 0.19236\n",
      "iterations 28, TRAIN_SCORE 0.82161, VAL_SCORE 0.19119\n",
      "iterations 29, TRAIN_SCORE 0.82089, VAL_SCORE 0.19079\n",
      "iterations 30, TRAIN_SCORE 0.82001, VAL_SCORE 0.19109\n",
      "iterations 31, TRAIN_SCORE 0.82497, VAL_SCORE 0.19305\n",
      "iterations 32, TRAIN_SCORE 0.81985, VAL_SCORE 0.19295\n",
      "iterations 33, TRAIN_SCORE 0.81937, VAL_SCORE 0.18864\n",
      "iterations 34, TRAIN_SCORE 0.81777, VAL_SCORE 0.19070\n"
     ]
    }
   ],
   "source": [
    "train_scores = []\n",
    "val_scores = []\n",
    "for iters in range(1, 35):     \n",
    "\n",
    "            model = evaluate_parms(0.0001, 70, iters)\n",
    "            \n",
    "            # Быстрый рекоменд (перемножение матриц из факторизации)\n",
    "            fast_bm25_recs = model.user_factors @ model.item_factors.T\n",
    "            \n",
    "            # Вычисление скора по тесту\n",
    "            result['fast_als_bm25'] = result['user_id'].apply(\n",
    "                lambda x: v_to_item_id(np.argsort(fast_bm25_recs[userid_to_id[x]])[-5:]))\n",
    "            val_score = v_precision_at_k(result.fast_als_bm25, result.actual).mean()\n",
    "            val_scores.append(val_score)\n",
    "            \n",
    "            # По трейну\n",
    "            train['fast_als_bm25'] = train['user_id'].apply(\n",
    "                lambda x: v_to_item_id(np.argsort(fast_bm25_recs[userid_to_id[x]])[-5:]))\n",
    "            train_score = v_precision_at_k(train.fast_als_bm25, train.actual).mean()\n",
    "            train_scores.append(train_score)\n",
    "            \n",
    "            print('iterations {}, TRAIN_SCORE {:.5f}, VAL_SCORE {:.5f}'.\n",
    "                  format(iters, train_score, val_score))"
   ]
  },
  {
   "cell_type": "code",
   "execution_count": 257,
   "metadata": {},
   "outputs": [
    {
     "data": {
      "text/plain": [
       "Text(0, 0.5, 'train score')"
      ]
     },
     "execution_count": 257,
     "metadata": {},
     "output_type": "execute_result"
    },
    {
     "data": {
      "image/png": "[encoded data removed]",
      "text/plain": [
       "<Figure size 1152x432 with 1 Axes>"
      ]
     },
     "metadata": {
      "needs_background": "light"
     },
     "output_type": "display_data"
    }
   ],
   "source": [
    "plt.figure(figsize=(16,6))\n",
    "plt.plot(list(range(1, 35)), train_scores)\n",
    "plt.xlabel('iterations')\n",
    "plt.ylabel('train score')"
   ]
  },
  {
   "cell_type": "code",
   "execution_count": 255,
   "metadata": {},
   "outputs": [
    {
     "data": {
      "text/plain": [
       "Text(0, 0.5, 'val score')"
      ]
     },
     "execution_count": 255,
     "metadata": {},
     "output_type": "execute_result"
    },
    {
     "data": {
      "image/png": "[encoded data removed]",
      "text/plain": [
       "<Figure size 1152x432 with 1 Axes>"
      ]
     },
     "metadata": {
      "needs_background": "light"
     },
     "output_type": "display_data"
    }
   ],
   "source": [
    "plt.figure(figsize=(16,6))\n",
    "plt.plot(list(range(1, 35)), val_scores)\n",
    "plt.xlabel('iterations')\n",
    "plt.ylabel('val score')"
   ]
  },
  {
   "cell_type": "code",
   "execution_count": 256,
   "metadata": {},
   "outputs": [],
   "source": [
    "# Но - нет ( \n",
    "# Показалось видимо..."
   ]
  },
  {
   "cell_type": "code",
   "execution_count": 345,
   "metadata": {},
   "outputs": [],
   "source": [
    "# Вобщем пока на этом остановлюсь. Дальнейшие шаги - до-разобраться со взвешиванием, \n",
    "# подбор вариантов уплотнения матрицы"
   ]
  },
  {
   "cell_type": "markdown",
   "metadata": {},
   "source": [
    "**P.S.** Не пишите отписки в качестве выводов. Мне интресены Ваши рассуждения, трудности, с которыми Вы сталкнулись и что-то, что Вас удивило. Если выводы контринтуитивны - напишите об этом, в этом нет ничего страшного!"
   ]
  }
 ],
 "metadata": {
  "kernelspec": {
   "display_name": "Python 3",
   "language": "python",
   "name": "python3"
  },
  "language_info": {
   "codemirror_mode": {
    "name": "ipython",
    "version": 3
   },
   "file_extension": ".py",
   "mimetype": "text/x-python",
   "name": "python",
   "nbconvert_exporter": "python",
   "pygments_lexer": "ipython3",
   "version": "3.8.3"
  }
 },
 "nbformat": 4,
 "nbformat_minor": 2
}
