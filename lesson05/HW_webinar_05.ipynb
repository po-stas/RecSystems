{
 "cells": [
  {
   "cell_type": "markdown",
   "metadata": {},
   "source": [
    "### Формально, это не совсем ДЗ №5\n",
    "Это слабо-успешные попытки завести lightfm и получить хоть что-нибудь годное из него на наших данных.\n",
    "- Просто - плюсы - минусы гибридных систем мы уже обсуждали на вебинарах, \n",
    "- Про hh мы тоже уже читали и обсуждали\n",
    "\n",
    "По итогу - сколько нибудь близкого к коллаборативным методам качества получить не удалось\n",
    "И остается загадкой - что делать с нехваткой данных по пользователям :)"
   ]
  },
  {
   "cell_type": "code",
   "execution_count": 427,
   "metadata": {},
   "outputs": [],
   "source": [
    "import pandas as pd\n",
    "import numpy as np\n",
    "import matplotlib.pyplot as plt\n",
    "%matplotlib inline\n",
    "\n",
    "# Для работы с матрицами\n",
    "from scipy.sparse import csr_matrix, coo_matrix\n",
    "\n",
    "# Матричная факторизация\n",
    "from implicit.als import AlternatingLeastSquares\n",
    "from implicit.nearest_neighbours import bm25_weight, tfidf_weight\n",
    "\n",
    "from lightfm import LightFM\n",
    "from lightfm.evaluation import precision_at_k, recall_at_k"
   ]
  },
  {
   "cell_type": "code",
   "execution_count": 174,
   "metadata": {},
   "outputs": [
    {
     "data": {
      "text/html": [
       "<div>\n",
       "<style scoped>\n",
       "    .dataframe tbody tr th:only-of-type {\n",
       "        vertical-align: middle;\n",
       "    }\n",
       "\n",
       "    .dataframe tbody tr th {\n",
       "        vertical-align: top;\n",
       "    }\n",
       "\n",
       "    .dataframe thead th {\n",
       "        text-align: right;\n",
       "    }\n",
       "</style>\n",
       "<table border=\"1\" class=\"dataframe\">\n",
       "  <thead>\n",
       "    <tr style=\"text-align: right;\">\n",
       "      <th></th>\n",
       "      <th>user_id</th>\n",
       "      <th>basket_id</th>\n",
       "      <th>day</th>\n",
       "      <th>item_id</th>\n",
       "      <th>quantity</th>\n",
       "      <th>sales_value</th>\n",
       "      <th>store_id</th>\n",
       "      <th>retail_disc</th>\n",
       "      <th>trans_time</th>\n",
       "      <th>week_no</th>\n",
       "      <th>coupon_disc</th>\n",
       "      <th>coupon_match_disc</th>\n",
       "    </tr>\n",
       "  </thead>\n",
       "  <tbody>\n",
       "    <tr>\n",
       "      <th>0</th>\n",
       "      <td>2375</td>\n",
       "      <td>26984851472</td>\n",
       "      <td>1</td>\n",
       "      <td>1004906</td>\n",
       "      <td>1</td>\n",
       "      <td>1.39</td>\n",
       "      <td>364</td>\n",
       "      <td>-0.6</td>\n",
       "      <td>1631</td>\n",
       "      <td>1</td>\n",
       "      <td>0.0</td>\n",
       "      <td>0.0</td>\n",
       "    </tr>\n",
       "    <tr>\n",
       "      <th>1</th>\n",
       "      <td>2375</td>\n",
       "      <td>26984851472</td>\n",
       "      <td>1</td>\n",
       "      <td>1033142</td>\n",
       "      <td>1</td>\n",
       "      <td>0.82</td>\n",
       "      <td>364</td>\n",
       "      <td>0.0</td>\n",
       "      <td>1631</td>\n",
       "      <td>1</td>\n",
       "      <td>0.0</td>\n",
       "      <td>0.0</td>\n",
       "    </tr>\n",
       "  </tbody>\n",
       "</table>\n",
       "</div>"
      ],
      "text/plain": [
       "   user_id    basket_id  day  item_id  quantity  sales_value  store_id  \\\n",
       "0     2375  26984851472    1  1004906         1         1.39       364   \n",
       "1     2375  26984851472    1  1033142         1         0.82       364   \n",
       "\n",
       "   retail_disc  trans_time  week_no  coupon_disc  coupon_match_disc  \n",
       "0         -0.6        1631        1          0.0                0.0  \n",
       "1          0.0        1631        1          0.0                0.0  "
      ]
     },
     "execution_count": 174,
     "metadata": {},
     "output_type": "execute_result"
    }
   ],
   "source": [
    "data = pd.read_csv('data/retail_train.csv')\n",
    "item_features = pd.read_csv('data/product.csv')\n",
    "user_features = pd.read_csv('data/hh_demographic.csv')\n",
    "\n",
    "# column processing\n",
    "item_features.columns = [col.lower() for col in item_features.columns]\n",
    "user_features.columns = [col.lower() for col in user_features.columns]\n",
    "\n",
    "item_features.rename(columns={'product_id': 'item_id'}, inplace=True)\n",
    "user_features.rename(columns={'household_key': 'user_id'}, inplace=True)\n",
    "\n",
    "# train test split\n",
    "test_size_weeks = 3\n",
    "\n",
    "data_train = data[data['week_no'] < data['week_no'].max() - test_size_weeks]\n",
    "data_test = data[data['week_no'] >= data['week_no'].max() - test_size_weeks]\n",
    "\n",
    "data_train.head(2)"
   ]
  },
  {
   "cell_type": "code",
   "execution_count": 179,
   "metadata": {},
   "outputs": [
    {
     "data": {
      "text/html": [
       "<div>\n",
       "<style scoped>\n",
       "    .dataframe tbody tr th:only-of-type {\n",
       "        vertical-align: middle;\n",
       "    }\n",
       "\n",
       "    .dataframe tbody tr th {\n",
       "        vertical-align: top;\n",
       "    }\n",
       "\n",
       "    .dataframe thead th {\n",
       "        text-align: right;\n",
       "    }\n",
       "</style>\n",
       "<table border=\"1\" class=\"dataframe\">\n",
       "  <thead>\n",
       "    <tr style=\"text-align: right;\">\n",
       "      <th></th>\n",
       "      <th>age_desc</th>\n",
       "      <th>marital_status_code</th>\n",
       "      <th>income_desc</th>\n",
       "      <th>homeowner_desc</th>\n",
       "      <th>hh_comp_desc</th>\n",
       "      <th>household_size_desc</th>\n",
       "      <th>kid_category_desc</th>\n",
       "      <th>user_id</th>\n",
       "    </tr>\n",
       "  </thead>\n",
       "  <tbody>\n",
       "    <tr>\n",
       "      <th>0</th>\n",
       "      <td>65+</td>\n",
       "      <td>A</td>\n",
       "      <td>35-49K</td>\n",
       "      <td>Homeowner</td>\n",
       "      <td>2 Adults No Kids</td>\n",
       "      <td>2</td>\n",
       "      <td>None/Unknown</td>\n",
       "      <td>1</td>\n",
       "    </tr>\n",
       "    <tr>\n",
       "      <th>1</th>\n",
       "      <td>45-54</td>\n",
       "      <td>A</td>\n",
       "      <td>50-74K</td>\n",
       "      <td>Homeowner</td>\n",
       "      <td>2 Adults No Kids</td>\n",
       "      <td>2</td>\n",
       "      <td>None/Unknown</td>\n",
       "      <td>7</td>\n",
       "    </tr>\n",
       "    <tr>\n",
       "      <th>2</th>\n",
       "      <td>25-34</td>\n",
       "      <td>U</td>\n",
       "      <td>25-34K</td>\n",
       "      <td>Unknown</td>\n",
       "      <td>2 Adults Kids</td>\n",
       "      <td>3</td>\n",
       "      <td>1</td>\n",
       "      <td>8</td>\n",
       "    </tr>\n",
       "    <tr>\n",
       "      <th>3</th>\n",
       "      <td>25-34</td>\n",
       "      <td>U</td>\n",
       "      <td>75-99K</td>\n",
       "      <td>Homeowner</td>\n",
       "      <td>2 Adults Kids</td>\n",
       "      <td>4</td>\n",
       "      <td>2</td>\n",
       "      <td>13</td>\n",
       "    </tr>\n",
       "    <tr>\n",
       "      <th>4</th>\n",
       "      <td>45-54</td>\n",
       "      <td>B</td>\n",
       "      <td>50-74K</td>\n",
       "      <td>Homeowner</td>\n",
       "      <td>Single Female</td>\n",
       "      <td>1</td>\n",
       "      <td>None/Unknown</td>\n",
       "      <td>16</td>\n",
       "    </tr>\n",
       "  </tbody>\n",
       "</table>\n",
       "</div>"
      ],
      "text/plain": [
       "  age_desc marital_status_code income_desc homeowner_desc      hh_comp_desc  \\\n",
       "0      65+                   A      35-49K      Homeowner  2 Adults No Kids   \n",
       "1    45-54                   A      50-74K      Homeowner  2 Adults No Kids   \n",
       "2    25-34                   U      25-34K        Unknown     2 Adults Kids   \n",
       "3    25-34                   U      75-99K      Homeowner     2 Adults Kids   \n",
       "4    45-54                   B      50-74K      Homeowner     Single Female   \n",
       "\n",
       "  household_size_desc kid_category_desc  user_id  \n",
       "0                   2      None/Unknown        1  \n",
       "1                   2      None/Unknown        7  \n",
       "2                   3                 1        8  \n",
       "3                   4                 2       13  \n",
       "4                   1      None/Unknown       16  "
      ]
     },
     "execution_count": 179,
     "metadata": {},
     "output_type": "execute_result"
    }
   ],
   "source": [
    "user_features.head()"
   ]
  },
  {
   "cell_type": "code",
   "execution_count": 185,
   "metadata": {},
   "outputs": [
    {
     "data": {
      "text/plain": [
       "(801, 8)"
      ]
     },
     "execution_count": 185,
     "metadata": {},
     "output_type": "execute_result"
    }
   ],
   "source": [
    "user_features.shape"
   ]
  },
  {
   "cell_type": "code",
   "execution_count": null,
   "metadata": {},
   "outputs": [],
   "source": [
    "# Houston, у нас проблема - у нас 2499 пользователей, а описания есть на 801"
   ]
  },
  {
   "cell_type": "code",
   "execution_count": 186,
   "metadata": {},
   "outputs": [
    {
     "data": {
      "text/plain": [
       "(92353, 7)"
      ]
     },
     "execution_count": 186,
     "metadata": {},
     "output_type": "execute_result"
    }
   ],
   "source": [
    "item_features.shape"
   ]
  },
  {
   "cell_type": "code",
   "execution_count": 190,
   "metadata": {},
   "outputs": [
    {
     "data": {
      "text/plain": [
       "(89051,)"
      ]
     },
     "execution_count": 190,
     "metadata": {},
     "output_type": "execute_result"
    }
   ],
   "source": [
    "data.item_id.unique().shape"
   ]
  },
  {
   "cell_type": "code",
   "execution_count": 191,
   "metadata": {},
   "outputs": [],
   "source": [
    "# С айтем фичами наверное все ок их даже больше - хотя никто не гарантирует что они от тех товаров которые у нас есть"
   ]
  },
  {
   "cell_type": "code",
   "execution_count": 114,
   "metadata": {},
   "outputs": [
    {
     "data": {
      "text/html": [
       "<div>\n",
       "<style scoped>\n",
       "    .dataframe tbody tr th:only-of-type {\n",
       "        vertical-align: middle;\n",
       "    }\n",
       "\n",
       "    .dataframe tbody tr th {\n",
       "        vertical-align: top;\n",
       "    }\n",
       "\n",
       "    .dataframe thead th {\n",
       "        text-align: right;\n",
       "    }\n",
       "</style>\n",
       "<table border=\"1\" class=\"dataframe\">\n",
       "  <thead>\n",
       "    <tr style=\"text-align: right;\">\n",
       "      <th></th>\n",
       "      <th>user_id</th>\n",
       "      <th>actual</th>\n",
       "    </tr>\n",
       "  </thead>\n",
       "  <tbody>\n",
       "    <tr>\n",
       "      <th>0</th>\n",
       "      <td>1</td>\n",
       "      <td>[821867, 834484, 856942, 865456, 889248, 90795...</td>\n",
       "    </tr>\n",
       "    <tr>\n",
       "      <th>1</th>\n",
       "      <td>3</td>\n",
       "      <td>[835476, 851057, 872021, 878302, 879948, 90963...</td>\n",
       "    </tr>\n",
       "  </tbody>\n",
       "</table>\n",
       "</div>"
      ],
      "text/plain": [
       "   user_id                                             actual\n",
       "0        1  [821867, 834484, 856942, 865456, 889248, 90795...\n",
       "1        3  [835476, 851057, 872021, 878302, 879948, 90963..."
      ]
     },
     "execution_count": 114,
     "metadata": {},
     "output_type": "execute_result"
    }
   ],
   "source": [
    "# Тестовые таргеты для получения метрик\n",
    "result = data_test.groupby('user_id')['item_id'].unique().reset_index()\n",
    "result.columns=['user_id', 'actual']\n",
    "result.head(2)"
   ]
  },
  {
   "cell_type": "code",
   "execution_count": 532,
   "metadata": {},
   "outputs": [
    {
     "name": "stderr",
     "output_type": "stream",
     "text": [
      "/Users/postas/Anaconda/anaconda3/lib/python3.8/site-packages/pandas/core/indexing.py:966: SettingWithCopyWarning: \n",
      "A value is trying to be set on a copy of a slice from a DataFrame.\n",
      "Try using .loc[row_indexer,col_indexer] = value instead\n",
      "\n",
      "See the caveats in the documentation: https://pandas.pydata.org/pandas-docs/stable/user_guide/indexing.html#returning-a-view-versus-a-copy\n",
      "  self.obj[item] = s\n"
     ]
    }
   ],
   "source": [
    "# Зарезаем до top_5000\n",
    "popularity = data_train.groupby('item_id')['quantity'].sum().reset_index()\n",
    "popularity.rename(columns={'quantity': 'n_sold'}, inplace=True)\n",
    "top_5000 = popularity.sort_values('n_sold', ascending=False).head(5000).item_id.tolist()\n",
    "data_train.loc[~data_train['item_id'].isin(top_5000), 'item_id'] = 999999"
   ]
  },
  {
   "cell_type": "code",
   "execution_count": 6,
   "metadata": {},
   "outputs": [
    {
     "data": {
      "text/plain": [
       "array(['GROCERY', 'MISC. TRANS.', 'PASTRY', 'DRUG GM', 'MEAT-PCKGD',\n",
       "       'SEAFOOD-PCKGD', 'PRODUCE', 'NUTRITION', 'DELI', 'COSMETICS',\n",
       "       'MEAT', 'FLORAL', 'TRAVEL & LEISUR', 'SEAFOOD', 'MISC SALES TRAN',\n",
       "       'SALAD BAR', 'KIOSK-GAS', 'ELECT &PLUMBING', 'GRO BAKERY',\n",
       "       'GM MERCH EXP', 'FROZEN GROCERY', 'COUP/STR & MFG', 'SPIRITS',\n",
       "       'GARDEN CENTER', 'TOYS', 'CHARITABLE CONT', 'RESTAURANT', 'RX',\n",
       "       'PROD-WHS SALES', 'MEAT-WHSE', 'DAIRY DELI', 'CHEF SHOPPE', 'HBC',\n",
       "       'DELI/SNACK BAR', 'PORK', 'AUTOMOTIVE', 'VIDEO RENTAL', ' ',\n",
       "       'CNTRL/STORE SUP', 'HOUSEWARES', 'POSTAL CENTER', 'PHOTO', 'VIDEO',\n",
       "       'PHARMACY SUPPLY'], dtype=object)"
      ]
     },
     "execution_count": 6,
     "metadata": {},
     "output_type": "execute_result"
    }
   ],
   "source": [
    "item_features['department'].unique()"
   ]
  },
  {
   "cell_type": "code",
   "execution_count": 193,
   "metadata": {},
   "outputs": [
    {
     "name": "stdout",
     "output_type": "stream",
     "text": [
      "CPU times: user 2.11 s, sys: 299 ms, total: 2.41 s\n",
      "Wall time: 2.46 s\n"
     ]
    }
   ],
   "source": [
    "%%time\n",
    "user_item_matrix = pd.pivot_table(data_train, \n",
    "                                  index='user_id', columns='item_id', \n",
    "                                  values='quantity', \n",
    "                                  aggfunc='count', \n",
    "                                  fill_value=0\n",
    "                                 )"
   ]
  },
  {
   "cell_type": "code",
   "execution_count": 194,
   "metadata": {},
   "outputs": [],
   "source": [
    "user_item_matrix = user_item_matrix.astype(float)"
   ]
  },
  {
   "cell_type": "code",
   "execution_count": 278,
   "metadata": {},
   "outputs": [],
   "source": [
    "userids = user_item_matrix.index.values\n",
    "itemids = user_item_matrix.columns.values\n",
    "\n",
    "matrix_userids = np.arange(len(userids))\n",
    "matrix_itemids = np.arange(len(itemids))\n",
    "\n",
    "id_to_itemid = dict(zip(matrix_itemids, itemids))\n",
    "id_to_userid = dict(zip(matrix_userids, userids))\n",
    "\n",
    "itemid_to_id = dict(zip(itemids, matrix_itemids))\n",
    "userid_to_id = dict(zip(userids, matrix_userids))"
   ]
  },
  {
   "cell_type": "code",
   "execution_count": 198,
   "metadata": {},
   "outputs": [
    {
     "data": {
      "text/html": [
       "<div>\n",
       "<style scoped>\n",
       "    .dataframe tbody tr th:only-of-type {\n",
       "        vertical-align: middle;\n",
       "    }\n",
       "\n",
       "    .dataframe tbody tr th {\n",
       "        vertical-align: top;\n",
       "    }\n",
       "\n",
       "    .dataframe thead th {\n",
       "        text-align: right;\n",
       "    }\n",
       "</style>\n",
       "<table border=\"1\" class=\"dataframe\">\n",
       "  <thead>\n",
       "    <tr style=\"text-align: right;\">\n",
       "      <th></th>\n",
       "      <th>age_desc</th>\n",
       "      <th>marital_status_code</th>\n",
       "      <th>income_desc</th>\n",
       "      <th>homeowner_desc</th>\n",
       "      <th>hh_comp_desc</th>\n",
       "      <th>household_size_desc</th>\n",
       "      <th>kid_category_desc</th>\n",
       "    </tr>\n",
       "    <tr>\n",
       "      <th>user_id</th>\n",
       "      <th></th>\n",
       "      <th></th>\n",
       "      <th></th>\n",
       "      <th></th>\n",
       "      <th></th>\n",
       "      <th></th>\n",
       "      <th></th>\n",
       "    </tr>\n",
       "  </thead>\n",
       "  <tbody>\n",
       "    <tr>\n",
       "      <th>1</th>\n",
       "      <td>65+</td>\n",
       "      <td>A</td>\n",
       "      <td>35-49K</td>\n",
       "      <td>Homeowner</td>\n",
       "      <td>2 Adults No Kids</td>\n",
       "      <td>2</td>\n",
       "      <td>None/Unknown</td>\n",
       "    </tr>\n",
       "    <tr>\n",
       "      <th>2</th>\n",
       "      <td>NaN</td>\n",
       "      <td>NaN</td>\n",
       "      <td>NaN</td>\n",
       "      <td>NaN</td>\n",
       "      <td>NaN</td>\n",
       "      <td>NaN</td>\n",
       "      <td>NaN</td>\n",
       "    </tr>\n",
       "  </tbody>\n",
       "</table>\n",
       "</div>"
      ],
      "text/plain": [
       "        age_desc marital_status_code income_desc homeowner_desc  \\\n",
       "user_id                                                           \n",
       "1            65+                   A      35-49K      Homeowner   \n",
       "2            NaN                 NaN         NaN            NaN   \n",
       "\n",
       "             hh_comp_desc household_size_desc kid_category_desc  \n",
       "user_id                                                          \n",
       "1        2 Adults No Kids                   2      None/Unknown  \n",
       "2                     NaN                 NaN               NaN  "
      ]
     },
     "execution_count": 198,
     "metadata": {},
     "output_type": "execute_result"
    }
   ],
   "source": [
    "# Юзер фичи. На вебинаре было подозрение что фичи пользователей не попадут в своих пользователей\n",
    "# Но судя по результату мы видим, что все попало как надо. Просто фичи у нас не на всех пользователей есть\n",
    "user_feat = pd.DataFrame(user_item_matrix.index)\n",
    "user_feat = user_feat.merge(user_features, on='user_id', how='left')\n",
    "user_feat.set_index('user_id', inplace=True)\n",
    "user_feat.head(2)"
   ]
  },
  {
   "cell_type": "code",
   "execution_count": 210,
   "metadata": {},
   "outputs": [
    {
     "data": {
      "text/html": [
       "<div>\n",
       "<style scoped>\n",
       "    .dataframe tbody tr th:only-of-type {\n",
       "        vertical-align: middle;\n",
       "    }\n",
       "\n",
       "    .dataframe tbody tr th {\n",
       "        vertical-align: top;\n",
       "    }\n",
       "\n",
       "    .dataframe thead th {\n",
       "        text-align: right;\n",
       "    }\n",
       "</style>\n",
       "<table border=\"1\" class=\"dataframe\">\n",
       "  <thead>\n",
       "    <tr style=\"text-align: right;\">\n",
       "      <th></th>\n",
       "      <th>manufacturer</th>\n",
       "      <th>department</th>\n",
       "      <th>brand</th>\n",
       "      <th>commodity_desc</th>\n",
       "      <th>sub_commodity_desc</th>\n",
       "      <th>curr_size_of_product</th>\n",
       "    </tr>\n",
       "    <tr>\n",
       "      <th>item_id</th>\n",
       "      <th></th>\n",
       "      <th></th>\n",
       "      <th></th>\n",
       "      <th></th>\n",
       "      <th></th>\n",
       "      <th></th>\n",
       "    </tr>\n",
       "  </thead>\n",
       "  <tbody>\n",
       "    <tr>\n",
       "      <th>202291</th>\n",
       "      <td>69.0</td>\n",
       "      <td>MISC SALES TRAN</td>\n",
       "      <td>Private</td>\n",
       "      <td>COUPON/MISC ITEMS</td>\n",
       "      <td>GASOLINE-REG UNLEADED</td>\n",
       "      <td></td>\n",
       "    </tr>\n",
       "    <tr>\n",
       "      <th>397896</th>\n",
       "      <td>69.0</td>\n",
       "      <td>KIOSK-GAS</td>\n",
       "      <td>Private</td>\n",
       "      <td>COUPON/MISC ITEMS</td>\n",
       "      <td>GASOLINE-REG UNLEADED</td>\n",
       "      <td></td>\n",
       "    </tr>\n",
       "  </tbody>\n",
       "</table>\n",
       "</div>"
      ],
      "text/plain": [
       "         manufacturer       department    brand     commodity_desc  \\\n",
       "item_id                                                              \n",
       "202291           69.0  MISC SALES TRAN  Private  COUPON/MISC ITEMS   \n",
       "397896           69.0        KIOSK-GAS  Private  COUPON/MISC ITEMS   \n",
       "\n",
       "            sub_commodity_desc curr_size_of_product  \n",
       "item_id                                              \n",
       "202291   GASOLINE-REG UNLEADED                       \n",
       "397896   GASOLINE-REG UNLEADED                       "
      ]
     },
     "execution_count": 210,
     "metadata": {},
     "output_type": "execute_result"
    }
   ],
   "source": [
    "# Итем фичи\n",
    "item_feat = pd.DataFrame(user_item_matrix.columns)\n",
    "item_feat = item_feat.merge(item_features, on='item_id', how='left')\n",
    "item_feat.set_index('item_id', inplace=True)\n",
    "\n",
    "item_feat.head(2)"
   ]
  },
  {
   "cell_type": "code",
   "execution_count": null,
   "metadata": {},
   "outputs": [],
   "source": [
    "# Здесь тоже все ок. "
   ]
  },
  {
   "cell_type": "code",
   "execution_count": 212,
   "metadata": {},
   "outputs": [],
   "source": [
    "# OHE\n",
    "user_feat_lightfm = pd.get_dummies(user_feat, columns=user_feat.columns.tolist())\n",
    "item_feat_lightfm = pd.get_dummies(item_feat, columns=item_feat.columns.tolist())"
   ]
  },
  {
   "cell_type": "code",
   "execution_count": 320,
   "metadata": {},
   "outputs": [],
   "source": [
    "model = LightFM(no_components=5,\n",
    "                loss='bpr', # 'warp'\n",
    "                learning_rate=0.05, \n",
    "                item_alpha=0.1, user_alpha=0.1, \n",
    "                random_state=42)"
   ]
  },
  {
   "cell_type": "code",
   "execution_count": 321,
   "metadata": {},
   "outputs": [
    {
     "name": "stdout",
     "output_type": "stream",
     "text": [
      "CPU times: user 12.4 s, sys: 165 ms, total: 12.5 s\n",
      "Wall time: 13.1 s\n"
     ]
    },
    {
     "data": {
      "text/plain": [
       "<lightfm.lightfm.LightFM at 0x7fb1e3744b20>"
      ]
     },
     "execution_count": 321,
     "metadata": {},
     "output_type": "execute_result"
    }
   ],
   "source": [
    "%%time\n",
    "model.fit((csr_matrix(user_item_matrix).tocsr() > 0) * 1,  # user-item matrix из 0 и 1\n",
    "          sample_weight=coo_matrix(user_item_matrix),\n",
    "          user_features=csr_matrix(user_feat_lightfm.values).tocsr(),\n",
    "          item_features=csr_matrix(item_feat_lightfm.values).tocsr(),\n",
    "          epochs=15, num_threads=4)"
   ]
  },
  {
   "cell_type": "code",
   "execution_count": 322,
   "metadata": {},
   "outputs": [
    {
     "data": {
      "text/plain": [
       "0.3611845"
      ]
     },
     "execution_count": 322,
     "metadata": {},
     "output_type": "execute_result"
    }
   ],
   "source": [
    "precision_at_k(model, csr_matrix(user_item_matrix).tocsr(), \n",
    "                 user_features=csr_matrix(user_feat_lightfm.values).tocsr(),\n",
    "                 item_features=csr_matrix(item_feat_lightfm.values).tocsr(),\n",
    "                 k=5).mean()"
   ]
  },
  {
   "cell_type": "code",
   "execution_count": 323,
   "metadata": {},
   "outputs": [],
   "source": [
    "user_emb = model.get_user_representations(\n",
    "    features=csr_matrix(user_feat_lightfm.values).tocsr())"
   ]
  },
  {
   "cell_type": "code",
   "execution_count": 324,
   "metadata": {},
   "outputs": [
    {
     "data": {
      "text/plain": [
       "(array([-13.852102,   0.      ,   0.      , ..., -14.19927 ,  -9.830172,\n",
       "          0.      ], dtype=float32),\n",
       " array([[-5.2542461e-08, -8.6278980e-08,  1.9423593e-08,  2.6151032e-08,\n",
       "          5.5134862e-08],\n",
       "        [ 0.0000000e+00,  0.0000000e+00,  0.0000000e+00,  0.0000000e+00,\n",
       "          0.0000000e+00],\n",
       "        [ 0.0000000e+00,  0.0000000e+00,  0.0000000e+00,  0.0000000e+00,\n",
       "          0.0000000e+00],\n",
       "        ...,\n",
       "        [ 1.3972255e-08, -5.7702863e-08,  2.2189147e-08, -1.2580411e-08,\n",
       "         -6.4823640e-09],\n",
       "        [ 2.8321541e-09, -3.0721097e-08,  3.5153239e-08, -2.0122251e-08,\n",
       "          2.1327965e-08],\n",
       "        [ 0.0000000e+00,  0.0000000e+00,  0.0000000e+00,  0.0000000e+00,\n",
       "          0.0000000e+00]], dtype=float32))"
      ]
     },
     "execution_count": 324,
     "metadata": {},
     "output_type": "execute_result"
    }
   ],
   "source": [
    "user_emb"
   ]
  },
  {
   "cell_type": "code",
   "execution_count": 325,
   "metadata": {},
   "outputs": [],
   "source": [
    "# Так.. Надо поидее перемножить эмбеддинги пользователей и айтемов и прибавить туда суммы их байасов"
   ]
  },
  {
   "cell_type": "markdown",
   "metadata": {},
   "source": [
    "$$ v = u \\cdot i^T + b_u + b_i $$\n",
    "\n",
    "Такая кажется была формула"
   ]
  },
  {
   "cell_type": "code",
   "execution_count": 326,
   "metadata": {},
   "outputs": [],
   "source": [
    "item_emb = model.get_item_representations(\n",
    "    features=csr_matrix(item_feat_lightfm.values).tocsr())"
   ]
  },
  {
   "cell_type": "code",
   "execution_count": 327,
   "metadata": {},
   "outputs": [
    {
     "data": {
      "text/plain": [
       "(array([-1.1022573 , -0.79444575, -1.1022573 , ..., -1.7802383 ,\n",
       "        -1.7643487 , -1.5184562 ], dtype=float32),\n",
       " array([[ 7.2097485e-08,  1.0526804e-07, -1.6642578e-07, -9.5143548e-08,\n",
       "         -4.0880135e-08],\n",
       "        [-2.1684573e-07,  7.7045542e-08,  6.5395511e-09, -4.3429336e-07,\n",
       "          6.7984558e-08],\n",
       "        [ 7.2097485e-08,  1.0526804e-07, -1.6642578e-07, -9.5143548e-08,\n",
       "         -4.0880135e-08],\n",
       "        ...,\n",
       "        [ 1.4072265e-06,  2.3155333e-07, -1.4232554e-06,  1.0916584e-06,\n",
       "          6.2832775e-08],\n",
       "        [-9.2212395e-07, -7.0876865e-07, -3.3831842e-07, -4.9382083e-07,\n",
       "          2.3914231e-06],\n",
       "        [ 3.6599423e-07,  2.6292958e-07, -6.3063470e-07,  1.3884188e-07,\n",
       "          1.6508851e-07]], dtype=float32))"
      ]
     },
     "execution_count": 327,
     "metadata": {},
     "output_type": "execute_result"
    }
   ],
   "source": [
    "item_emb"
   ]
  },
  {
   "cell_type": "code",
   "execution_count": null,
   "metadata": {},
   "outputs": [],
   "source": []
  },
  {
   "cell_type": "markdown",
   "metadata": {},
   "source": [
    "### Получение рекомендаций путем самостоятельных вычислений на основе эмбеддингов"
   ]
  },
  {
   "cell_type": "code",
   "execution_count": 328,
   "metadata": {},
   "outputs": [],
   "source": [
    "# Сигмоида. Возможно и не понадобиться - и так можно будет отсортировать\n",
    "def sig(x):\n",
    "    return 1/(1 + np.exp(-x))\n",
    "v_sig = np.vectorize(sig)"
   ]
  },
  {
   "cell_type": "code",
   "execution_count": 329,
   "metadata": {},
   "outputs": [],
   "source": [
    "# Множим u на i\n",
    "embs_matrix = user_emb[1] @ item_emb[1].T"
   ]
  },
  {
   "cell_type": "code",
   "execution_count": 349,
   "metadata": {},
   "outputs": [
    {
     "name": "stdout",
     "output_type": "stream",
     "text": [
      "CPU times: user 11 s, sys: 44.7 ms, total: 11 s\n",
      "Wall time: 11.2 s\n"
     ]
    }
   ],
   "source": [
    "%%time\n",
    "# Добавляем байасы b_u и b_i\n",
    "for u in range(embs_matrix.shape[0]):\n",
    "    for i in range(embs_matrix.shape[1]):\n",
    "        embs_matrix[u][i] += user_emb[0][u] + item_emb[0][i]"
   ]
  },
  {
   "cell_type": "code",
   "execution_count": 350,
   "metadata": {},
   "outputs": [],
   "source": [
    "# Сигмоида (вероятности)\n",
    "# Опустим этот шаг пока\n",
    "fast_recs = embs_matrix\n",
    "# fast_recs = v_sig(embs_matrix)"
   ]
  },
  {
   "cell_type": "code",
   "execution_count": 351,
   "metadata": {},
   "outputs": [],
   "source": [
    "def to_item_id(idx):\n",
    "    return id_to_itemid[idx]\n",
    "\n",
    "v_to_item_id = np.vectorize(to_item_id)"
   ]
  },
  {
   "cell_type": "code",
   "execution_count": 352,
   "metadata": {},
   "outputs": [
    {
     "name": "stdout",
     "output_type": "stream",
     "text": [
      "CPU times: user 619 ms, sys: 9.62 ms, total: 628 ms\n",
      "Wall time: 713 ms\n"
     ]
    }
   ],
   "source": [
    "%%time\n",
    "result['fast_lightfm'] = result['user_id'].apply(lambda x: \n",
    "                                             v_to_item_id(np.argsort(fast_recs[userid_to_id[x]])[-5:]))"
   ]
  },
  {
   "cell_type": "code",
   "execution_count": 360,
   "metadata": {},
   "outputs": [
    {
     "data": {
      "text/html": [
       "<div>\n",
       "<style scoped>\n",
       "    .dataframe tbody tr th:only-of-type {\n",
       "        vertical-align: middle;\n",
       "    }\n",
       "\n",
       "    .dataframe tbody tr th {\n",
       "        vertical-align: top;\n",
       "    }\n",
       "\n",
       "    .dataframe thead th {\n",
       "        text-align: right;\n",
       "    }\n",
       "</style>\n",
       "<table border=\"1\" class=\"dataframe\">\n",
       "  <thead>\n",
       "    <tr style=\"text-align: right;\">\n",
       "      <th></th>\n",
       "      <th>user_id</th>\n",
       "      <th>actual</th>\n",
       "      <th>fast_lightfm</th>\n",
       "    </tr>\n",
       "  </thead>\n",
       "  <tbody>\n",
       "    <tr>\n",
       "      <th>0</th>\n",
       "      <td>1</td>\n",
       "      <td>[821867, 834484, 856942, 865456, 889248, 90795...</td>\n",
       "      <td>[5703832, 397896, 1404121, 1082185, 999999]</td>\n",
       "    </tr>\n",
       "    <tr>\n",
       "      <th>1</th>\n",
       "      <td>3</td>\n",
       "      <td>[835476, 851057, 872021, 878302, 879948, 90963...</td>\n",
       "      <td>[5703832, 397896, 1404121, 1082185, 999999]</td>\n",
       "    </tr>\n",
       "    <tr>\n",
       "      <th>2</th>\n",
       "      <td>6</td>\n",
       "      <td>[920308, 926804, 946489, 1006718, 1017061, 107...</td>\n",
       "      <td>[5703832, 397896, 1404121, 1082185, 999999]</td>\n",
       "    </tr>\n",
       "    <tr>\n",
       "      <th>3</th>\n",
       "      <td>7</td>\n",
       "      <td>[840386, 889774, 898068, 909714, 929067, 95347...</td>\n",
       "      <td>[5703832, 397896, 1404121, 1082185, 999999]</td>\n",
       "    </tr>\n",
       "    <tr>\n",
       "      <th>4</th>\n",
       "      <td>8</td>\n",
       "      <td>[835098, 872137, 910439, 924610, 992977, 10412...</td>\n",
       "      <td>[5703832, 397896, 1404121, 1082185, 999999]</td>\n",
       "    </tr>\n",
       "  </tbody>\n",
       "</table>\n",
       "</div>"
      ],
      "text/plain": [
       "   user_id                                             actual  \\\n",
       "0        1  [821867, 834484, 856942, 865456, 889248, 90795...   \n",
       "1        3  [835476, 851057, 872021, 878302, 879948, 90963...   \n",
       "2        6  [920308, 926804, 946489, 1006718, 1017061, 107...   \n",
       "3        7  [840386, 889774, 898068, 909714, 929067, 95347...   \n",
       "4        8  [835098, 872137, 910439, 924610, 992977, 10412...   \n",
       "\n",
       "                                  fast_lightfm  \n",
       "0  [5703832, 397896, 1404121, 1082185, 999999]  \n",
       "1  [5703832, 397896, 1404121, 1082185, 999999]  \n",
       "2  [5703832, 397896, 1404121, 1082185, 999999]  \n",
       "3  [5703832, 397896, 1404121, 1082185, 999999]  \n",
       "4  [5703832, 397896, 1404121, 1082185, 999999]  "
      ]
     },
     "execution_count": 360,
     "metadata": {},
     "output_type": "execute_result"
    }
   ],
   "source": [
    "result.head()"
   ]
  },
  {
   "cell_type": "code",
   "execution_count": 337,
   "metadata": {},
   "outputs": [],
   "source": [
    "# Что-то они все одинаковые.. ок. Какой получется pr_at_k\n",
    "def precision_at_k(recommended, actual, k=5):\n",
    "    flags = np.isin(recommended[:k], actual)\n",
    "    return flags.sum() / len(recommended[:k])\n",
    "\n",
    "v_precision_at_k = np.vectorize(precision_at_k)"
   ]
  },
  {
   "cell_type": "code",
   "execution_count": 338,
   "metadata": {},
   "outputs": [
    {
     "data": {
      "text/plain": [
       "0.07061704211557296"
      ]
     },
     "execution_count": 338,
     "metadata": {},
     "output_type": "execute_result"
    }
   ],
   "source": [
    "v_precision_at_k(result.fast_lightfm, result.actual).mean()"
   ]
  },
  {
   "cell_type": "code",
   "execution_count": null,
   "metadata": {},
   "outputs": [],
   "source": [
    "# Ожидаемо. Возможно я что-то напутал в математике - есть штатный метод predict"
   ]
  },
  {
   "cell_type": "code",
   "execution_count": null,
   "metadata": {},
   "outputs": [],
   "source": []
  },
  {
   "cell_type": "markdown",
   "metadata": {},
   "source": [
    "### Штатный predict"
   ]
  },
  {
   "cell_type": "code",
   "execution_count": 365,
   "metadata": {},
   "outputs": [
    {
     "data": {
      "text/plain": [
       "array([-1.1022573 , -0.79444575, -1.1022573 , ..., -1.7802383 ,\n",
       "       -1.7643487 , -1.5184562 ], dtype=float32)"
      ]
     },
     "execution_count": 365,
     "metadata": {},
     "output_type": "execute_result"
    }
   ],
   "source": [
    "recs = model.predict(1, matrix_itemids, \n",
    "              user_features=csr_matrix(user_feat_lightfm.values).tocsr(), \n",
    "              item_features=csr_matrix(item_feat_lightfm.values).tocsr(),\n",
    "              num_threads=4\n",
    "             )\n",
    "recs"
   ]
  },
  {
   "cell_type": "code",
   "execution_count": 367,
   "metadata": {},
   "outputs": [
    {
     "data": {
      "text/plain": [
       "array([5703832,  397896, 1404121, 1082185,  999999])"
      ]
     },
     "execution_count": 367,
     "metadata": {},
     "output_type": "execute_result"
    }
   ],
   "source": [
    "v_to_item_id(np.argsort(recs))[-5:]"
   ]
  },
  {
   "cell_type": "code",
   "execution_count": 368,
   "metadata": {},
   "outputs": [],
   "source": [
    "# Опять те-же айтемы... настораживает. Ну ладно - сделаем для всех юзеров"
   ]
  },
  {
   "cell_type": "code",
   "execution_count": 369,
   "metadata": {},
   "outputs": [],
   "source": [
    "# Для всех юзеров для всех айтемов (отбираем 5 с максимальным значением)"
   ]
  },
  {
   "cell_type": "code",
   "execution_count": 370,
   "metadata": {},
   "outputs": [
    {
     "name": "stdout",
     "output_type": "stream",
     "text": [
      "CPU times: user 2min 58s, sys: 1.73 s, total: 3min\n",
      "Wall time: 3min 7s\n"
     ]
    }
   ],
   "source": [
    "%%time\n",
    "result['lightfm'] = result['user_id'].apply(lambda x: \n",
    "                        v_to_item_id(\n",
    "                            np.argsort(\n",
    "                                model.predict(int(userid_to_id[x]), matrix_itemids, \n",
    "                                              user_features=csr_matrix(user_feat_lightfm.values).tocsr(), \n",
    "                                              item_features=csr_matrix(item_feat_lightfm.values).tocsr(),\n",
    "                                              num_threads=4)\n",
    "                            )[-5:]))"
   ]
  },
  {
   "cell_type": "code",
   "execution_count": 371,
   "metadata": {},
   "outputs": [
    {
     "data": {
      "text/html": [
       "<div>\n",
       "<style scoped>\n",
       "    .dataframe tbody tr th:only-of-type {\n",
       "        vertical-align: middle;\n",
       "    }\n",
       "\n",
       "    .dataframe tbody tr th {\n",
       "        vertical-align: top;\n",
       "    }\n",
       "\n",
       "    .dataframe thead th {\n",
       "        text-align: right;\n",
       "    }\n",
       "</style>\n",
       "<table border=\"1\" class=\"dataframe\">\n",
       "  <thead>\n",
       "    <tr style=\"text-align: right;\">\n",
       "      <th></th>\n",
       "      <th>user_id</th>\n",
       "      <th>actual</th>\n",
       "      <th>fast_lightfm</th>\n",
       "      <th>lightfm</th>\n",
       "    </tr>\n",
       "  </thead>\n",
       "  <tbody>\n",
       "    <tr>\n",
       "      <th>0</th>\n",
       "      <td>1</td>\n",
       "      <td>[821867, 834484, 856942, 865456, 889248, 90795...</td>\n",
       "      <td>[5703832, 397896, 1404121, 1082185, 999999]</td>\n",
       "      <td>[5703832, 397896, 1404121, 1082185, 999999]</td>\n",
       "    </tr>\n",
       "    <tr>\n",
       "      <th>1</th>\n",
       "      <td>3</td>\n",
       "      <td>[835476, 851057, 872021, 878302, 879948, 90963...</td>\n",
       "      <td>[5703832, 397896, 1404121, 1082185, 999999]</td>\n",
       "      <td>[5703832, 397896, 1404121, 1082185, 999999]</td>\n",
       "    </tr>\n",
       "    <tr>\n",
       "      <th>2</th>\n",
       "      <td>6</td>\n",
       "      <td>[920308, 926804, 946489, 1006718, 1017061, 107...</td>\n",
       "      <td>[5703832, 397896, 1404121, 1082185, 999999]</td>\n",
       "      <td>[5703832, 397896, 1404121, 1082185, 999999]</td>\n",
       "    </tr>\n",
       "    <tr>\n",
       "      <th>3</th>\n",
       "      <td>7</td>\n",
       "      <td>[840386, 889774, 898068, 909714, 929067, 95347...</td>\n",
       "      <td>[5703832, 397896, 1404121, 1082185, 999999]</td>\n",
       "      <td>[5703832, 397896, 1404121, 1082185, 999999]</td>\n",
       "    </tr>\n",
       "    <tr>\n",
       "      <th>4</th>\n",
       "      <td>8</td>\n",
       "      <td>[835098, 872137, 910439, 924610, 992977, 10412...</td>\n",
       "      <td>[5703832, 397896, 1404121, 1082185, 999999]</td>\n",
       "      <td>[5703832, 397896, 1404121, 1082185, 999999]</td>\n",
       "    </tr>\n",
       "    <tr>\n",
       "      <th>5</th>\n",
       "      <td>9</td>\n",
       "      <td>[864335, 990865, 1029743, 9297474, 10457112, 8...</td>\n",
       "      <td>[5703832, 397896, 1404121, 1082185, 999999]</td>\n",
       "      <td>[5703832, 397896, 1404121, 1082185, 999999]</td>\n",
       "    </tr>\n",
       "    <tr>\n",
       "      <th>6</th>\n",
       "      <td>13</td>\n",
       "      <td>[6534178, 1104146, 829197, 840361, 862070, 884...</td>\n",
       "      <td>[5703832, 397896, 1404121, 1082185, 999999]</td>\n",
       "      <td>[5703832, 397896, 1404121, 1082185, 999999]</td>\n",
       "    </tr>\n",
       "    <tr>\n",
       "      <th>7</th>\n",
       "      <td>14</td>\n",
       "      <td>[840601, 867293, 933067, 951590, 952408, 96569...</td>\n",
       "      <td>[5703832, 397896, 1404121, 1082185, 999999]</td>\n",
       "      <td>[5703832, 397896, 1404121, 1082185, 999999]</td>\n",
       "    </tr>\n",
       "    <tr>\n",
       "      <th>8</th>\n",
       "      <td>15</td>\n",
       "      <td>[910439, 1082185, 959076, 1023958, 1082310, 13...</td>\n",
       "      <td>[5703832, 397896, 1404121, 1082185, 999999]</td>\n",
       "      <td>[5703832, 397896, 1404121, 1082185, 999999]</td>\n",
       "    </tr>\n",
       "    <tr>\n",
       "      <th>9</th>\n",
       "      <td>16</td>\n",
       "      <td>[1062973, 1082185, 13007710]</td>\n",
       "      <td>[5703832, 397896, 1404121, 1082185, 999999]</td>\n",
       "      <td>[5703832, 397896, 1404121, 1082185, 999999]</td>\n",
       "    </tr>\n",
       "    <tr>\n",
       "      <th>10</th>\n",
       "      <td>17</td>\n",
       "      <td>[892503, 896085, 913806, 923559, 928036, 93748...</td>\n",
       "      <td>[5703832, 397896, 1404121, 1082185, 999999]</td>\n",
       "      <td>[5703832, 397896, 1404121, 1082185, 999999]</td>\n",
       "    </tr>\n",
       "    <tr>\n",
       "      <th>11</th>\n",
       "      <td>18</td>\n",
       "      <td>[831628, 907877, 914697, 995242, 1118878, 1128...</td>\n",
       "      <td>[5703832, 397896, 1404121, 1082185, 999999]</td>\n",
       "      <td>[5703832, 397896, 1404121, 1082185, 999999]</td>\n",
       "    </tr>\n",
       "    <tr>\n",
       "      <th>12</th>\n",
       "      <td>19</td>\n",
       "      <td>[830960, 831628, 835300, 840102, 844179, 84767...</td>\n",
       "      <td>[5703832, 397896, 1404121, 1082185, 999999]</td>\n",
       "      <td>[5703832, 397896, 1404121, 1082185, 999999]</td>\n",
       "    </tr>\n",
       "    <tr>\n",
       "      <th>13</th>\n",
       "      <td>20</td>\n",
       "      <td>[819112, 944419, 945611, 971684, 1025522, 1058...</td>\n",
       "      <td>[5703832, 397896, 1404121, 1082185, 999999]</td>\n",
       "      <td>[5703832, 397896, 1404121, 1082185, 999999]</td>\n",
       "    </tr>\n",
       "    <tr>\n",
       "      <th>14</th>\n",
       "      <td>22</td>\n",
       "      <td>[6534178, 826249, 849470, 858743, 916758, 9359...</td>\n",
       "      <td>[5703832, 397896, 1404121, 1082185, 999999]</td>\n",
       "      <td>[5703832, 397896, 1404121, 1082185, 999999]</td>\n",
       "    </tr>\n",
       "    <tr>\n",
       "      <th>15</th>\n",
       "      <td>23</td>\n",
       "      <td>[1034176, 9487286, 851819, 969568, 1032297, 10...</td>\n",
       "      <td>[5703832, 397896, 1404121, 1082185, 999999]</td>\n",
       "      <td>[5703832, 397896, 1404121, 1082185, 999999]</td>\n",
       "    </tr>\n",
       "    <tr>\n",
       "      <th>16</th>\n",
       "      <td>24</td>\n",
       "      <td>[831815, 844165, 849843, 853904, 903230, 10118...</td>\n",
       "      <td>[5703832, 397896, 1404121, 1082185, 999999]</td>\n",
       "      <td>[5703832, 397896, 1404121, 1082185, 999999]</td>\n",
       "    </tr>\n",
       "    <tr>\n",
       "      <th>17</th>\n",
       "      <td>25</td>\n",
       "      <td>[885863, 948509, 992542, 850841, 866140, 92901...</td>\n",
       "      <td>[5703832, 397896, 1404121, 1082185, 999999]</td>\n",
       "      <td>[5703832, 397896, 1404121, 1082185, 999999]</td>\n",
       "    </tr>\n",
       "    <tr>\n",
       "      <th>18</th>\n",
       "      <td>26</td>\n",
       "      <td>[869150, 961979, 1013572, 1042438, 13382327, 1...</td>\n",
       "      <td>[5703832, 397896, 1404121, 1082185, 999999]</td>\n",
       "      <td>[5703832, 397896, 1404121, 1082185, 999999]</td>\n",
       "    </tr>\n",
       "    <tr>\n",
       "      <th>19</th>\n",
       "      <td>27</td>\n",
       "      <td>[883186, 1005861, 1016302, 1052833, 1057777, 1...</td>\n",
       "      <td>[5703832, 397896, 1404121, 1082185, 999999]</td>\n",
       "      <td>[5703832, 397896, 1404121, 1082185, 999999]</td>\n",
       "    </tr>\n",
       "  </tbody>\n",
       "</table>\n",
       "</div>"
      ],
      "text/plain": [
       "    user_id                                             actual  \\\n",
       "0         1  [821867, 834484, 856942, 865456, 889248, 90795...   \n",
       "1         3  [835476, 851057, 872021, 878302, 879948, 90963...   \n",
       "2         6  [920308, 926804, 946489, 1006718, 1017061, 107...   \n",
       "3         7  [840386, 889774, 898068, 909714, 929067, 95347...   \n",
       "4         8  [835098, 872137, 910439, 924610, 992977, 10412...   \n",
       "5         9  [864335, 990865, 1029743, 9297474, 10457112, 8...   \n",
       "6        13  [6534178, 1104146, 829197, 840361, 862070, 884...   \n",
       "7        14  [840601, 867293, 933067, 951590, 952408, 96569...   \n",
       "8        15  [910439, 1082185, 959076, 1023958, 1082310, 13...   \n",
       "9        16                       [1062973, 1082185, 13007710]   \n",
       "10       17  [892503, 896085, 913806, 923559, 928036, 93748...   \n",
       "11       18  [831628, 907877, 914697, 995242, 1118878, 1128...   \n",
       "12       19  [830960, 831628, 835300, 840102, 844179, 84767...   \n",
       "13       20  [819112, 944419, 945611, 971684, 1025522, 1058...   \n",
       "14       22  [6534178, 826249, 849470, 858743, 916758, 9359...   \n",
       "15       23  [1034176, 9487286, 851819, 969568, 1032297, 10...   \n",
       "16       24  [831815, 844165, 849843, 853904, 903230, 10118...   \n",
       "17       25  [885863, 948509, 992542, 850841, 866140, 92901...   \n",
       "18       26  [869150, 961979, 1013572, 1042438, 13382327, 1...   \n",
       "19       27  [883186, 1005861, 1016302, 1052833, 1057777, 1...   \n",
       "\n",
       "                                   fast_lightfm  \\\n",
       "0   [5703832, 397896, 1404121, 1082185, 999999]   \n",
       "1   [5703832, 397896, 1404121, 1082185, 999999]   \n",
       "2   [5703832, 397896, 1404121, 1082185, 999999]   \n",
       "3   [5703832, 397896, 1404121, 1082185, 999999]   \n",
       "4   [5703832, 397896, 1404121, 1082185, 999999]   \n",
       "5   [5703832, 397896, 1404121, 1082185, 999999]   \n",
       "6   [5703832, 397896, 1404121, 1082185, 999999]   \n",
       "7   [5703832, 397896, 1404121, 1082185, 999999]   \n",
       "8   [5703832, 397896, 1404121, 1082185, 999999]   \n",
       "9   [5703832, 397896, 1404121, 1082185, 999999]   \n",
       "10  [5703832, 397896, 1404121, 1082185, 999999]   \n",
       "11  [5703832, 397896, 1404121, 1082185, 999999]   \n",
       "12  [5703832, 397896, 1404121, 1082185, 999999]   \n",
       "13  [5703832, 397896, 1404121, 1082185, 999999]   \n",
       "14  [5703832, 397896, 1404121, 1082185, 999999]   \n",
       "15  [5703832, 397896, 1404121, 1082185, 999999]   \n",
       "16  [5703832, 397896, 1404121, 1082185, 999999]   \n",
       "17  [5703832, 397896, 1404121, 1082185, 999999]   \n",
       "18  [5703832, 397896, 1404121, 1082185, 999999]   \n",
       "19  [5703832, 397896, 1404121, 1082185, 999999]   \n",
       "\n",
       "                                        lightfm  \n",
       "0   [5703832, 397896, 1404121, 1082185, 999999]  \n",
       "1   [5703832, 397896, 1404121, 1082185, 999999]  \n",
       "2   [5703832, 397896, 1404121, 1082185, 999999]  \n",
       "3   [5703832, 397896, 1404121, 1082185, 999999]  \n",
       "4   [5703832, 397896, 1404121, 1082185, 999999]  \n",
       "5   [5703832, 397896, 1404121, 1082185, 999999]  \n",
       "6   [5703832, 397896, 1404121, 1082185, 999999]  \n",
       "7   [5703832, 397896, 1404121, 1082185, 999999]  \n",
       "8   [5703832, 397896, 1404121, 1082185, 999999]  \n",
       "9   [5703832, 397896, 1404121, 1082185, 999999]  \n",
       "10  [5703832, 397896, 1404121, 1082185, 999999]  \n",
       "11  [5703832, 397896, 1404121, 1082185, 999999]  \n",
       "12  [5703832, 397896, 1404121, 1082185, 999999]  \n",
       "13  [5703832, 397896, 1404121, 1082185, 999999]  \n",
       "14  [5703832, 397896, 1404121, 1082185, 999999]  \n",
       "15  [5703832, 397896, 1404121, 1082185, 999999]  \n",
       "16  [5703832, 397896, 1404121, 1082185, 999999]  \n",
       "17  [5703832, 397896, 1404121, 1082185, 999999]  \n",
       "18  [5703832, 397896, 1404121, 1082185, 999999]  \n",
       "19  [5703832, 397896, 1404121, 1082185, 999999]  "
      ]
     },
     "execution_count": 371,
     "metadata": {},
     "output_type": "execute_result"
    }
   ],
   "source": [
    "result.head(20)"
   ]
  },
  {
   "cell_type": "code",
   "execution_count": 372,
   "metadata": {},
   "outputs": [
    {
     "data": {
      "text/plain": [
       "0.07061704211557296"
      ]
     },
     "execution_count": 372,
     "metadata": {},
     "output_type": "execute_result"
    }
   ],
   "source": [
    "v_precision_at_k(result.lightfm, result.actual).mean()"
   ]
  },
  {
   "cell_type": "code",
   "execution_count": 373,
   "metadata": {},
   "outputs": [],
   "source": [
    "# Все ровно точно также.. И результаты predict дал такие-же.. Что-то явно пошло не так раньше... до фита видимо"
   ]
  },
  {
   "cell_type": "code",
   "execution_count": 376,
   "metadata": {},
   "outputs": [],
   "source": [
    "# Вобщем можно конечно предположить, что виной всему отсутствие фичей на две трети юзеров, если это причина - \n",
    "# то с нашими данными ловить нечего - ни в lightfm, ни в гибридных вариантах - поскольку не на чем будет \n",
    "# учить классифаеры (или ранкеры)"
   ]
  },
  {
   "cell_type": "code",
   "execution_count": 378,
   "metadata": {},
   "outputs": [],
   "source": [
    "# Чисто теоретически можно попробовать пока любой произвольный датасет с достаточным количеством людей. \n",
    "# Понятно что это будет большая натяжка, но хотя-бы понять, в этом ли причина кривизны результатов lightfm"
   ]
  },
  {
   "cell_type": "code",
   "execution_count": null,
   "metadata": {},
   "outputs": [],
   "source": []
  },
  {
   "cell_type": "code",
   "execution_count": null,
   "metadata": {},
   "outputs": [],
   "source": []
  },
  {
   "cell_type": "markdown",
   "metadata": {},
   "source": [
    "## Пробуем с исправным (но не относящимся к нашим интеракциям) набором юзеров"
   ]
  },
  {
   "cell_type": "code",
   "execution_count": 403,
   "metadata": {},
   "outputs": [
    {
     "data": {
      "text/html": [
       "<div>\n",
       "<style scoped>\n",
       "    .dataframe tbody tr th:only-of-type {\n",
       "        vertical-align: middle;\n",
       "    }\n",
       "\n",
       "    .dataframe tbody tr th {\n",
       "        vertical-align: top;\n",
       "    }\n",
       "\n",
       "    .dataframe thead th {\n",
       "        text-align: right;\n",
       "    }\n",
       "</style>\n",
       "<table border=\"1\" class=\"dataframe\">\n",
       "  <thead>\n",
       "    <tr style=\"text-align: right;\">\n",
       "      <th></th>\n",
       "      <th>Home Ownership</th>\n",
       "      <th>Annual Income</th>\n",
       "      <th>Years in current job</th>\n",
       "      <th>Tax Liens</th>\n",
       "      <th>Number of Open Accounts</th>\n",
       "      <th>Years of Credit History</th>\n",
       "      <th>Maximum Open Credit</th>\n",
       "      <th>Number of Credit Problems</th>\n",
       "      <th>Months since last delinquent</th>\n",
       "      <th>Bankruptcies</th>\n",
       "      <th>Purpose</th>\n",
       "      <th>Term</th>\n",
       "      <th>Current Loan Amount</th>\n",
       "      <th>Current Credit Balance</th>\n",
       "      <th>Monthly Debt</th>\n",
       "      <th>Credit Score</th>\n",
       "      <th>Credit Default</th>\n",
       "    </tr>\n",
       "  </thead>\n",
       "  <tbody>\n",
       "    <tr>\n",
       "      <th>0</th>\n",
       "      <td>Own Home</td>\n",
       "      <td>482087.0</td>\n",
       "      <td>NaN</td>\n",
       "      <td>0.0</td>\n",
       "      <td>11.0</td>\n",
       "      <td>26.3</td>\n",
       "      <td>685960.0</td>\n",
       "      <td>1.0</td>\n",
       "      <td>NaN</td>\n",
       "      <td>1.0</td>\n",
       "      <td>debt consolidation</td>\n",
       "      <td>Short Term</td>\n",
       "      <td>99999999.0</td>\n",
       "      <td>47386.0</td>\n",
       "      <td>7914.0</td>\n",
       "      <td>749.0</td>\n",
       "      <td>0</td>\n",
       "    </tr>\n",
       "    <tr>\n",
       "      <th>1</th>\n",
       "      <td>Own Home</td>\n",
       "      <td>1025487.0</td>\n",
       "      <td>10+ years</td>\n",
       "      <td>0.0</td>\n",
       "      <td>15.0</td>\n",
       "      <td>15.3</td>\n",
       "      <td>1181730.0</td>\n",
       "      <td>0.0</td>\n",
       "      <td>NaN</td>\n",
       "      <td>0.0</td>\n",
       "      <td>debt consolidation</td>\n",
       "      <td>Long Term</td>\n",
       "      <td>264968.0</td>\n",
       "      <td>394972.0</td>\n",
       "      <td>18373.0</td>\n",
       "      <td>737.0</td>\n",
       "      <td>1</td>\n",
       "    </tr>\n",
       "    <tr>\n",
       "      <th>2</th>\n",
       "      <td>Home Mortgage</td>\n",
       "      <td>751412.0</td>\n",
       "      <td>8 years</td>\n",
       "      <td>0.0</td>\n",
       "      <td>11.0</td>\n",
       "      <td>35.0</td>\n",
       "      <td>1182434.0</td>\n",
       "      <td>0.0</td>\n",
       "      <td>NaN</td>\n",
       "      <td>0.0</td>\n",
       "      <td>debt consolidation</td>\n",
       "      <td>Short Term</td>\n",
       "      <td>99999999.0</td>\n",
       "      <td>308389.0</td>\n",
       "      <td>13651.0</td>\n",
       "      <td>742.0</td>\n",
       "      <td>0</td>\n",
       "    </tr>\n",
       "    <tr>\n",
       "      <th>3</th>\n",
       "      <td>Own Home</td>\n",
       "      <td>805068.0</td>\n",
       "      <td>6 years</td>\n",
       "      <td>0.0</td>\n",
       "      <td>8.0</td>\n",
       "      <td>22.5</td>\n",
       "      <td>147400.0</td>\n",
       "      <td>1.0</td>\n",
       "      <td>NaN</td>\n",
       "      <td>1.0</td>\n",
       "      <td>debt consolidation</td>\n",
       "      <td>Short Term</td>\n",
       "      <td>121396.0</td>\n",
       "      <td>95855.0</td>\n",
       "      <td>11338.0</td>\n",
       "      <td>694.0</td>\n",
       "      <td>0</td>\n",
       "    </tr>\n",
       "    <tr>\n",
       "      <th>4</th>\n",
       "      <td>Rent</td>\n",
       "      <td>776264.0</td>\n",
       "      <td>8 years</td>\n",
       "      <td>0.0</td>\n",
       "      <td>13.0</td>\n",
       "      <td>13.6</td>\n",
       "      <td>385836.0</td>\n",
       "      <td>1.0</td>\n",
       "      <td>NaN</td>\n",
       "      <td>0.0</td>\n",
       "      <td>debt consolidation</td>\n",
       "      <td>Short Term</td>\n",
       "      <td>125840.0</td>\n",
       "      <td>93309.0</td>\n",
       "      <td>7180.0</td>\n",
       "      <td>719.0</td>\n",
       "      <td>0</td>\n",
       "    </tr>\n",
       "  </tbody>\n",
       "</table>\n",
       "</div>"
      ],
      "text/plain": [
       "  Home Ownership  Annual Income Years in current job  Tax Liens  \\\n",
       "0       Own Home       482087.0                  NaN        0.0   \n",
       "1       Own Home      1025487.0            10+ years        0.0   \n",
       "2  Home Mortgage       751412.0              8 years        0.0   \n",
       "3       Own Home       805068.0              6 years        0.0   \n",
       "4           Rent       776264.0              8 years        0.0   \n",
       "\n",
       "   Number of Open Accounts  Years of Credit History  Maximum Open Credit  \\\n",
       "0                     11.0                     26.3             685960.0   \n",
       "1                     15.0                     15.3            1181730.0   \n",
       "2                     11.0                     35.0            1182434.0   \n",
       "3                      8.0                     22.5             147400.0   \n",
       "4                     13.0                     13.6             385836.0   \n",
       "\n",
       "   Number of Credit Problems  Months since last delinquent  Bankruptcies  \\\n",
       "0                        1.0                           NaN           1.0   \n",
       "1                        0.0                           NaN           0.0   \n",
       "2                        0.0                           NaN           0.0   \n",
       "3                        1.0                           NaN           1.0   \n",
       "4                        1.0                           NaN           0.0   \n",
       "\n",
       "              Purpose        Term  Current Loan Amount  \\\n",
       "0  debt consolidation  Short Term           99999999.0   \n",
       "1  debt consolidation   Long Term             264968.0   \n",
       "2  debt consolidation  Short Term           99999999.0   \n",
       "3  debt consolidation  Short Term             121396.0   \n",
       "4  debt consolidation  Short Term             125840.0   \n",
       "\n",
       "   Current Credit Balance  Monthly Debt  Credit Score  Credit Default  \n",
       "0                 47386.0        7914.0         749.0               0  \n",
       "1                394972.0       18373.0         737.0               1  \n",
       "2                308389.0       13651.0         742.0               0  \n",
       "3                 95855.0       11338.0         694.0               0  \n",
       "4                 93309.0        7180.0         719.0               0  "
      ]
     },
     "execution_count": 403,
     "metadata": {},
     "output_type": "execute_result"
    }
   ],
   "source": [
    "# Итак... Датасет про банковский скоринг )\n",
    "user_features = pd.read_csv('data/course_project_train.csv')\n",
    "user_features.head()"
   ]
  },
  {
   "cell_type": "code",
   "execution_count": 404,
   "metadata": {},
   "outputs": [
    {
     "data": {
      "text/plain": [
       "(7500, 17)"
      ]
     },
     "execution_count": 404,
     "metadata": {},
     "output_type": "execute_result"
    }
   ],
   "source": [
    "user_features.shape"
   ]
  },
  {
   "cell_type": "code",
   "execution_count": 405,
   "metadata": {},
   "outputs": [
    {
     "name": "stdout",
     "output_type": "stream",
     "text": [
      "<class 'pandas.core.frame.DataFrame'>\n",
      "RangeIndex: 7500 entries, 0 to 7499\n",
      "Data columns (total 17 columns):\n",
      " #   Column                        Non-Null Count  Dtype  \n",
      "---  ------                        --------------  -----  \n",
      " 0   Home Ownership                7500 non-null   object \n",
      " 1   Annual Income                 5943 non-null   float64\n",
      " 2   Years in current job          7129 non-null   object \n",
      " 3   Tax Liens                     7500 non-null   float64\n",
      " 4   Number of Open Accounts       7500 non-null   float64\n",
      " 5   Years of Credit History       7500 non-null   float64\n",
      " 6   Maximum Open Credit           7500 non-null   float64\n",
      " 7   Number of Credit Problems     7500 non-null   float64\n",
      " 8   Months since last delinquent  3419 non-null   float64\n",
      " 9   Bankruptcies                  7486 non-null   float64\n",
      " 10  Purpose                       7500 non-null   object \n",
      " 11  Term                          7500 non-null   object \n",
      " 12  Current Loan Amount           7500 non-null   float64\n",
      " 13  Current Credit Balance        7500 non-null   float64\n",
      " 14  Monthly Debt                  7500 non-null   float64\n",
      " 15  Credit Score                  5943 non-null   float64\n",
      " 16  Credit Default                7500 non-null   int64  \n",
      "dtypes: float64(12), int64(1), object(4)\n",
      "memory usage: 996.2+ KB\n"
     ]
    }
   ],
   "source": [
    "user_features.info()"
   ]
  },
  {
   "cell_type": "code",
   "execution_count": 406,
   "metadata": {},
   "outputs": [
    {
     "data": {
      "text/plain": [
       "(2585, 17)"
      ]
     },
     "execution_count": 406,
     "metadata": {},
     "output_type": "execute_result"
    }
   ],
   "source": [
    "user_features = user_features.dropna()\n",
    "user_features.shape"
   ]
  },
  {
   "cell_type": "code",
   "execution_count": 407,
   "metadata": {},
   "outputs": [],
   "source": [
    "# Если просто дропнуть все наны, он идеально подходит нам по размеру. \n",
    "# Но конечно никак не отражает взаимосвязей покупателей из нашей основной таблицы интерракций. \n",
    "# Кстати название нашего исходного датасета (hh_demographics) - тоже навевает мысль о том, что предложенные данные\n",
    "# Не особо про нашу табличку покупок.. \n",
    "# (если думать что hh - это хедхантер - то возникает сильное подозрение что этот датасет взят совершенно случайно)"
   ]
  },
  {
   "cell_type": "code",
   "execution_count": 408,
   "metadata": {},
   "outputs": [
    {
     "data": {
      "text/html": [
       "<div>\n",
       "<style scoped>\n",
       "    .dataframe tbody tr th:only-of-type {\n",
       "        vertical-align: middle;\n",
       "    }\n",
       "\n",
       "    .dataframe tbody tr th {\n",
       "        vertical-align: top;\n",
       "    }\n",
       "\n",
       "    .dataframe thead th {\n",
       "        text-align: right;\n",
       "    }\n",
       "</style>\n",
       "<table border=\"1\" class=\"dataframe\">\n",
       "  <thead>\n",
       "    <tr style=\"text-align: right;\">\n",
       "      <th></th>\n",
       "      <th>Home Ownership</th>\n",
       "      <th>Annual Income</th>\n",
       "      <th>Years in current job</th>\n",
       "      <th>Tax Liens</th>\n",
       "      <th>Number of Open Accounts</th>\n",
       "      <th>Years of Credit History</th>\n",
       "      <th>Maximum Open Credit</th>\n",
       "      <th>Number of Credit Problems</th>\n",
       "      <th>Months since last delinquent</th>\n",
       "      <th>Bankruptcies</th>\n",
       "      <th>Purpose</th>\n",
       "      <th>Term</th>\n",
       "      <th>Current Loan Amount</th>\n",
       "      <th>Current Credit Balance</th>\n",
       "      <th>Monthly Debt</th>\n",
       "      <th>Credit Score</th>\n",
       "      <th>Credit Default</th>\n",
       "      <th>user_id</th>\n",
       "    </tr>\n",
       "  </thead>\n",
       "  <tbody>\n",
       "    <tr>\n",
       "      <th>0</th>\n",
       "      <td>Home Mortgage</td>\n",
       "      <td>1511108.0</td>\n",
       "      <td>10+ years</td>\n",
       "      <td>0.0</td>\n",
       "      <td>9.0</td>\n",
       "      <td>20.3</td>\n",
       "      <td>388124.0</td>\n",
       "      <td>0.0</td>\n",
       "      <td>73.0</td>\n",
       "      <td>0.0</td>\n",
       "      <td>home improvements</td>\n",
       "      <td>Short Term</td>\n",
       "      <td>99999999.0</td>\n",
       "      <td>51623.0</td>\n",
       "      <td>2317.0</td>\n",
       "      <td>745.0</td>\n",
       "      <td>0</td>\n",
       "      <td>0</td>\n",
       "    </tr>\n",
       "    <tr>\n",
       "      <th>1</th>\n",
       "      <td>Rent</td>\n",
       "      <td>1040060.0</td>\n",
       "      <td>10+ years</td>\n",
       "      <td>0.0</td>\n",
       "      <td>13.0</td>\n",
       "      <td>12.0</td>\n",
       "      <td>330374.0</td>\n",
       "      <td>0.0</td>\n",
       "      <td>18.0</td>\n",
       "      <td>0.0</td>\n",
       "      <td>other</td>\n",
       "      <td>Short Term</td>\n",
       "      <td>250888.0</td>\n",
       "      <td>89015.0</td>\n",
       "      <td>19761.0</td>\n",
       "      <td>705.0</td>\n",
       "      <td>1</td>\n",
       "      <td>1</td>\n",
       "    </tr>\n",
       "    <tr>\n",
       "      <th>2</th>\n",
       "      <td>Home Mortgage</td>\n",
       "      <td>1401744.0</td>\n",
       "      <td>2 years</td>\n",
       "      <td>0.0</td>\n",
       "      <td>9.0</td>\n",
       "      <td>29.0</td>\n",
       "      <td>387222.0</td>\n",
       "      <td>0.0</td>\n",
       "      <td>40.0</td>\n",
       "      <td>0.0</td>\n",
       "      <td>debt consolidation</td>\n",
       "      <td>Long Term</td>\n",
       "      <td>553586.0</td>\n",
       "      <td>201989.0</td>\n",
       "      <td>13434.0</td>\n",
       "      <td>695.0</td>\n",
       "      <td>1</td>\n",
       "      <td>2</td>\n",
       "    </tr>\n",
       "    <tr>\n",
       "      <th>3</th>\n",
       "      <td>Home Mortgage</td>\n",
       "      <td>1651993.0</td>\n",
       "      <td>10+ years</td>\n",
       "      <td>0.0</td>\n",
       "      <td>11.0</td>\n",
       "      <td>26.5</td>\n",
       "      <td>663894.0</td>\n",
       "      <td>0.0</td>\n",
       "      <td>44.0</td>\n",
       "      <td>0.0</td>\n",
       "      <td>debt consolidation</td>\n",
       "      <td>Long Term</td>\n",
       "      <td>585090.0</td>\n",
       "      <td>252852.0</td>\n",
       "      <td>8742.0</td>\n",
       "      <td>697.0</td>\n",
       "      <td>0</td>\n",
       "      <td>3</td>\n",
       "    </tr>\n",
       "    <tr>\n",
       "      <th>4</th>\n",
       "      <td>Home Mortgage</td>\n",
       "      <td>1047394.0</td>\n",
       "      <td>6 years</td>\n",
       "      <td>0.0</td>\n",
       "      <td>7.0</td>\n",
       "      <td>34.4</td>\n",
       "      <td>401104.0</td>\n",
       "      <td>0.0</td>\n",
       "      <td>45.0</td>\n",
       "      <td>0.0</td>\n",
       "      <td>debt consolidation</td>\n",
       "      <td>Short Term</td>\n",
       "      <td>324852.0</td>\n",
       "      <td>183597.0</td>\n",
       "      <td>7786.0</td>\n",
       "      <td>719.0</td>\n",
       "      <td>1</td>\n",
       "      <td>4</td>\n",
       "    </tr>\n",
       "  </tbody>\n",
       "</table>\n",
       "</div>"
      ],
      "text/plain": [
       "  Home Ownership  Annual Income Years in current job  Tax Liens  \\\n",
       "0  Home Mortgage      1511108.0            10+ years        0.0   \n",
       "1           Rent      1040060.0            10+ years        0.0   \n",
       "2  Home Mortgage      1401744.0              2 years        0.0   \n",
       "3  Home Mortgage      1651993.0            10+ years        0.0   \n",
       "4  Home Mortgage      1047394.0              6 years        0.0   \n",
       "\n",
       "   Number of Open Accounts  Years of Credit History  Maximum Open Credit  \\\n",
       "0                      9.0                     20.3             388124.0   \n",
       "1                     13.0                     12.0             330374.0   \n",
       "2                      9.0                     29.0             387222.0   \n",
       "3                     11.0                     26.5             663894.0   \n",
       "4                      7.0                     34.4             401104.0   \n",
       "\n",
       "   Number of Credit Problems  Months since last delinquent  Bankruptcies  \\\n",
       "0                        0.0                          73.0           0.0   \n",
       "1                        0.0                          18.0           0.0   \n",
       "2                        0.0                          40.0           0.0   \n",
       "3                        0.0                          44.0           0.0   \n",
       "4                        0.0                          45.0           0.0   \n",
       "\n",
       "              Purpose        Term  Current Loan Amount  \\\n",
       "0   home improvements  Short Term           99999999.0   \n",
       "1               other  Short Term             250888.0   \n",
       "2  debt consolidation   Long Term             553586.0   \n",
       "3  debt consolidation   Long Term             585090.0   \n",
       "4  debt consolidation  Short Term             324852.0   \n",
       "\n",
       "   Current Credit Balance  Monthly Debt  Credit Score  Credit Default  user_id  \n",
       "0                 51623.0        2317.0         745.0               0        0  \n",
       "1                 89015.0       19761.0         705.0               1        1  \n",
       "2                201989.0       13434.0         695.0               1        2  \n",
       "3                252852.0        8742.0         697.0               0        3  \n",
       "4                183597.0        7786.0         719.0               1        4  "
      ]
     },
     "execution_count": 408,
     "metadata": {},
     "output_type": "execute_result"
    }
   ],
   "source": [
    "# user_id делаем из индекса конечно\n",
    "user_features.reset_index(inplace=True, drop=True)\n",
    "user_features['user_id'] = user_features.index\n",
    "user_features.head()"
   ]
  },
  {
   "cell_type": "code",
   "execution_count": 409,
   "metadata": {},
   "outputs": [],
   "source": [
    "from sklearn.preprocessing import StandardScaler"
   ]
  },
  {
   "cell_type": "code",
   "execution_count": 413,
   "metadata": {},
   "outputs": [],
   "source": [
    "# Не припомню - важна ли стандартизация для lightfm\n",
    "scaler = StandardScaler()\n",
    "features_to_stand = user_features.select_dtypes(include='float64').columns.tolist()\n",
    "stand_features = scaler.fit_transform(user_features[features_to_stand])\n",
    "user_features[features_to_stand] = pd.DataFrame(stand_features, columns=features_to_stand)"
   ]
  },
  {
   "cell_type": "code",
   "execution_count": 418,
   "metadata": {},
   "outputs": [
    {
     "data": {
      "text/html": [
       "<div>\n",
       "<style scoped>\n",
       "    .dataframe tbody tr th:only-of-type {\n",
       "        vertical-align: middle;\n",
       "    }\n",
       "\n",
       "    .dataframe tbody tr th {\n",
       "        vertical-align: top;\n",
       "    }\n",
       "\n",
       "    .dataframe thead th {\n",
       "        text-align: right;\n",
       "    }\n",
       "</style>\n",
       "<table border=\"1\" class=\"dataframe\">\n",
       "  <thead>\n",
       "    <tr style=\"text-align: right;\">\n",
       "      <th></th>\n",
       "      <th>Home Ownership</th>\n",
       "      <th>Annual Income</th>\n",
       "      <th>Years in current job</th>\n",
       "      <th>Tax Liens</th>\n",
       "      <th>Number of Open Accounts</th>\n",
       "      <th>Years of Credit History</th>\n",
       "      <th>Maximum Open Credit</th>\n",
       "      <th>Number of Credit Problems</th>\n",
       "      <th>Months since last delinquent</th>\n",
       "      <th>Bankruptcies</th>\n",
       "      <th>Purpose</th>\n",
       "      <th>Term</th>\n",
       "      <th>Current Loan Amount</th>\n",
       "      <th>Current Credit Balance</th>\n",
       "      <th>Monthly Debt</th>\n",
       "      <th>Credit Score</th>\n",
       "      <th>Credit Default</th>\n",
       "      <th>user_id</th>\n",
       "    </tr>\n",
       "  </thead>\n",
       "  <tbody>\n",
       "    <tr>\n",
       "      <th>0</th>\n",
       "      <td>Home Mortgage</td>\n",
       "      <td>0.061469</td>\n",
       "      <td>10+ years</td>\n",
       "      <td>-0.122708</td>\n",
       "      <td>-0.527131</td>\n",
       "      <td>0.172735</td>\n",
       "      <td>-0.050125</td>\n",
       "      <td>-0.335664</td>\n",
       "      <td>1.776966</td>\n",
       "      <td>-0.324577</td>\n",
       "      <td>home improvements</td>\n",
       "      <td>Short Term</td>\n",
       "      <td>2.518650</td>\n",
       "      <td>-0.714691</td>\n",
       "      <td>-1.437282</td>\n",
       "      <td>-0.248652</td>\n",
       "      <td>0</td>\n",
       "      <td>0</td>\n",
       "    </tr>\n",
       "    <tr>\n",
       "      <th>1</th>\n",
       "      <td>Rent</td>\n",
       "      <td>-0.471701</td>\n",
       "      <td>10+ years</td>\n",
       "      <td>-0.122708</td>\n",
       "      <td>0.312317</td>\n",
       "      <td>-1.058208</td>\n",
       "      <td>-0.057758</td>\n",
       "      <td>-0.335664</td>\n",
       "      <td>-0.769450</td>\n",
       "      <td>-0.324577</td>\n",
       "      <td>other</td>\n",
       "      <td>Short Term</td>\n",
       "      <td>-0.398873</td>\n",
       "      <td>-0.586188</td>\n",
       "      <td>0.075077</td>\n",
       "      <td>-0.273726</td>\n",
       "      <td>1</td>\n",
       "      <td>1</td>\n",
       "    </tr>\n",
       "  </tbody>\n",
       "</table>\n",
       "</div>"
      ],
      "text/plain": [
       "  Home Ownership  Annual Income Years in current job  Tax Liens  \\\n",
       "0  Home Mortgage       0.061469            10+ years  -0.122708   \n",
       "1           Rent      -0.471701            10+ years  -0.122708   \n",
       "\n",
       "   Number of Open Accounts  Years of Credit History  Maximum Open Credit  \\\n",
       "0                -0.527131                 0.172735            -0.050125   \n",
       "1                 0.312317                -1.058208            -0.057758   \n",
       "\n",
       "   Number of Credit Problems  Months since last delinquent  Bankruptcies  \\\n",
       "0                  -0.335664                      1.776966     -0.324577   \n",
       "1                  -0.335664                     -0.769450     -0.324577   \n",
       "\n",
       "             Purpose        Term  Current Loan Amount  Current Credit Balance  \\\n",
       "0  home improvements  Short Term             2.518650               -0.714691   \n",
       "1              other  Short Term            -0.398873               -0.586188   \n",
       "\n",
       "   Monthly Debt  Credit Score  Credit Default  user_id  \n",
       "0     -1.437282     -0.248652               0        0  \n",
       "1      0.075077     -0.273726               1        1  "
      ]
     },
     "execution_count": 418,
     "metadata": {},
     "output_type": "execute_result"
    }
   ],
   "source": [
    "user_features.head(2)"
   ]
  },
  {
   "cell_type": "code",
   "execution_count": 419,
   "metadata": {},
   "outputs": [
    {
     "data": {
      "text/html": [
       "<div>\n",
       "<style scoped>\n",
       "    .dataframe tbody tr th:only-of-type {\n",
       "        vertical-align: middle;\n",
       "    }\n",
       "\n",
       "    .dataframe tbody tr th {\n",
       "        vertical-align: top;\n",
       "    }\n",
       "\n",
       "    .dataframe thead th {\n",
       "        text-align: right;\n",
       "    }\n",
       "</style>\n",
       "<table border=\"1\" class=\"dataframe\">\n",
       "  <thead>\n",
       "    <tr style=\"text-align: right;\">\n",
       "      <th></th>\n",
       "      <th>Home Ownership</th>\n",
       "      <th>Annual Income</th>\n",
       "      <th>Years in current job</th>\n",
       "      <th>Tax Liens</th>\n",
       "      <th>Number of Open Accounts</th>\n",
       "      <th>Years of Credit History</th>\n",
       "      <th>Maximum Open Credit</th>\n",
       "      <th>Number of Credit Problems</th>\n",
       "      <th>Months since last delinquent</th>\n",
       "      <th>Bankruptcies</th>\n",
       "      <th>Purpose</th>\n",
       "      <th>Term</th>\n",
       "      <th>Current Loan Amount</th>\n",
       "      <th>Current Credit Balance</th>\n",
       "      <th>Monthly Debt</th>\n",
       "      <th>Credit Score</th>\n",
       "      <th>Credit Default</th>\n",
       "    </tr>\n",
       "    <tr>\n",
       "      <th>user_id</th>\n",
       "      <th></th>\n",
       "      <th></th>\n",
       "      <th></th>\n",
       "      <th></th>\n",
       "      <th></th>\n",
       "      <th></th>\n",
       "      <th></th>\n",
       "      <th></th>\n",
       "      <th></th>\n",
       "      <th></th>\n",
       "      <th></th>\n",
       "      <th></th>\n",
       "      <th></th>\n",
       "      <th></th>\n",
       "      <th></th>\n",
       "      <th></th>\n",
       "      <th></th>\n",
       "    </tr>\n",
       "  </thead>\n",
       "  <tbody>\n",
       "    <tr>\n",
       "      <th>1</th>\n",
       "      <td>Rent</td>\n",
       "      <td>-0.471701</td>\n",
       "      <td>10+ years</td>\n",
       "      <td>-0.122708</td>\n",
       "      <td>0.312317</td>\n",
       "      <td>-1.058208</td>\n",
       "      <td>-0.057758</td>\n",
       "      <td>-0.335664</td>\n",
       "      <td>-0.769450</td>\n",
       "      <td>-0.324577</td>\n",
       "      <td>other</td>\n",
       "      <td>Short Term</td>\n",
       "      <td>-0.398873</td>\n",
       "      <td>-0.586188</td>\n",
       "      <td>0.075077</td>\n",
       "      <td>-0.273726</td>\n",
       "      <td>1</td>\n",
       "    </tr>\n",
       "    <tr>\n",
       "      <th>2</th>\n",
       "      <td>Home Mortgage</td>\n",
       "      <td>-0.062318</td>\n",
       "      <td>2 years</td>\n",
       "      <td>-0.122708</td>\n",
       "      <td>-0.527131</td>\n",
       "      <td>1.463001</td>\n",
       "      <td>-0.050245</td>\n",
       "      <td>-0.335664</td>\n",
       "      <td>0.249116</td>\n",
       "      <td>-0.324577</td>\n",
       "      <td>debt consolidation</td>\n",
       "      <td>Long Term</td>\n",
       "      <td>-0.390019</td>\n",
       "      <td>-0.197939</td>\n",
       "      <td>-0.473461</td>\n",
       "      <td>-0.279995</td>\n",
       "      <td>1</td>\n",
       "    </tr>\n",
       "  </tbody>\n",
       "</table>\n",
       "</div>"
      ],
      "text/plain": [
       "        Home Ownership  Annual Income Years in current job  Tax Liens  \\\n",
       "user_id                                                                 \n",
       "1                 Rent      -0.471701            10+ years  -0.122708   \n",
       "2        Home Mortgage      -0.062318              2 years  -0.122708   \n",
       "\n",
       "         Number of Open Accounts  Years of Credit History  \\\n",
       "user_id                                                     \n",
       "1                       0.312317                -1.058208   \n",
       "2                      -0.527131                 1.463001   \n",
       "\n",
       "         Maximum Open Credit  Number of Credit Problems  \\\n",
       "user_id                                                   \n",
       "1                  -0.057758                  -0.335664   \n",
       "2                  -0.050245                  -0.335664   \n",
       "\n",
       "         Months since last delinquent  Bankruptcies             Purpose  \\\n",
       "user_id                                                                   \n",
       "1                           -0.769450     -0.324577               other   \n",
       "2                            0.249116     -0.324577  debt consolidation   \n",
       "\n",
       "               Term  Current Loan Amount  Current Credit Balance  \\\n",
       "user_id                                                            \n",
       "1        Short Term            -0.398873               -0.586188   \n",
       "2         Long Term            -0.390019               -0.197939   \n",
       "\n",
       "         Monthly Debt  Credit Score  Credit Default  \n",
       "user_id                                              \n",
       "1            0.075077     -0.273726               1  \n",
       "2           -0.473461     -0.279995               1  "
      ]
     },
     "execution_count": 419,
     "metadata": {},
     "output_type": "execute_result"
    }
   ],
   "source": [
    "user_feat = pd.DataFrame(user_item_matrix.index)\n",
    "user_feat = user_feat.merge(user_features, on='user_id', how='left')\n",
    "user_feat.set_index('user_id', inplace=True)\n",
    "user_feat.head(2)"
   ]
  },
  {
   "cell_type": "code",
   "execution_count": 422,
   "metadata": {},
   "outputs": [
    {
     "data": {
      "text/html": [
       "<div>\n",
       "<style scoped>\n",
       "    .dataframe tbody tr th:only-of-type {\n",
       "        vertical-align: middle;\n",
       "    }\n",
       "\n",
       "    .dataframe tbody tr th {\n",
       "        vertical-align: top;\n",
       "    }\n",
       "\n",
       "    .dataframe thead th {\n",
       "        text-align: right;\n",
       "    }\n",
       "</style>\n",
       "<table border=\"1\" class=\"dataframe\">\n",
       "  <thead>\n",
       "    <tr style=\"text-align: right;\">\n",
       "      <th></th>\n",
       "      <th>Annual Income</th>\n",
       "      <th>Tax Liens</th>\n",
       "      <th>Number of Open Accounts</th>\n",
       "      <th>Years of Credit History</th>\n",
       "      <th>Maximum Open Credit</th>\n",
       "      <th>Number of Credit Problems</th>\n",
       "      <th>Months since last delinquent</th>\n",
       "      <th>Bankruptcies</th>\n",
       "      <th>Current Loan Amount</th>\n",
       "      <th>Current Credit Balance</th>\n",
       "      <th>...</th>\n",
       "      <th>Purpose_major purchase</th>\n",
       "      <th>Purpose_medical bills</th>\n",
       "      <th>Purpose_moving</th>\n",
       "      <th>Purpose_other</th>\n",
       "      <th>Purpose_small business</th>\n",
       "      <th>Purpose_take a trip</th>\n",
       "      <th>Purpose_vacation</th>\n",
       "      <th>Purpose_wedding</th>\n",
       "      <th>Term_Long Term</th>\n",
       "      <th>Term_Short Term</th>\n",
       "    </tr>\n",
       "    <tr>\n",
       "      <th>user_id</th>\n",
       "      <th></th>\n",
       "      <th></th>\n",
       "      <th></th>\n",
       "      <th></th>\n",
       "      <th></th>\n",
       "      <th></th>\n",
       "      <th></th>\n",
       "      <th></th>\n",
       "      <th></th>\n",
       "      <th></th>\n",
       "      <th></th>\n",
       "      <th></th>\n",
       "      <th></th>\n",
       "      <th></th>\n",
       "      <th></th>\n",
       "      <th></th>\n",
       "      <th></th>\n",
       "      <th></th>\n",
       "      <th></th>\n",
       "      <th></th>\n",
       "      <th></th>\n",
       "    </tr>\n",
       "  </thead>\n",
       "  <tbody>\n",
       "    <tr>\n",
       "      <th>1</th>\n",
       "      <td>-0.471701</td>\n",
       "      <td>-0.122708</td>\n",
       "      <td>0.312317</td>\n",
       "      <td>-1.058208</td>\n",
       "      <td>-0.057758</td>\n",
       "      <td>-0.335664</td>\n",
       "      <td>-0.769450</td>\n",
       "      <td>-0.324577</td>\n",
       "      <td>-0.398873</td>\n",
       "      <td>-0.586188</td>\n",
       "      <td>...</td>\n",
       "      <td>0</td>\n",
       "      <td>0</td>\n",
       "      <td>0</td>\n",
       "      <td>1</td>\n",
       "      <td>0</td>\n",
       "      <td>0</td>\n",
       "      <td>0</td>\n",
       "      <td>0</td>\n",
       "      <td>0</td>\n",
       "      <td>1</td>\n",
       "    </tr>\n",
       "    <tr>\n",
       "      <th>2</th>\n",
       "      <td>-0.062318</td>\n",
       "      <td>-0.122708</td>\n",
       "      <td>-0.527131</td>\n",
       "      <td>1.463001</td>\n",
       "      <td>-0.050245</td>\n",
       "      <td>-0.335664</td>\n",
       "      <td>0.249116</td>\n",
       "      <td>-0.324577</td>\n",
       "      <td>-0.390019</td>\n",
       "      <td>-0.197939</td>\n",
       "      <td>...</td>\n",
       "      <td>0</td>\n",
       "      <td>0</td>\n",
       "      <td>0</td>\n",
       "      <td>0</td>\n",
       "      <td>0</td>\n",
       "      <td>0</td>\n",
       "      <td>0</td>\n",
       "      <td>0</td>\n",
       "      <td>1</td>\n",
       "      <td>0</td>\n",
       "    </tr>\n",
       "    <tr>\n",
       "      <th>3</th>\n",
       "      <td>0.220934</td>\n",
       "      <td>-0.122708</td>\n",
       "      <td>-0.107407</td>\n",
       "      <td>1.092235</td>\n",
       "      <td>-0.013680</td>\n",
       "      <td>-0.335664</td>\n",
       "      <td>0.434310</td>\n",
       "      <td>-0.324577</td>\n",
       "      <td>-0.389098</td>\n",
       "      <td>-0.023142</td>\n",
       "      <td>...</td>\n",
       "      <td>0</td>\n",
       "      <td>0</td>\n",
       "      <td>0</td>\n",
       "      <td>0</td>\n",
       "      <td>0</td>\n",
       "      <td>0</td>\n",
       "      <td>0</td>\n",
       "      <td>0</td>\n",
       "      <td>1</td>\n",
       "      <td>0</td>\n",
       "    </tr>\n",
       "    <tr>\n",
       "      <th>4</th>\n",
       "      <td>-0.463400</td>\n",
       "      <td>-0.122708</td>\n",
       "      <td>-0.946855</td>\n",
       "      <td>2.263856</td>\n",
       "      <td>-0.048410</td>\n",
       "      <td>-0.335664</td>\n",
       "      <td>0.480609</td>\n",
       "      <td>-0.324577</td>\n",
       "      <td>-0.396709</td>\n",
       "      <td>-0.261145</td>\n",
       "      <td>...</td>\n",
       "      <td>0</td>\n",
       "      <td>0</td>\n",
       "      <td>0</td>\n",
       "      <td>0</td>\n",
       "      <td>0</td>\n",
       "      <td>0</td>\n",
       "      <td>0</td>\n",
       "      <td>0</td>\n",
       "      <td>0</td>\n",
       "      <td>1</td>\n",
       "    </tr>\n",
       "    <tr>\n",
       "      <th>5</th>\n",
       "      <td>0.079275</td>\n",
       "      <td>-0.122708</td>\n",
       "      <td>1.571489</td>\n",
       "      <td>0.869776</td>\n",
       "      <td>0.070795</td>\n",
       "      <td>-0.335664</td>\n",
       "      <td>-0.954644</td>\n",
       "      <td>-0.324577</td>\n",
       "      <td>-0.398454</td>\n",
       "      <td>0.809642</td>\n",
       "      <td>...</td>\n",
       "      <td>0</td>\n",
       "      <td>0</td>\n",
       "      <td>0</td>\n",
       "      <td>0</td>\n",
       "      <td>0</td>\n",
       "      <td>0</td>\n",
       "      <td>0</td>\n",
       "      <td>0</td>\n",
       "      <td>0</td>\n",
       "      <td>1</td>\n",
       "    </tr>\n",
       "  </tbody>\n",
       "</table>\n",
       "<p>5 rows × 44 columns</p>\n",
       "</div>"
      ],
      "text/plain": [
       "         Annual Income  Tax Liens  Number of Open Accounts  \\\n",
       "user_id                                                      \n",
       "1            -0.471701  -0.122708                 0.312317   \n",
       "2            -0.062318  -0.122708                -0.527131   \n",
       "3             0.220934  -0.122708                -0.107407   \n",
       "4            -0.463400  -0.122708                -0.946855   \n",
       "5             0.079275  -0.122708                 1.571489   \n",
       "\n",
       "         Years of Credit History  Maximum Open Credit  \\\n",
       "user_id                                                 \n",
       "1                      -1.058208            -0.057758   \n",
       "2                       1.463001            -0.050245   \n",
       "3                       1.092235            -0.013680   \n",
       "4                       2.263856            -0.048410   \n",
       "5                       0.869776             0.070795   \n",
       "\n",
       "         Number of Credit Problems  Months since last delinquent  \\\n",
       "user_id                                                            \n",
       "1                        -0.335664                     -0.769450   \n",
       "2                        -0.335664                      0.249116   \n",
       "3                        -0.335664                      0.434310   \n",
       "4                        -0.335664                      0.480609   \n",
       "5                        -0.335664                     -0.954644   \n",
       "\n",
       "         Bankruptcies  Current Loan Amount  Current Credit Balance  ...  \\\n",
       "user_id                                                             ...   \n",
       "1           -0.324577            -0.398873               -0.586188  ...   \n",
       "2           -0.324577            -0.390019               -0.197939  ...   \n",
       "3           -0.324577            -0.389098               -0.023142  ...   \n",
       "4           -0.324577            -0.396709               -0.261145  ...   \n",
       "5           -0.324577            -0.398454                0.809642  ...   \n",
       "\n",
       "         Purpose_major purchase  Purpose_medical bills  Purpose_moving  \\\n",
       "user_id                                                                  \n",
       "1                             0                      0               0   \n",
       "2                             0                      0               0   \n",
       "3                             0                      0               0   \n",
       "4                             0                      0               0   \n",
       "5                             0                      0               0   \n",
       "\n",
       "         Purpose_other  Purpose_small business  Purpose_take a trip  \\\n",
       "user_id                                                               \n",
       "1                    1                       0                    0   \n",
       "2                    0                       0                    0   \n",
       "3                    0                       0                    0   \n",
       "4                    0                       0                    0   \n",
       "5                    0                       0                    0   \n",
       "\n",
       "         Purpose_vacation  Purpose_wedding  Term_Long Term  Term_Short Term  \n",
       "user_id                                                                      \n",
       "1                       0                0               0                1  \n",
       "2                       0                0               1                0  \n",
       "3                       0                0               1                0  \n",
       "4                       0                0               0                1  \n",
       "5                       0                0               0                1  \n",
       "\n",
       "[5 rows x 44 columns]"
      ]
     },
     "execution_count": 422,
     "metadata": {},
     "output_type": "execute_result"
    }
   ],
   "source": [
    "cat_features = user_features.select_dtypes(include='object').columns.tolist()\n",
    "user_feat_lightfm = pd.get_dummies(user_feat, columns=cat_features)\n",
    "user_feat_lightfm.head()"
   ]
  },
  {
   "cell_type": "code",
   "execution_count": 423,
   "metadata": {},
   "outputs": [],
   "source": [
    "# Как-то так.. Готовы попробовать завести lightfm снова"
   ]
  },
  {
   "cell_type": "code",
   "execution_count": 424,
   "metadata": {},
   "outputs": [],
   "source": [
    "model = LightFM(no_components=5,\n",
    "                loss='bpr', # 'warp'\n",
    "                learning_rate=0.05, \n",
    "                item_alpha=0.1, user_alpha=0.1, \n",
    "                random_state=42)"
   ]
  },
  {
   "cell_type": "code",
   "execution_count": 425,
   "metadata": {},
   "outputs": [
    {
     "name": "stdout",
     "output_type": "stream",
     "text": [
      "CPU times: user 16.3 s, sys: 108 ms, total: 16.5 s\n",
      "Wall time: 16.5 s\n"
     ]
    },
    {
     "data": {
      "text/plain": [
       "<lightfm.lightfm.LightFM at 0x7fb11fe067f0>"
      ]
     },
     "execution_count": 425,
     "metadata": {},
     "output_type": "execute_result"
    }
   ],
   "source": [
    "%%time\n",
    "model.fit((csr_matrix(user_item_matrix).tocsr() > 0) * 1,  # user-item matrix из 0 и 1\n",
    "          sample_weight=coo_matrix(user_item_matrix),\n",
    "          user_features=csr_matrix(user_feat_lightfm.values).tocsr(),\n",
    "          item_features=csr_matrix(item_feat_lightfm.values).tocsr(),\n",
    "          epochs=15, num_threads=4)"
   ]
  },
  {
   "cell_type": "code",
   "execution_count": 428,
   "metadata": {},
   "outputs": [
    {
     "data": {
      "text/plain": [
       "0.3611845"
      ]
     },
     "execution_count": 428,
     "metadata": {},
     "output_type": "execute_result"
    }
   ],
   "source": [
    "# Оверрайднули случайн этот метод\n",
    "from lightfm.evaluation import precision_at_k, recall_at_k\n",
    "\n",
    "precision_at_k(model, csr_matrix(user_item_matrix).tocsr(), \n",
    "                 user_features=csr_matrix(user_feat_lightfm.values).tocsr(),\n",
    "                 item_features=csr_matrix(item_feat_lightfm.values).tocsr(),\n",
    "                 k=5).mean()"
   ]
  },
  {
   "cell_type": "code",
   "execution_count": null,
   "metadata": {},
   "outputs": [],
   "source": [
    "# Вот абсолютно ничего не поменялось... \n",
    "# Нет никакой зависимости от юзер-фичей здесь - хоть вообще нули туда подай - ничего не изменится\n",
    "# вообще непонятно - как он тут дает какой-то скор - если для всех предсказывает одно и то-же"
   ]
  },
  {
   "cell_type": "code",
   "execution_count": 430,
   "metadata": {},
   "outputs": [
    {
     "name": "stdout",
     "output_type": "stream",
     "text": [
      "CPU times: user 2min 57s, sys: 386 ms, total: 2min 58s\n",
      "Wall time: 2min 58s\n"
     ]
    }
   ],
   "source": [
    "%%time\n",
    "result['lightfm_user_feats'] = result['user_id'].apply(lambda x: \n",
    "                        v_to_item_id(\n",
    "                            np.argsort(\n",
    "                                model.predict(int(userid_to_id[x]), matrix_itemids, \n",
    "                                              user_features=csr_matrix(user_feat_lightfm.values).tocsr(), \n",
    "                                              item_features=csr_matrix(item_feat_lightfm.values).tocsr(),\n",
    "                                              num_threads=4)\n",
    "                            )[-5:]))"
   ]
  },
  {
   "cell_type": "code",
   "execution_count": 431,
   "metadata": {},
   "outputs": [
    {
     "data": {
      "text/html": [
       "<div>\n",
       "<style scoped>\n",
       "    .dataframe tbody tr th:only-of-type {\n",
       "        vertical-align: middle;\n",
       "    }\n",
       "\n",
       "    .dataframe tbody tr th {\n",
       "        vertical-align: top;\n",
       "    }\n",
       "\n",
       "    .dataframe thead th {\n",
       "        text-align: right;\n",
       "    }\n",
       "</style>\n",
       "<table border=\"1\" class=\"dataframe\">\n",
       "  <thead>\n",
       "    <tr style=\"text-align: right;\">\n",
       "      <th></th>\n",
       "      <th>user_id</th>\n",
       "      <th>actual</th>\n",
       "      <th>fast_lightfm</th>\n",
       "      <th>lightfm</th>\n",
       "      <th>lightfm_user_feats</th>\n",
       "    </tr>\n",
       "  </thead>\n",
       "  <tbody>\n",
       "    <tr>\n",
       "      <th>0</th>\n",
       "      <td>1</td>\n",
       "      <td>[821867, 834484, 856942, 865456, 889248, 90795...</td>\n",
       "      <td>[5703832, 397896, 1404121, 1082185, 999999]</td>\n",
       "      <td>[5703832, 397896, 1404121, 1082185, 999999]</td>\n",
       "      <td>[397896, 2690723, 1404121, 1082185, 999999]</td>\n",
       "    </tr>\n",
       "    <tr>\n",
       "      <th>1</th>\n",
       "      <td>3</td>\n",
       "      <td>[835476, 851057, 872021, 878302, 879948, 90963...</td>\n",
       "      <td>[5703832, 397896, 1404121, 1082185, 999999]</td>\n",
       "      <td>[5703832, 397896, 1404121, 1082185, 999999]</td>\n",
       "      <td>[397896, 2690723, 1404121, 1082185, 999999]</td>\n",
       "    </tr>\n",
       "    <tr>\n",
       "      <th>2</th>\n",
       "      <td>6</td>\n",
       "      <td>[920308, 926804, 946489, 1006718, 1017061, 107...</td>\n",
       "      <td>[5703832, 397896, 1404121, 1082185, 999999]</td>\n",
       "      <td>[5703832, 397896, 1404121, 1082185, 999999]</td>\n",
       "      <td>[397896, 2690723, 1404121, 1082185, 999999]</td>\n",
       "    </tr>\n",
       "    <tr>\n",
       "      <th>3</th>\n",
       "      <td>7</td>\n",
       "      <td>[840386, 889774, 898068, 909714, 929067, 95347...</td>\n",
       "      <td>[5703832, 397896, 1404121, 1082185, 999999]</td>\n",
       "      <td>[5703832, 397896, 1404121, 1082185, 999999]</td>\n",
       "      <td>[397896, 2690723, 1404121, 1082185, 999999]</td>\n",
       "    </tr>\n",
       "    <tr>\n",
       "      <th>4</th>\n",
       "      <td>8</td>\n",
       "      <td>[835098, 872137, 910439, 924610, 992977, 10412...</td>\n",
       "      <td>[5703832, 397896, 1404121, 1082185, 999999]</td>\n",
       "      <td>[5703832, 397896, 1404121, 1082185, 999999]</td>\n",
       "      <td>[397896, 2690723, 1404121, 1082185, 999999]</td>\n",
       "    </tr>\n",
       "  </tbody>\n",
       "</table>\n",
       "</div>"
      ],
      "text/plain": [
       "   user_id                                             actual  \\\n",
       "0        1  [821867, 834484, 856942, 865456, 889248, 90795...   \n",
       "1        3  [835476, 851057, 872021, 878302, 879948, 90963...   \n",
       "2        6  [920308, 926804, 946489, 1006718, 1017061, 107...   \n",
       "3        7  [840386, 889774, 898068, 909714, 929067, 95347...   \n",
       "4        8  [835098, 872137, 910439, 924610, 992977, 10412...   \n",
       "\n",
       "                                  fast_lightfm  \\\n",
       "0  [5703832, 397896, 1404121, 1082185, 999999]   \n",
       "1  [5703832, 397896, 1404121, 1082185, 999999]   \n",
       "2  [5703832, 397896, 1404121, 1082185, 999999]   \n",
       "3  [5703832, 397896, 1404121, 1082185, 999999]   \n",
       "4  [5703832, 397896, 1404121, 1082185, 999999]   \n",
       "\n",
       "                                       lightfm  \\\n",
       "0  [5703832, 397896, 1404121, 1082185, 999999]   \n",
       "1  [5703832, 397896, 1404121, 1082185, 999999]   \n",
       "2  [5703832, 397896, 1404121, 1082185, 999999]   \n",
       "3  [5703832, 397896, 1404121, 1082185, 999999]   \n",
       "4  [5703832, 397896, 1404121, 1082185, 999999]   \n",
       "\n",
       "                            lightfm_user_feats  \n",
       "0  [397896, 2690723, 1404121, 1082185, 999999]  \n",
       "1  [397896, 2690723, 1404121, 1082185, 999999]  \n",
       "2  [397896, 2690723, 1404121, 1082185, 999999]  \n",
       "3  [397896, 2690723, 1404121, 1082185, 999999]  \n",
       "4  [397896, 2690723, 1404121, 1082185, 999999]  "
      ]
     },
     "execution_count": 431,
     "metadata": {},
     "output_type": "execute_result"
    }
   ],
   "source": [
    "result.head()"
   ]
  },
  {
   "cell_type": "code",
   "execution_count": 432,
   "metadata": {},
   "outputs": [],
   "source": [
    "# Один новый айтем появился.. остальное все также осталось. Для всех юзеров - все одно и то-же\n",
    "# Уверен, что если мы вручную перемножим матрицы и добавим байасы - результат будет ровно таким-же\n",
    "# Но - попробуем"
   ]
  },
  {
   "cell_type": "code",
   "execution_count": null,
   "metadata": {},
   "outputs": [],
   "source": []
  },
  {
   "cell_type": "markdown",
   "metadata": {},
   "source": [
    "### Вычисляем вручную"
   ]
  },
  {
   "cell_type": "code",
   "execution_count": 433,
   "metadata": {},
   "outputs": [],
   "source": [
    "user_emb = model.get_user_representations(\n",
    "    features=csr_matrix(user_feat_lightfm.values).tocsr())"
   ]
  },
  {
   "cell_type": "code",
   "execution_count": 442,
   "metadata": {},
   "outputs": [],
   "source": [
    "item_emb = model.get_item_representations(\n",
    "    features=csr_matrix(item_feat_lightfm.values).tocsr())"
   ]
  },
  {
   "cell_type": "code",
   "execution_count": 443,
   "metadata": {},
   "outputs": [],
   "source": [
    "# Перемножаем ембеддинги\n",
    "embs_matrix = user_emb[1] @ item_emb[1].T"
   ]
  },
  {
   "cell_type": "code",
   "execution_count": 444,
   "metadata": {},
   "outputs": [
    {
     "name": "stdout",
     "output_type": "stream",
     "text": [
      "CPU times: user 10.9 s, sys: 24.9 ms, total: 10.9 s\n",
      "Wall time: 10.9 s\n"
     ]
    }
   ],
   "source": [
    "%%time\n",
    "# Добавляем байасы b_u и b_i\n",
    "for u in range(embs_matrix.shape[0]):\n",
    "    for i in range(embs_matrix.shape[1]):\n",
    "        embs_matrix[u][i] += user_emb[0][u] + item_emb[0][i]"
   ]
  },
  {
   "cell_type": "code",
   "execution_count": 445,
   "metadata": {},
   "outputs": [],
   "source": [
    "fast_recs = embs_matrix"
   ]
  },
  {
   "cell_type": "code",
   "execution_count": 446,
   "metadata": {},
   "outputs": [],
   "source": [
    "result['fast_lightfm_user_feats'] = result['user_id'].apply(lambda x: \n",
    "                                             v_to_item_id(np.argsort(fast_recs[userid_to_id[x]])[-5:]))"
   ]
  },
  {
   "cell_type": "code",
   "execution_count": 448,
   "metadata": {},
   "outputs": [
    {
     "data": {
      "text/html": [
       "<div>\n",
       "<style scoped>\n",
       "    .dataframe tbody tr th:only-of-type {\n",
       "        vertical-align: middle;\n",
       "    }\n",
       "\n",
       "    .dataframe tbody tr th {\n",
       "        vertical-align: top;\n",
       "    }\n",
       "\n",
       "    .dataframe thead th {\n",
       "        text-align: right;\n",
       "    }\n",
       "</style>\n",
       "<table border=\"1\" class=\"dataframe\">\n",
       "  <thead>\n",
       "    <tr style=\"text-align: right;\">\n",
       "      <th></th>\n",
       "      <th>user_id</th>\n",
       "      <th>actual</th>\n",
       "      <th>fast_lightfm</th>\n",
       "      <th>lightfm</th>\n",
       "      <th>lightfm_user_feats</th>\n",
       "      <th>fast_lightfm_user_feats</th>\n",
       "    </tr>\n",
       "  </thead>\n",
       "  <tbody>\n",
       "    <tr>\n",
       "      <th>0</th>\n",
       "      <td>1</td>\n",
       "      <td>[821867, 834484, 856942, 865456, 889248, 90795...</td>\n",
       "      <td>[5703832, 397896, 1404121, 1082185, 999999]</td>\n",
       "      <td>[5703832, 397896, 1404121, 1082185, 999999]</td>\n",
       "      <td>[397896, 2690723, 1404121, 1082185, 999999]</td>\n",
       "      <td>[397896, 2690723, 1404121, 1082185, 999999]</td>\n",
       "    </tr>\n",
       "    <tr>\n",
       "      <th>1</th>\n",
       "      <td>3</td>\n",
       "      <td>[835476, 851057, 872021, 878302, 879948, 90963...</td>\n",
       "      <td>[5703832, 397896, 1404121, 1082185, 999999]</td>\n",
       "      <td>[5703832, 397896, 1404121, 1082185, 999999]</td>\n",
       "      <td>[397896, 2690723, 1404121, 1082185, 999999]</td>\n",
       "      <td>[397896, 2690723, 1404121, 1082185, 999999]</td>\n",
       "    </tr>\n",
       "    <tr>\n",
       "      <th>2</th>\n",
       "      <td>6</td>\n",
       "      <td>[920308, 926804, 946489, 1006718, 1017061, 107...</td>\n",
       "      <td>[5703832, 397896, 1404121, 1082185, 999999]</td>\n",
       "      <td>[5703832, 397896, 1404121, 1082185, 999999]</td>\n",
       "      <td>[397896, 2690723, 1404121, 1082185, 999999]</td>\n",
       "      <td>[397896, 2690723, 1404121, 1082185, 999999]</td>\n",
       "    </tr>\n",
       "    <tr>\n",
       "      <th>3</th>\n",
       "      <td>7</td>\n",
       "      <td>[840386, 889774, 898068, 909714, 929067, 95347...</td>\n",
       "      <td>[5703832, 397896, 1404121, 1082185, 999999]</td>\n",
       "      <td>[5703832, 397896, 1404121, 1082185, 999999]</td>\n",
       "      <td>[397896, 2690723, 1404121, 1082185, 999999]</td>\n",
       "      <td>[397896, 2690723, 1404121, 1082185, 999999]</td>\n",
       "    </tr>\n",
       "    <tr>\n",
       "      <th>4</th>\n",
       "      <td>8</td>\n",
       "      <td>[835098, 872137, 910439, 924610, 992977, 10412...</td>\n",
       "      <td>[5703832, 397896, 1404121, 1082185, 999999]</td>\n",
       "      <td>[5703832, 397896, 1404121, 1082185, 999999]</td>\n",
       "      <td>[397896, 2690723, 1404121, 1082185, 999999]</td>\n",
       "      <td>[397896, 2690723, 1404121, 1082185, 999999]</td>\n",
       "    </tr>\n",
       "  </tbody>\n",
       "</table>\n",
       "</div>"
      ],
      "text/plain": [
       "   user_id                                             actual  \\\n",
       "0        1  [821867, 834484, 856942, 865456, 889248, 90795...   \n",
       "1        3  [835476, 851057, 872021, 878302, 879948, 90963...   \n",
       "2        6  [920308, 926804, 946489, 1006718, 1017061, 107...   \n",
       "3        7  [840386, 889774, 898068, 909714, 929067, 95347...   \n",
       "4        8  [835098, 872137, 910439, 924610, 992977, 10412...   \n",
       "\n",
       "                                  fast_lightfm  \\\n",
       "0  [5703832, 397896, 1404121, 1082185, 999999]   \n",
       "1  [5703832, 397896, 1404121, 1082185, 999999]   \n",
       "2  [5703832, 397896, 1404121, 1082185, 999999]   \n",
       "3  [5703832, 397896, 1404121, 1082185, 999999]   \n",
       "4  [5703832, 397896, 1404121, 1082185, 999999]   \n",
       "\n",
       "                                       lightfm  \\\n",
       "0  [5703832, 397896, 1404121, 1082185, 999999]   \n",
       "1  [5703832, 397896, 1404121, 1082185, 999999]   \n",
       "2  [5703832, 397896, 1404121, 1082185, 999999]   \n",
       "3  [5703832, 397896, 1404121, 1082185, 999999]   \n",
       "4  [5703832, 397896, 1404121, 1082185, 999999]   \n",
       "\n",
       "                            lightfm_user_feats  \\\n",
       "0  [397896, 2690723, 1404121, 1082185, 999999]   \n",
       "1  [397896, 2690723, 1404121, 1082185, 999999]   \n",
       "2  [397896, 2690723, 1404121, 1082185, 999999]   \n",
       "3  [397896, 2690723, 1404121, 1082185, 999999]   \n",
       "4  [397896, 2690723, 1404121, 1082185, 999999]   \n",
       "\n",
       "                       fast_lightfm_user_feats  \n",
       "0  [397896, 2690723, 1404121, 1082185, 999999]  \n",
       "1  [397896, 2690723, 1404121, 1082185, 999999]  \n",
       "2  [397896, 2690723, 1404121, 1082185, 999999]  \n",
       "3  [397896, 2690723, 1404121, 1082185, 999999]  \n",
       "4  [397896, 2690723, 1404121, 1082185, 999999]  "
      ]
     },
     "execution_count": 448,
     "metadata": {},
     "output_type": "execute_result"
    }
   ],
   "source": [
    "result.head()"
   ]
  },
  {
   "cell_type": "code",
   "execution_count": 449,
   "metadata": {},
   "outputs": [],
   "source": [
    "# Все именно так. Полное совпадение с штатным predict-ом - и одинаковый прогноз для всех."
   ]
  },
  {
   "cell_type": "code",
   "execution_count": 450,
   "metadata": {},
   "outputs": [],
   "source": [
    "# Вобщем - NEED HELP"
   ]
  },
  {
   "cell_type": "code",
   "execution_count": null,
   "metadata": {},
   "outputs": [],
   "source": []
  },
  {
   "cell_type": "markdown",
   "metadata": {},
   "source": [
    "## Твик гиперпараметров"
   ]
  },
  {
   "cell_type": "code",
   "execution_count": 471,
   "metadata": {},
   "outputs": [],
   "source": [
    "# Пришла в голову идея потвикать гиперпараметры\n",
    "model = LightFM(no_components=30,\n",
    "                loss='bpr',\n",
    "                learning_rate=0.0001, \n",
    "                item_alpha=0.01, user_alpha=0.01, \n",
    "                random_state=100)"
   ]
  },
  {
   "cell_type": "code",
   "execution_count": 472,
   "metadata": {},
   "outputs": [
    {
     "name": "stdout",
     "output_type": "stream",
     "text": [
      "CPU times: user 1min 25s, sys: 205 ms, total: 1min 25s\n",
      "Wall time: 1min 25s\n"
     ]
    },
    {
     "data": {
      "text/plain": [
       "<lightfm.lightfm.LightFM at 0x7fb11fdf25e0>"
      ]
     },
     "execution_count": 472,
     "metadata": {},
     "output_type": "execute_result"
    }
   ],
   "source": [
    "%%time\n",
    "model.fit((csr_matrix(user_item_matrix).tocsr() > 0) * 1,  # user-item matrix из 0 и 1\n",
    "          sample_weight=coo_matrix(user_item_matrix),\n",
    "          user_features=csr_matrix(user_feat_lightfm.values).tocsr(),\n",
    "          item_features=csr_matrix(item_feat_lightfm.values).tocsr(),\n",
    "          epochs=20, num_threads=4)"
   ]
  },
  {
   "cell_type": "code",
   "execution_count": 473,
   "metadata": {},
   "outputs": [
    {
     "data": {
      "text/plain": [
       "0.37118852"
      ]
     },
     "execution_count": 473,
     "metadata": {},
     "output_type": "execute_result"
    }
   ],
   "source": [
    "precision_at_k(model, csr_matrix(user_item_matrix).tocsr(), \n",
    "                 user_features=csr_matrix(user_feat_lightfm.values).tocsr(),\n",
    "                 item_features=csr_matrix(item_feat_lightfm.values).tocsr(),\n",
    "                 k=5).mean()"
   ]
  },
  {
   "cell_type": "code",
   "execution_count": 476,
   "metadata": {},
   "outputs": [
    {
     "name": "stdout",
     "output_type": "stream",
     "text": [
      "CPU times: user 3min 3s, sys: 1.13 s, total: 3min 4s\n",
      "Wall time: 3min 6s\n"
     ]
    }
   ],
   "source": [
    "%%time\n",
    "result['lightfm_hparms'] = result['user_id'].apply(lambda x: \n",
    "                        v_to_item_id(\n",
    "                            np.argsort(\n",
    "                                model.predict(int(userid_to_id[x]), matrix_itemids, \n",
    "                                              user_features=csr_matrix(user_feat_lightfm.values).tocsr(), \n",
    "                                              item_features=csr_matrix(item_feat_lightfm.values).tocsr(),\n",
    "                                              num_threads=4)\n",
    "                            )[-6:])[::-1])"
   ]
  },
  {
   "cell_type": "code",
   "execution_count": 479,
   "metadata": {},
   "outputs": [
    {
     "data": {
      "text/html": [
       "<div>\n",
       "<style scoped>\n",
       "    .dataframe tbody tr th:only-of-type {\n",
       "        vertical-align: middle;\n",
       "    }\n",
       "\n",
       "    .dataframe tbody tr th {\n",
       "        vertical-align: top;\n",
       "    }\n",
       "\n",
       "    .dataframe thead th {\n",
       "        text-align: right;\n",
       "    }\n",
       "</style>\n",
       "<table border=\"1\" class=\"dataframe\">\n",
       "  <thead>\n",
       "    <tr style=\"text-align: right;\">\n",
       "      <th></th>\n",
       "      <th>user_id</th>\n",
       "      <th>actual</th>\n",
       "      <th>fast_lightfm</th>\n",
       "      <th>lightfm</th>\n",
       "      <th>lightfm_user_feats</th>\n",
       "      <th>fast_lightfm_user_feats</th>\n",
       "      <th>lightfm_hparms</th>\n",
       "    </tr>\n",
       "  </thead>\n",
       "  <tbody>\n",
       "    <tr>\n",
       "      <th>0</th>\n",
       "      <td>1</td>\n",
       "      <td>[821867, 834484, 856942, 865456, 889248, 90795...</td>\n",
       "      <td>[5703832, 397896, 1404121, 1082185, 999999]</td>\n",
       "      <td>[5703832, 397896, 1404121, 1082185, 999999]</td>\n",
       "      <td>[397896, 2690723, 1404121, 1082185, 999999]</td>\n",
       "      <td>[397896, 2690723, 1404121, 1082185, 999999]</td>\n",
       "      <td>[1082185, 999999, 12518330, 5668996, 6410462, ...</td>\n",
       "    </tr>\n",
       "    <tr>\n",
       "      <th>1</th>\n",
       "      <td>3</td>\n",
       "      <td>[835476, 851057, 872021, 878302, 879948, 90963...</td>\n",
       "      <td>[5703832, 397896, 1404121, 1082185, 999999]</td>\n",
       "      <td>[5703832, 397896, 1404121, 1082185, 999999]</td>\n",
       "      <td>[397896, 2690723, 1404121, 1082185, 999999]</td>\n",
       "      <td>[397896, 2690723, 1404121, 1082185, 999999]</td>\n",
       "      <td>[1082185, 999999, 12518330, 1404121, 6410462, ...</td>\n",
       "    </tr>\n",
       "    <tr>\n",
       "      <th>2</th>\n",
       "      <td>6</td>\n",
       "      <td>[920308, 926804, 946489, 1006718, 1017061, 107...</td>\n",
       "      <td>[5703832, 397896, 1404121, 1082185, 999999]</td>\n",
       "      <td>[5703832, 397896, 1404121, 1082185, 999999]</td>\n",
       "      <td>[397896, 2690723, 1404121, 1082185, 999999]</td>\n",
       "      <td>[397896, 2690723, 1404121, 1082185, 999999]</td>\n",
       "      <td>[1082185, 999999, 12518330, 5850988, 6534178, ...</td>\n",
       "    </tr>\n",
       "    <tr>\n",
       "      <th>3</th>\n",
       "      <td>7</td>\n",
       "      <td>[840386, 889774, 898068, 909714, 929067, 95347...</td>\n",
       "      <td>[5703832, 397896, 1404121, 1082185, 999999]</td>\n",
       "      <td>[5703832, 397896, 1404121, 1082185, 999999]</td>\n",
       "      <td>[397896, 2690723, 1404121, 1082185, 999999]</td>\n",
       "      <td>[397896, 2690723, 1404121, 1082185, 999999]</td>\n",
       "      <td>[1082185, 999999, 12518330, 1404121, 6410462, ...</td>\n",
       "    </tr>\n",
       "    <tr>\n",
       "      <th>4</th>\n",
       "      <td>8</td>\n",
       "      <td>[835098, 872137, 910439, 924610, 992977, 10412...</td>\n",
       "      <td>[5703832, 397896, 1404121, 1082185, 999999]</td>\n",
       "      <td>[5703832, 397896, 1404121, 1082185, 999999]</td>\n",
       "      <td>[397896, 2690723, 1404121, 1082185, 999999]</td>\n",
       "      <td>[397896, 2690723, 1404121, 1082185, 999999]</td>\n",
       "      <td>[1082185, 999999, 12518330, 1404121, 5747420, ...</td>\n",
       "    </tr>\n",
       "  </tbody>\n",
       "</table>\n",
       "</div>"
      ],
      "text/plain": [
       "   user_id                                             actual  \\\n",
       "0        1  [821867, 834484, 856942, 865456, 889248, 90795...   \n",
       "1        3  [835476, 851057, 872021, 878302, 879948, 90963...   \n",
       "2        6  [920308, 926804, 946489, 1006718, 1017061, 107...   \n",
       "3        7  [840386, 889774, 898068, 909714, 929067, 95347...   \n",
       "4        8  [835098, 872137, 910439, 924610, 992977, 10412...   \n",
       "\n",
       "                                  fast_lightfm  \\\n",
       "0  [5703832, 397896, 1404121, 1082185, 999999]   \n",
       "1  [5703832, 397896, 1404121, 1082185, 999999]   \n",
       "2  [5703832, 397896, 1404121, 1082185, 999999]   \n",
       "3  [5703832, 397896, 1404121, 1082185, 999999]   \n",
       "4  [5703832, 397896, 1404121, 1082185, 999999]   \n",
       "\n",
       "                                       lightfm  \\\n",
       "0  [5703832, 397896, 1404121, 1082185, 999999]   \n",
       "1  [5703832, 397896, 1404121, 1082185, 999999]   \n",
       "2  [5703832, 397896, 1404121, 1082185, 999999]   \n",
       "3  [5703832, 397896, 1404121, 1082185, 999999]   \n",
       "4  [5703832, 397896, 1404121, 1082185, 999999]   \n",
       "\n",
       "                            lightfm_user_feats  \\\n",
       "0  [397896, 2690723, 1404121, 1082185, 999999]   \n",
       "1  [397896, 2690723, 1404121, 1082185, 999999]   \n",
       "2  [397896, 2690723, 1404121, 1082185, 999999]   \n",
       "3  [397896, 2690723, 1404121, 1082185, 999999]   \n",
       "4  [397896, 2690723, 1404121, 1082185, 999999]   \n",
       "\n",
       "                       fast_lightfm_user_feats  \\\n",
       "0  [397896, 2690723, 1404121, 1082185, 999999]   \n",
       "1  [397896, 2690723, 1404121, 1082185, 999999]   \n",
       "2  [397896, 2690723, 1404121, 1082185, 999999]   \n",
       "3  [397896, 2690723, 1404121, 1082185, 999999]   \n",
       "4  [397896, 2690723, 1404121, 1082185, 999999]   \n",
       "\n",
       "                                      lightfm_hparms  \n",
       "0  [1082185, 999999, 12518330, 5668996, 6410462, ...  \n",
       "1  [1082185, 999999, 12518330, 1404121, 6410462, ...  \n",
       "2  [1082185, 999999, 12518330, 5850988, 6534178, ...  \n",
       "3  [1082185, 999999, 12518330, 1404121, 6410462, ...  \n",
       "4  [1082185, 999999, 12518330, 1404121, 5747420, ...  "
      ]
     },
     "execution_count": 479,
     "metadata": {},
     "output_type": "execute_result"
    }
   ],
   "source": [
    "result.head()"
   ]
  },
  {
   "cell_type": "code",
   "execution_count": 480,
   "metadata": {},
   "outputs": [],
   "source": [
    "# Так. Отбой - какое-то разнообразие получилось... Виной всему судя по всему был слишком большой learning_rate"
   ]
  },
  {
   "cell_type": "code",
   "execution_count": 481,
   "metadata": {},
   "outputs": [],
   "source": [
    "# Ох. Пора уже упаковать это в src... что-то уже начинает запаривать копипейстить.\n",
    "def pr_at_k(recommended, actual, k=5):\n",
    "    flags = np.isin(recommended[:k], actual)\n",
    "    return flags.sum() / len(recommended[:k])\n",
    "\n",
    "v_precision_at_k = np.vectorize(pr_at_k)"
   ]
  },
  {
   "cell_type": "code",
   "execution_count": 482,
   "metadata": {},
   "outputs": [
    {
     "data": {
      "text/plain": [
       "0.08256611165523996"
      ]
     },
     "execution_count": 482,
     "metadata": {},
     "output_type": "execute_result"
    }
   ],
   "source": [
    "v_precision_at_k(result.lightfm_hparms, result.actual).mean()"
   ]
  },
  {
   "cell_type": "markdown",
   "metadata": {},
   "source": [
    "Ха-ха ))\n",
    "Извините, не смог удержаться..."
   ]
  },
  {
   "cell_type": "code",
   "execution_count": 484,
   "metadata": {},
   "outputs": [
    {
     "data": {
      "text/html": [
       "<div>\n",
       "<style scoped>\n",
       "    .dataframe tbody tr th:only-of-type {\n",
       "        vertical-align: middle;\n",
       "    }\n",
       "\n",
       "    .dataframe tbody tr th {\n",
       "        vertical-align: top;\n",
       "    }\n",
       "\n",
       "    .dataframe thead th {\n",
       "        text-align: right;\n",
       "    }\n",
       "</style>\n",
       "<table border=\"1\" class=\"dataframe\">\n",
       "  <thead>\n",
       "    <tr style=\"text-align: right;\">\n",
       "      <th></th>\n",
       "      <th>item_id</th>\n",
       "      <th>manufacturer</th>\n",
       "      <th>department</th>\n",
       "      <th>brand</th>\n",
       "      <th>commodity_desc</th>\n",
       "      <th>sub_commodity_desc</th>\n",
       "      <th>curr_size_of_product</th>\n",
       "    </tr>\n",
       "  </thead>\n",
       "  <tbody>\n",
       "    <tr>\n",
       "      <th>35576</th>\n",
       "      <td>1082185</td>\n",
       "      <td>2</td>\n",
       "      <td>PRODUCE</td>\n",
       "      <td>National</td>\n",
       "      <td>TROPICAL FRUIT</td>\n",
       "      <td>BANANAS</td>\n",
       "      <td>40 LB</td>\n",
       "    </tr>\n",
       "  </tbody>\n",
       "</table>\n",
       "</div>"
      ],
      "text/plain": [
       "       item_id  manufacturer department     brand  commodity_desc  \\\n",
       "35576  1082185             2    PRODUCE  National  TROPICAL FRUIT   \n",
       "\n",
       "      sub_commodity_desc curr_size_of_product  \n",
       "35576            BANANAS                40 LB  "
      ]
     },
     "execution_count": 484,
     "metadata": {},
     "output_type": "execute_result"
    }
   ],
   "source": [
    "# Кто-же интересно они - наши продукты - герои всех рекомендаций, ну кроме бузусловного лидера - 999999\n",
    "item_features[item_features['item_id']==1082185]"
   ]
  },
  {
   "cell_type": "code",
   "execution_count": 485,
   "metadata": {},
   "outputs": [
    {
     "data": {
      "text/html": [
       "<div>\n",
       "<style scoped>\n",
       "    .dataframe tbody tr th:only-of-type {\n",
       "        vertical-align: middle;\n",
       "    }\n",
       "\n",
       "    .dataframe tbody tr th {\n",
       "        vertical-align: top;\n",
       "    }\n",
       "\n",
       "    .dataframe thead th {\n",
       "        text-align: right;\n",
       "    }\n",
       "</style>\n",
       "<table border=\"1\" class=\"dataframe\">\n",
       "  <thead>\n",
       "    <tr style=\"text-align: right;\">\n",
       "      <th></th>\n",
       "      <th>item_id</th>\n",
       "      <th>manufacturer</th>\n",
       "      <th>department</th>\n",
       "      <th>brand</th>\n",
       "      <th>commodity_desc</th>\n",
       "      <th>sub_commodity_desc</th>\n",
       "      <th>curr_size_of_product</th>\n",
       "    </tr>\n",
       "  </thead>\n",
       "  <tbody>\n",
       "    <tr>\n",
       "      <th>77201</th>\n",
       "      <td>12518330</td>\n",
       "      <td>2007</td>\n",
       "      <td>PRODUCE</td>\n",
       "      <td>National</td>\n",
       "      <td>TROPICAL FRUIT</td>\n",
       "      <td>BANANAS</td>\n",
       "      <td>8 OZ</td>\n",
       "    </tr>\n",
       "  </tbody>\n",
       "</table>\n",
       "</div>"
      ],
      "text/plain": [
       "        item_id  manufacturer department     brand  commodity_desc  \\\n",
       "77201  12518330          2007    PRODUCE  National  TROPICAL FRUIT   \n",
       "\n",
       "      sub_commodity_desc curr_size_of_product  \n",
       "77201            BANANAS                 8 OZ  "
      ]
     },
     "execution_count": 485,
     "metadata": {},
     "output_type": "execute_result"
    }
   ],
   "source": [
    "item_features[item_features['item_id']==12518330]"
   ]
  },
  {
   "cell_type": "code",
   "execution_count": 486,
   "metadata": {},
   "outputs": [
    {
     "data": {
      "text/html": [
       "<div>\n",
       "<style scoped>\n",
       "    .dataframe tbody tr th:only-of-type {\n",
       "        vertical-align: middle;\n",
       "    }\n",
       "\n",
       "    .dataframe tbody tr th {\n",
       "        vertical-align: top;\n",
       "    }\n",
       "\n",
       "    .dataframe thead th {\n",
       "        text-align: right;\n",
       "    }\n",
       "</style>\n",
       "<table border=\"1\" class=\"dataframe\">\n",
       "  <thead>\n",
       "    <tr style=\"text-align: right;\">\n",
       "      <th></th>\n",
       "      <th>item_id</th>\n",
       "      <th>manufacturer</th>\n",
       "      <th>department</th>\n",
       "      <th>brand</th>\n",
       "      <th>commodity_desc</th>\n",
       "      <th>sub_commodity_desc</th>\n",
       "      <th>curr_size_of_product</th>\n",
       "    </tr>\n",
       "  </thead>\n",
       "  <tbody>\n",
       "    <tr>\n",
       "      <th>44796</th>\n",
       "      <td>1404121</td>\n",
       "      <td>69</td>\n",
       "      <td>KIOSK-GAS</td>\n",
       "      <td>Private</td>\n",
       "      <td>COUPON/MISC ITEMS</td>\n",
       "      <td>GASOLINE-REG UNLEADED</td>\n",
       "      <td></td>\n",
       "    </tr>\n",
       "  </tbody>\n",
       "</table>\n",
       "</div>"
      ],
      "text/plain": [
       "       item_id  manufacturer department    brand     commodity_desc  \\\n",
       "44796  1404121            69  KIOSK-GAS  Private  COUPON/MISC ITEMS   \n",
       "\n",
       "          sub_commodity_desc curr_size_of_product  \n",
       "44796  GASOLINE-REG UNLEADED                       "
      ]
     },
     "execution_count": 486,
     "metadata": {},
     "output_type": "execute_result"
    }
   ],
   "source": [
    "item_features[item_features['item_id']==1404121]"
   ]
  },
  {
   "cell_type": "code",
   "execution_count": 487,
   "metadata": {},
   "outputs": [],
   "source": [
    "# Всем - бананов и бензина! Не самые плохие рекомендации я считаю )"
   ]
  },
  {
   "cell_type": "code",
   "execution_count": null,
   "metadata": {},
   "outputs": [],
   "source": []
  },
  {
   "cell_type": "markdown",
   "metadata": {},
   "source": [
    "### Взвесить матрицу"
   ]
  },
  {
   "cell_type": "code",
   "execution_count": 488,
   "metadata": {},
   "outputs": [],
   "source": [
    "# Есть еще такие опции\n",
    "weighted_matrix = bm25_weight(user_item_matrix)"
   ]
  },
  {
   "cell_type": "code",
   "execution_count": 489,
   "metadata": {},
   "outputs": [],
   "source": [
    "model = LightFM(no_components=70,\n",
    "                loss='bpr',\n",
    "                learning_rate=0.0001, \n",
    "                item_alpha=0.01, user_alpha=0.01, \n",
    "                random_state=100)"
   ]
  },
  {
   "cell_type": "code",
   "execution_count": 490,
   "metadata": {},
   "outputs": [
    {
     "name": "stdout",
     "output_type": "stream",
     "text": [
      "CPU times: user 3min 12s, sys: 1.2 s, total: 3min 13s\n",
      "Wall time: 3min 20s\n"
     ]
    },
    {
     "data": {
      "text/plain": [
       "<lightfm.lightfm.LightFM at 0x7fb11fde98e0>"
      ]
     },
     "execution_count": 490,
     "metadata": {},
     "output_type": "execute_result"
    }
   ],
   "source": [
    "%%time\n",
    "model.fit((csr_matrix(user_item_matrix).tocsr() > 0) * 1,  # user-item matrix из 0 и 1\n",
    "          sample_weight=coo_matrix(weighted_matrix),\n",
    "          user_features=csr_matrix(user_feat_lightfm.values).tocsr(),\n",
    "          item_features=csr_matrix(item_feat_lightfm.values).tocsr(),\n",
    "          epochs=20, num_threads=4)"
   ]
  },
  {
   "cell_type": "code",
   "execution_count": 491,
   "metadata": {},
   "outputs": [
    {
     "data": {
      "text/plain": [
       "0.25914368"
      ]
     },
     "execution_count": 491,
     "metadata": {},
     "output_type": "execute_result"
    }
   ],
   "source": [
    "precision_at_k(model, csr_matrix(user_item_matrix).tocsr(), \n",
    "                 user_features=csr_matrix(user_feat_lightfm.values).tocsr(),\n",
    "                 item_features=csr_matrix(item_feat_lightfm.values).tocsr(),\n",
    "                 k=5).mean()"
   ]
  },
  {
   "cell_type": "code",
   "execution_count": 495,
   "metadata": {},
   "outputs": [
    {
     "name": "stdout",
     "output_type": "stream",
     "text": [
      "CPU times: user 2min 59s, sys: 650 ms, total: 3min\n",
      "Wall time: 3min 1s\n"
     ]
    }
   ],
   "source": [
    "%%time\n",
    "result['lightfm_weighted'] = result['user_id'].apply(lambda x: \n",
    "                        v_to_item_id(\n",
    "                            np.argsort(\n",
    "                                model.predict(int(userid_to_id[x]), matrix_itemids, \n",
    "                                              user_features=csr_matrix(user_feat_lightfm.values).tocsr(), \n",
    "                                              item_features=csr_matrix(item_feat_lightfm.values).tocsr(),\n",
    "                                              num_threads=4)\n",
    "                            )[-5:])[::-1])"
   ]
  },
  {
   "cell_type": "code",
   "execution_count": 496,
   "metadata": {},
   "outputs": [
    {
     "data": {
      "text/html": [
       "<div>\n",
       "<style scoped>\n",
       "    .dataframe tbody tr th:only-of-type {\n",
       "        vertical-align: middle;\n",
       "    }\n",
       "\n",
       "    .dataframe tbody tr th {\n",
       "        vertical-align: top;\n",
       "    }\n",
       "\n",
       "    .dataframe thead th {\n",
       "        text-align: right;\n",
       "    }\n",
       "</style>\n",
       "<table border=\"1\" class=\"dataframe\">\n",
       "  <thead>\n",
       "    <tr style=\"text-align: right;\">\n",
       "      <th></th>\n",
       "      <th>user_id</th>\n",
       "      <th>actual</th>\n",
       "      <th>fast_lightfm</th>\n",
       "      <th>lightfm</th>\n",
       "      <th>lightfm_user_feats</th>\n",
       "      <th>fast_lightfm_user_feats</th>\n",
       "      <th>lightfm_hparms</th>\n",
       "      <th>lightfm_weighted</th>\n",
       "    </tr>\n",
       "  </thead>\n",
       "  <tbody>\n",
       "    <tr>\n",
       "      <th>0</th>\n",
       "      <td>1</td>\n",
       "      <td>[821867, 834484, 856942, 865456, 889248, 90795...</td>\n",
       "      <td>[5703832, 397896, 1404121, 1082185, 999999]</td>\n",
       "      <td>[5703832, 397896, 1404121, 1082185, 999999]</td>\n",
       "      <td>[397896, 2690723, 1404121, 1082185, 999999]</td>\n",
       "      <td>[397896, 2690723, 1404121, 1082185, 999999]</td>\n",
       "      <td>[1082185, 999999, 12518330, 5668996, 6410462, ...</td>\n",
       "      <td>[1126899, 1106523, 1070820, 1029743, 1065979]</td>\n",
       "    </tr>\n",
       "    <tr>\n",
       "      <th>1</th>\n",
       "      <td>3</td>\n",
       "      <td>[835476, 851057, 872021, 878302, 879948, 90963...</td>\n",
       "      <td>[5703832, 397896, 1404121, 1082185, 999999]</td>\n",
       "      <td>[5703832, 397896, 1404121, 1082185, 999999]</td>\n",
       "      <td>[397896, 2690723, 1404121, 1082185, 999999]</td>\n",
       "      <td>[397896, 2690723, 1404121, 1082185, 999999]</td>\n",
       "      <td>[1082185, 999999, 12518330, 1404121, 6410462, ...</td>\n",
       "      <td>[1070820, 1029743, 1126899, 1106523, 1056212]</td>\n",
       "    </tr>\n",
       "    <tr>\n",
       "      <th>2</th>\n",
       "      <td>6</td>\n",
       "      <td>[920308, 926804, 946489, 1006718, 1017061, 107...</td>\n",
       "      <td>[5703832, 397896, 1404121, 1082185, 999999]</td>\n",
       "      <td>[5703832, 397896, 1404121, 1082185, 999999]</td>\n",
       "      <td>[397896, 2690723, 1404121, 1082185, 999999]</td>\n",
       "      <td>[397896, 2690723, 1404121, 1082185, 999999]</td>\n",
       "      <td>[1082185, 999999, 12518330, 5850988, 6534178, ...</td>\n",
       "      <td>[1126899, 1029743, 1106523, 1070820, 1056212]</td>\n",
       "    </tr>\n",
       "    <tr>\n",
       "      <th>3</th>\n",
       "      <td>7</td>\n",
       "      <td>[840386, 889774, 898068, 909714, 929067, 95347...</td>\n",
       "      <td>[5703832, 397896, 1404121, 1082185, 999999]</td>\n",
       "      <td>[5703832, 397896, 1404121, 1082185, 999999]</td>\n",
       "      <td>[397896, 2690723, 1404121, 1082185, 999999]</td>\n",
       "      <td>[397896, 2690723, 1404121, 1082185, 999999]</td>\n",
       "      <td>[1082185, 999999, 12518330, 1404121, 6410462, ...</td>\n",
       "      <td>[1070820, 1029743, 1126899, 1106523, 1056212]</td>\n",
       "    </tr>\n",
       "    <tr>\n",
       "      <th>4</th>\n",
       "      <td>8</td>\n",
       "      <td>[835098, 872137, 910439, 924610, 992977, 10412...</td>\n",
       "      <td>[5703832, 397896, 1404121, 1082185, 999999]</td>\n",
       "      <td>[5703832, 397896, 1404121, 1082185, 999999]</td>\n",
       "      <td>[397896, 2690723, 1404121, 1082185, 999999]</td>\n",
       "      <td>[397896, 2690723, 1404121, 1082185, 999999]</td>\n",
       "      <td>[1082185, 999999, 12518330, 1404121, 5747420, ...</td>\n",
       "      <td>[1126899, 1070820, 1106523, 1029743, 936830]</td>\n",
       "    </tr>\n",
       "  </tbody>\n",
       "</table>\n",
       "</div>"
      ],
      "text/plain": [
       "   user_id                                             actual  \\\n",
       "0        1  [821867, 834484, 856942, 865456, 889248, 90795...   \n",
       "1        3  [835476, 851057, 872021, 878302, 879948, 90963...   \n",
       "2        6  [920308, 926804, 946489, 1006718, 1017061, 107...   \n",
       "3        7  [840386, 889774, 898068, 909714, 929067, 95347...   \n",
       "4        8  [835098, 872137, 910439, 924610, 992977, 10412...   \n",
       "\n",
       "                                  fast_lightfm  \\\n",
       "0  [5703832, 397896, 1404121, 1082185, 999999]   \n",
       "1  [5703832, 397896, 1404121, 1082185, 999999]   \n",
       "2  [5703832, 397896, 1404121, 1082185, 999999]   \n",
       "3  [5703832, 397896, 1404121, 1082185, 999999]   \n",
       "4  [5703832, 397896, 1404121, 1082185, 999999]   \n",
       "\n",
       "                                       lightfm  \\\n",
       "0  [5703832, 397896, 1404121, 1082185, 999999]   \n",
       "1  [5703832, 397896, 1404121, 1082185, 999999]   \n",
       "2  [5703832, 397896, 1404121, 1082185, 999999]   \n",
       "3  [5703832, 397896, 1404121, 1082185, 999999]   \n",
       "4  [5703832, 397896, 1404121, 1082185, 999999]   \n",
       "\n",
       "                            lightfm_user_feats  \\\n",
       "0  [397896, 2690723, 1404121, 1082185, 999999]   \n",
       "1  [397896, 2690723, 1404121, 1082185, 999999]   \n",
       "2  [397896, 2690723, 1404121, 1082185, 999999]   \n",
       "3  [397896, 2690723, 1404121, 1082185, 999999]   \n",
       "4  [397896, 2690723, 1404121, 1082185, 999999]   \n",
       "\n",
       "                       fast_lightfm_user_feats  \\\n",
       "0  [397896, 2690723, 1404121, 1082185, 999999]   \n",
       "1  [397896, 2690723, 1404121, 1082185, 999999]   \n",
       "2  [397896, 2690723, 1404121, 1082185, 999999]   \n",
       "3  [397896, 2690723, 1404121, 1082185, 999999]   \n",
       "4  [397896, 2690723, 1404121, 1082185, 999999]   \n",
       "\n",
       "                                      lightfm_hparms  \\\n",
       "0  [1082185, 999999, 12518330, 5668996, 6410462, ...   \n",
       "1  [1082185, 999999, 12518330, 1404121, 6410462, ...   \n",
       "2  [1082185, 999999, 12518330, 5850988, 6534178, ...   \n",
       "3  [1082185, 999999, 12518330, 1404121, 6410462, ...   \n",
       "4  [1082185, 999999, 12518330, 1404121, 5747420, ...   \n",
       "\n",
       "                                lightfm_weighted  \n",
       "0  [1126899, 1106523, 1070820, 1029743, 1065979]  \n",
       "1  [1070820, 1029743, 1126899, 1106523, 1056212]  \n",
       "2  [1126899, 1029743, 1106523, 1070820, 1056212]  \n",
       "3  [1070820, 1029743, 1126899, 1106523, 1056212]  \n",
       "4   [1126899, 1070820, 1106523, 1029743, 936830]  "
      ]
     },
     "execution_count": 496,
     "metadata": {},
     "output_type": "execute_result"
    }
   ],
   "source": [
    "result.head()"
   ]
  },
  {
   "cell_type": "code",
   "execution_count": 497,
   "metadata": {},
   "outputs": [
    {
     "data": {
      "text/plain": [
       "0.09147894221351617"
      ]
     },
     "execution_count": 497,
     "metadata": {},
     "output_type": "execute_result"
    }
   ],
   "source": [
    "v_precision_at_k(result.lightfm_weighted, result.actual).mean()"
   ]
  },
  {
   "cell_type": "code",
   "execution_count": 498,
   "metadata": {},
   "outputs": [],
   "source": [
    "# Медленно, но верно продвигаемся к отметке 10% )) взвешивание дает эффект. С ним в будущем можно повозиться"
   ]
  },
  {
   "cell_type": "code",
   "execution_count": 499,
   "metadata": {},
   "outputs": [
    {
     "data": {
      "text/html": [
       "<div>\n",
       "<style scoped>\n",
       "    .dataframe tbody tr th:only-of-type {\n",
       "        vertical-align: middle;\n",
       "    }\n",
       "\n",
       "    .dataframe tbody tr th {\n",
       "        vertical-align: top;\n",
       "    }\n",
       "\n",
       "    .dataframe thead th {\n",
       "        text-align: right;\n",
       "    }\n",
       "</style>\n",
       "<table border=\"1\" class=\"dataframe\">\n",
       "  <thead>\n",
       "    <tr style=\"text-align: right;\">\n",
       "      <th></th>\n",
       "      <th>item_id</th>\n",
       "      <th>manufacturer</th>\n",
       "      <th>department</th>\n",
       "      <th>brand</th>\n",
       "      <th>commodity_desc</th>\n",
       "      <th>sub_commodity_desc</th>\n",
       "      <th>curr_size_of_product</th>\n",
       "    </tr>\n",
       "  </thead>\n",
       "  <tbody>\n",
       "    <tr>\n",
       "      <th>40507</th>\n",
       "      <td>1126899</td>\n",
       "      <td>69</td>\n",
       "      <td>GROCERY</td>\n",
       "      <td>Private</td>\n",
       "      <td>FLUID MILK PRODUCTS</td>\n",
       "      <td>FLUID MILK WHITE ONLY</td>\n",
       "      <td>1 GA</td>\n",
       "    </tr>\n",
       "  </tbody>\n",
       "</table>\n",
       "</div>"
      ],
      "text/plain": [
       "       item_id  manufacturer department    brand       commodity_desc  \\\n",
       "40507  1126899            69    GROCERY  Private  FLUID MILK PRODUCTS   \n",
       "\n",
       "          sub_commodity_desc curr_size_of_product  \n",
       "40507  FLUID MILK WHITE ONLY                 1 GA  "
      ]
     },
     "execution_count": 499,
     "metadata": {},
     "output_type": "execute_result"
    }
   ],
   "source": [
    "item_features[item_features['item_id']==1126899]"
   ]
  },
  {
   "cell_type": "code",
   "execution_count": 500,
   "metadata": {},
   "outputs": [
    {
     "data": {
      "text/html": [
       "<div>\n",
       "<style scoped>\n",
       "    .dataframe tbody tr th:only-of-type {\n",
       "        vertical-align: middle;\n",
       "    }\n",
       "\n",
       "    .dataframe tbody tr th {\n",
       "        vertical-align: top;\n",
       "    }\n",
       "\n",
       "    .dataframe thead th {\n",
       "        text-align: right;\n",
       "    }\n",
       "</style>\n",
       "<table border=\"1\" class=\"dataframe\">\n",
       "  <thead>\n",
       "    <tr style=\"text-align: right;\">\n",
       "      <th></th>\n",
       "      <th>item_id</th>\n",
       "      <th>manufacturer</th>\n",
       "      <th>department</th>\n",
       "      <th>brand</th>\n",
       "      <th>commodity_desc</th>\n",
       "      <th>sub_commodity_desc</th>\n",
       "      <th>curr_size_of_product</th>\n",
       "    </tr>\n",
       "  </thead>\n",
       "  <tbody>\n",
       "    <tr>\n",
       "      <th>38262</th>\n",
       "      <td>1106523</td>\n",
       "      <td>69</td>\n",
       "      <td>GROCERY</td>\n",
       "      <td>Private</td>\n",
       "      <td>FLUID MILK PRODUCTS</td>\n",
       "      <td>FLUID MILK WHITE ONLY</td>\n",
       "      <td>1 GA</td>\n",
       "    </tr>\n",
       "  </tbody>\n",
       "</table>\n",
       "</div>"
      ],
      "text/plain": [
       "       item_id  manufacturer department    brand       commodity_desc  \\\n",
       "38262  1106523            69    GROCERY  Private  FLUID MILK PRODUCTS   \n",
       "\n",
       "          sub_commodity_desc curr_size_of_product  \n",
       "38262  FLUID MILK WHITE ONLY                 1 GA  "
      ]
     },
     "execution_count": 500,
     "metadata": {},
     "output_type": "execute_result"
    }
   ],
   "source": [
    "item_features[item_features['item_id']==1106523]"
   ]
  },
  {
   "cell_type": "code",
   "execution_count": 501,
   "metadata": {},
   "outputs": [],
   "source": [
    "# На этот раз в лидерах - молоко. Вот теперь возникает серъезное желание пре-фильтровать таки популярные товары.."
   ]
  },
  {
   "cell_type": "code",
   "execution_count": null,
   "metadata": {},
   "outputs": [],
   "source": []
  },
  {
   "cell_type": "markdown",
   "metadata": {},
   "source": [
    "## Уберем еще и самые популярные товары"
   ]
  },
  {
   "cell_type": "code",
   "execution_count": 563,
   "metadata": {},
   "outputs": [],
   "source": [
    "popularity = data_train.groupby('item_id')['user_id'].nunique().reset_index()\n",
    "popularity['user_id'] = popularity['user_id'] / data_train['user_id'].nunique()\n",
    "popularity.rename(columns={'user_id': 'share_unique_users'}, inplace=True)\n",
    "\n",
    "top_popular = popularity[popularity['share_unique_users'] > 0.5].item_id.tolist()"
   ]
  },
  {
   "cell_type": "code",
   "execution_count": 564,
   "metadata": {},
   "outputs": [
    {
     "name": "stderr",
     "output_type": "stream",
     "text": [
      "/Users/postas/Anaconda/anaconda3/lib/python3.8/site-packages/pandas/core/indexing.py:966: SettingWithCopyWarning: \n",
      "A value is trying to be set on a copy of a slice from a DataFrame.\n",
      "Try using .loc[row_indexer,col_indexer] = value instead\n",
      "\n",
      "See the caveats in the documentation: https://pandas.pydata.org/pandas-docs/stable/user_guide/indexing.html#returning-a-view-versus-a-copy\n",
      "  self.obj[item] = s\n"
     ]
    }
   ],
   "source": [
    "data_train.loc[data_train['item_id'].isin(top_popular), 'item_id'] = 999999"
   ]
  },
  {
   "cell_type": "code",
   "execution_count": 565,
   "metadata": {},
   "outputs": [],
   "source": [
    "user_item_matrix = pd.pivot_table(data_train, \n",
    "                                  index='user_id', columns='item_id', \n",
    "                                  values='quantity', \n",
    "                                  aggfunc='count', \n",
    "                                  fill_value=0\n",
    "                                 )"
   ]
  },
  {
   "cell_type": "code",
   "execution_count": 566,
   "metadata": {},
   "outputs": [
    {
     "data": {
      "text/plain": [
       "(2499, 4992)"
      ]
     },
     "execution_count": 566,
     "metadata": {},
     "output_type": "execute_result"
    }
   ],
   "source": [
    "user_item_matrix.shape"
   ]
  },
  {
   "cell_type": "code",
   "execution_count": 567,
   "metadata": {},
   "outputs": [],
   "source": [
    "# Ну ок. Выкинулось еще 10 каких-то товаров"
   ]
  },
  {
   "cell_type": "code",
   "execution_count": 568,
   "metadata": {},
   "outputs": [],
   "source": [
    "user_item_matrix = user_item_matrix.astype(float)"
   ]
  },
  {
   "cell_type": "code",
   "execution_count": 569,
   "metadata": {},
   "outputs": [],
   "source": [
    "userids = user_item_matrix.index.values\n",
    "itemids = user_item_matrix.columns.values\n",
    "\n",
    "matrix_userids = np.arange(len(userids))\n",
    "matrix_itemids = np.arange(len(itemids))\n",
    "\n",
    "id_to_itemid = dict(zip(matrix_itemids, itemids))\n",
    "id_to_userid = dict(zip(matrix_userids, userids))\n",
    "\n",
    "itemid_to_id = dict(zip(itemids, matrix_itemids))\n",
    "userid_to_id = dict(zip(userids, matrix_userids))"
   ]
  },
  {
   "cell_type": "code",
   "execution_count": 570,
   "metadata": {},
   "outputs": [
    {
     "data": {
      "text/html": [
       "<div>\n",
       "<style scoped>\n",
       "    .dataframe tbody tr th:only-of-type {\n",
       "        vertical-align: middle;\n",
       "    }\n",
       "\n",
       "    .dataframe tbody tr th {\n",
       "        vertical-align: top;\n",
       "    }\n",
       "\n",
       "    .dataframe thead th {\n",
       "        text-align: right;\n",
       "    }\n",
       "</style>\n",
       "<table border=\"1\" class=\"dataframe\">\n",
       "  <thead>\n",
       "    <tr style=\"text-align: right;\">\n",
       "      <th></th>\n",
       "      <th>manufacturer</th>\n",
       "      <th>department</th>\n",
       "      <th>brand</th>\n",
       "      <th>commodity_desc</th>\n",
       "      <th>sub_commodity_desc</th>\n",
       "      <th>curr_size_of_product</th>\n",
       "    </tr>\n",
       "    <tr>\n",
       "      <th>item_id</th>\n",
       "      <th></th>\n",
       "      <th></th>\n",
       "      <th></th>\n",
       "      <th></th>\n",
       "      <th></th>\n",
       "      <th></th>\n",
       "    </tr>\n",
       "  </thead>\n",
       "  <tbody>\n",
       "    <tr>\n",
       "      <th>202291</th>\n",
       "      <td>69.0</td>\n",
       "      <td>MISC SALES TRAN</td>\n",
       "      <td>Private</td>\n",
       "      <td>COUPON/MISC ITEMS</td>\n",
       "      <td>GASOLINE-REG UNLEADED</td>\n",
       "      <td></td>\n",
       "    </tr>\n",
       "    <tr>\n",
       "      <th>397896</th>\n",
       "      <td>69.0</td>\n",
       "      <td>KIOSK-GAS</td>\n",
       "      <td>Private</td>\n",
       "      <td>COUPON/MISC ITEMS</td>\n",
       "      <td>GASOLINE-REG UNLEADED</td>\n",
       "      <td></td>\n",
       "    </tr>\n",
       "  </tbody>\n",
       "</table>\n",
       "</div>"
      ],
      "text/plain": [
       "         manufacturer       department    brand     commodity_desc  \\\n",
       "item_id                                                              \n",
       "202291           69.0  MISC SALES TRAN  Private  COUPON/MISC ITEMS   \n",
       "397896           69.0        KIOSK-GAS  Private  COUPON/MISC ITEMS   \n",
       "\n",
       "            sub_commodity_desc curr_size_of_product  \n",
       "item_id                                              \n",
       "202291   GASOLINE-REG UNLEADED                       \n",
       "397896   GASOLINE-REG UNLEADED                       "
      ]
     },
     "execution_count": 570,
     "metadata": {},
     "output_type": "execute_result"
    }
   ],
   "source": [
    "# Товарные фичи надо наверное пересобрать... Хотя - может даже и не надо.. \n",
    "# мы же убрали какие-то товары из интеракций - если на них есть фичи - это не должно наверное повлиять \n",
    "# поидее они просто не будут использоваться \n",
    "\n",
    "item_feat = pd.DataFrame(user_item_matrix.columns)\n",
    "item_feat = item_feat.merge(item_features, on='item_id', how='left')\n",
    "item_feat.set_index('item_id', inplace=True)\n",
    "\n",
    "item_feat.head(2)"
   ]
  },
  {
   "cell_type": "code",
   "execution_count": 571,
   "metadata": {},
   "outputs": [],
   "source": [
    "item_feat_lightfm = pd.get_dummies(item_feat, columns=item_feat.columns.tolist())"
   ]
  },
  {
   "cell_type": "code",
   "execution_count": 572,
   "metadata": {},
   "outputs": [],
   "source": [
    "# Взвесим\n",
    "weighted_matrix = bm25_weight(user_item_matrix)"
   ]
  },
  {
   "cell_type": "code",
   "execution_count": 573,
   "metadata": {},
   "outputs": [],
   "source": [
    "model = LightFM(no_components=70,\n",
    "                loss='bpr',\n",
    "                learning_rate=0.0001, \n",
    "                item_alpha=0.01, user_alpha=0.01, \n",
    "                random_state=100)"
   ]
  },
  {
   "cell_type": "code",
   "execution_count": 574,
   "metadata": {},
   "outputs": [
    {
     "name": "stdout",
     "output_type": "stream",
     "text": [
      "CPU times: user 2min 57s, sys: 1.02 s, total: 2min 58s\n",
      "Wall time: 2min 59s\n"
     ]
    },
    {
     "data": {
      "text/plain": [
       "<lightfm.lightfm.LightFM at 0x7fb11fdf40d0>"
      ]
     },
     "execution_count": 574,
     "metadata": {},
     "output_type": "execute_result"
    }
   ],
   "source": [
    "%%time\n",
    "model.fit((csr_matrix(user_item_matrix).tocsr() > 0) * 1,  # user-item matrix из 0 и 1\n",
    "          sample_weight=coo_matrix(weighted_matrix),\n",
    "          user_features=csr_matrix(user_feat_lightfm.values).tocsr(),\n",
    "          item_features=csr_matrix(item_feat_lightfm.values).tocsr(),\n",
    "          epochs=20, num_threads=4)"
   ]
  },
  {
   "cell_type": "code",
   "execution_count": 575,
   "metadata": {},
   "outputs": [
    {
     "name": "stdout",
     "output_type": "stream",
     "text": [
      "CPU times: user 2min 55s, sys: 673 ms, total: 2min 55s\n",
      "Wall time: 2min 56s\n"
     ]
    }
   ],
   "source": [
    "%%time\n",
    "result['lightfm_wo_pop'] = result['user_id'].apply(lambda x: \n",
    "                        v_to_item_id(\n",
    "                            np.argsort(\n",
    "                                model.predict(int(userid_to_id[x]), matrix_itemids, \n",
    "                                              user_features=csr_matrix(user_feat_lightfm.values).tocsr(), \n",
    "                                              item_features=csr_matrix(item_feat_lightfm.values).tocsr(),\n",
    "                                              num_threads=4)\n",
    "                            )[-5:])[::-1])"
   ]
  },
  {
   "cell_type": "code",
   "execution_count": 576,
   "metadata": {},
   "outputs": [
    {
     "data": {
      "text/html": [
       "<div>\n",
       "<style scoped>\n",
       "    .dataframe tbody tr th:only-of-type {\n",
       "        vertical-align: middle;\n",
       "    }\n",
       "\n",
       "    .dataframe tbody tr th {\n",
       "        vertical-align: top;\n",
       "    }\n",
       "\n",
       "    .dataframe thead th {\n",
       "        text-align: right;\n",
       "    }\n",
       "</style>\n",
       "<table border=\"1\" class=\"dataframe\">\n",
       "  <thead>\n",
       "    <tr style=\"text-align: right;\">\n",
       "      <th></th>\n",
       "      <th>user_id</th>\n",
       "      <th>actual</th>\n",
       "      <th>fast_lightfm</th>\n",
       "      <th>lightfm</th>\n",
       "      <th>lightfm_user_feats</th>\n",
       "      <th>fast_lightfm_user_feats</th>\n",
       "      <th>lightfm_hparms</th>\n",
       "      <th>lightfm_weighted</th>\n",
       "      <th>lightfm_wo_pop</th>\n",
       "    </tr>\n",
       "  </thead>\n",
       "  <tbody>\n",
       "    <tr>\n",
       "      <th>0</th>\n",
       "      <td>1</td>\n",
       "      <td>[821867, 834484, 856942, 865456, 889248, 90795...</td>\n",
       "      <td>[5703832, 397896, 1404121, 1082185, 999999]</td>\n",
       "      <td>[5703832, 397896, 1404121, 1082185, 999999]</td>\n",
       "      <td>[397896, 2690723, 1404121, 1082185, 999999]</td>\n",
       "      <td>[397896, 2690723, 1404121, 1082185, 999999]</td>\n",
       "      <td>[1082185, 999999, 12518330, 5668996, 6410462, ...</td>\n",
       "      <td>[1126899, 1106523, 1070820, 1029743, 1065979]</td>\n",
       "      <td>[1126899, 1106523, 1070820, 1065979, 936830]</td>\n",
       "    </tr>\n",
       "    <tr>\n",
       "      <th>1</th>\n",
       "      <td>3</td>\n",
       "      <td>[835476, 851057, 872021, 878302, 879948, 90963...</td>\n",
       "      <td>[5703832, 397896, 1404121, 1082185, 999999]</td>\n",
       "      <td>[5703832, 397896, 1404121, 1082185, 999999]</td>\n",
       "      <td>[397896, 2690723, 1404121, 1082185, 999999]</td>\n",
       "      <td>[397896, 2690723, 1404121, 1082185, 999999]</td>\n",
       "      <td>[1082185, 999999, 12518330, 1404121, 6410462, ...</td>\n",
       "      <td>[1070820, 1029743, 1126899, 1106523, 1056212]</td>\n",
       "      <td>[1106523, 1070820, 1126899, 936830, 1056212]</td>\n",
       "    </tr>\n",
       "    <tr>\n",
       "      <th>2</th>\n",
       "      <td>6</td>\n",
       "      <td>[920308, 926804, 946489, 1006718, 1017061, 107...</td>\n",
       "      <td>[5703832, 397896, 1404121, 1082185, 999999]</td>\n",
       "      <td>[5703832, 397896, 1404121, 1082185, 999999]</td>\n",
       "      <td>[397896, 2690723, 1404121, 1082185, 999999]</td>\n",
       "      <td>[397896, 2690723, 1404121, 1082185, 999999]</td>\n",
       "      <td>[1082185, 999999, 12518330, 5850988, 6534178, ...</td>\n",
       "      <td>[1126899, 1029743, 1106523, 1070820, 1056212]</td>\n",
       "      <td>[1070820, 1126899, 1106523, 1056212, 936830]</td>\n",
       "    </tr>\n",
       "    <tr>\n",
       "      <th>3</th>\n",
       "      <td>7</td>\n",
       "      <td>[840386, 889774, 898068, 909714, 929067, 95347...</td>\n",
       "      <td>[5703832, 397896, 1404121, 1082185, 999999]</td>\n",
       "      <td>[5703832, 397896, 1404121, 1082185, 999999]</td>\n",
       "      <td>[397896, 2690723, 1404121, 1082185, 999999]</td>\n",
       "      <td>[397896, 2690723, 1404121, 1082185, 999999]</td>\n",
       "      <td>[1082185, 999999, 12518330, 1404121, 6410462, ...</td>\n",
       "      <td>[1070820, 1029743, 1126899, 1106523, 1056212]</td>\n",
       "      <td>[1106523, 1126899, 1070820, 936830, 1065979]</td>\n",
       "    </tr>\n",
       "    <tr>\n",
       "      <th>4</th>\n",
       "      <td>8</td>\n",
       "      <td>[835098, 872137, 910439, 924610, 992977, 10412...</td>\n",
       "      <td>[5703832, 397896, 1404121, 1082185, 999999]</td>\n",
       "      <td>[5703832, 397896, 1404121, 1082185, 999999]</td>\n",
       "      <td>[397896, 2690723, 1404121, 1082185, 999999]</td>\n",
       "      <td>[397896, 2690723, 1404121, 1082185, 999999]</td>\n",
       "      <td>[1082185, 999999, 12518330, 1404121, 5747420, ...</td>\n",
       "      <td>[1126899, 1070820, 1106523, 1029743, 936830]</td>\n",
       "      <td>[1126899, 1070820, 1106523, 1065979, 936830]</td>\n",
       "    </tr>\n",
       "  </tbody>\n",
       "</table>\n",
       "</div>"
      ],
      "text/plain": [
       "   user_id                                             actual  \\\n",
       "0        1  [821867, 834484, 856942, 865456, 889248, 90795...   \n",
       "1        3  [835476, 851057, 872021, 878302, 879948, 90963...   \n",
       "2        6  [920308, 926804, 946489, 1006718, 1017061, 107...   \n",
       "3        7  [840386, 889774, 898068, 909714, 929067, 95347...   \n",
       "4        8  [835098, 872137, 910439, 924610, 992977, 10412...   \n",
       "\n",
       "                                  fast_lightfm  \\\n",
       "0  [5703832, 397896, 1404121, 1082185, 999999]   \n",
       "1  [5703832, 397896, 1404121, 1082185, 999999]   \n",
       "2  [5703832, 397896, 1404121, 1082185, 999999]   \n",
       "3  [5703832, 397896, 1404121, 1082185, 999999]   \n",
       "4  [5703832, 397896, 1404121, 1082185, 999999]   \n",
       "\n",
       "                                       lightfm  \\\n",
       "0  [5703832, 397896, 1404121, 1082185, 999999]   \n",
       "1  [5703832, 397896, 1404121, 1082185, 999999]   \n",
       "2  [5703832, 397896, 1404121, 1082185, 999999]   \n",
       "3  [5703832, 397896, 1404121, 1082185, 999999]   \n",
       "4  [5703832, 397896, 1404121, 1082185, 999999]   \n",
       "\n",
       "                            lightfm_user_feats  \\\n",
       "0  [397896, 2690723, 1404121, 1082185, 999999]   \n",
       "1  [397896, 2690723, 1404121, 1082185, 999999]   \n",
       "2  [397896, 2690723, 1404121, 1082185, 999999]   \n",
       "3  [397896, 2690723, 1404121, 1082185, 999999]   \n",
       "4  [397896, 2690723, 1404121, 1082185, 999999]   \n",
       "\n",
       "                       fast_lightfm_user_feats  \\\n",
       "0  [397896, 2690723, 1404121, 1082185, 999999]   \n",
       "1  [397896, 2690723, 1404121, 1082185, 999999]   \n",
       "2  [397896, 2690723, 1404121, 1082185, 999999]   \n",
       "3  [397896, 2690723, 1404121, 1082185, 999999]   \n",
       "4  [397896, 2690723, 1404121, 1082185, 999999]   \n",
       "\n",
       "                                      lightfm_hparms  \\\n",
       "0  [1082185, 999999, 12518330, 5668996, 6410462, ...   \n",
       "1  [1082185, 999999, 12518330, 1404121, 6410462, ...   \n",
       "2  [1082185, 999999, 12518330, 5850988, 6534178, ...   \n",
       "3  [1082185, 999999, 12518330, 1404121, 6410462, ...   \n",
       "4  [1082185, 999999, 12518330, 1404121, 5747420, ...   \n",
       "\n",
       "                                lightfm_weighted  \\\n",
       "0  [1126899, 1106523, 1070820, 1029743, 1065979]   \n",
       "1  [1070820, 1029743, 1126899, 1106523, 1056212]   \n",
       "2  [1126899, 1029743, 1106523, 1070820, 1056212]   \n",
       "3  [1070820, 1029743, 1126899, 1106523, 1056212]   \n",
       "4   [1126899, 1070820, 1106523, 1029743, 936830]   \n",
       "\n",
       "                                 lightfm_wo_pop  \n",
       "0  [1126899, 1106523, 1070820, 1065979, 936830]  \n",
       "1  [1106523, 1070820, 1126899, 936830, 1056212]  \n",
       "2  [1070820, 1126899, 1106523, 1056212, 936830]  \n",
       "3  [1106523, 1126899, 1070820, 936830, 1065979]  \n",
       "4  [1126899, 1070820, 1106523, 1065979, 936830]  "
      ]
     },
     "execution_count": 576,
     "metadata": {},
     "output_type": "execute_result"
    }
   ],
   "source": [
    "result.head()"
   ]
  },
  {
   "cell_type": "code",
   "execution_count": 577,
   "metadata": {},
   "outputs": [
    {
     "data": {
      "text/plain": [
       "0.05171400587659158"
      ]
     },
     "execution_count": 577,
     "metadata": {},
     "output_type": "execute_result"
    }
   ],
   "source": [
    "v_precision_at_k(result.lightfm_wo_pop, result.actual).mean()"
   ]
  },
  {
   "cell_type": "code",
   "execution_count": null,
   "metadata": {},
   "outputs": [],
   "source": [
    "# Не вариант, похоже."
   ]
  }
 ],
 "metadata": {
  "kernelspec": {
   "display_name": "Python 3",
   "language": "python",
   "name": "python3"
  },
  "language_info": {
   "codemirror_mode": {
    "name": "ipython",
    "version": 3
   },
   "file_extension": ".py",
   "mimetype": "text/x-python",
   "name": "python",
   "nbconvert_exporter": "python",
   "pygments_lexer": "ipython3",
   "version": "3.8.3"
  }
 },
 "nbformat": 4,
 "nbformat_minor": 4
}
